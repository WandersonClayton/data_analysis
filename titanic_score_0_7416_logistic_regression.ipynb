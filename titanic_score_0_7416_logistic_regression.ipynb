{
  "metadata": {
    "kernelspec": {
      "language": "python",
      "display_name": "Python 3",
      "name": "python3"
    },
    "language_info": {
      "name": "python",
      "version": "3.7.12",
      "mimetype": "text/x-python",
      "codemirror_mode": {
        "name": "ipython",
        "version": 3
      },
      "pygments_lexer": "ipython3",
      "nbconvert_exporter": "python",
      "file_extension": ".py"
    },
    "colab": {
      "provenance": [],
      "include_colab_link": true
    }
  },
  "nbformat_minor": 0,
  "nbformat": 4,
  "cells": [
    {
      "cell_type": "markdown",
      "metadata": {
        "id": "view-in-github",
        "colab_type": "text"
      },
      "source": [
        "<a href=\"https://colab.research.google.com/github/WandersonClayton/data_analysis/blob/main/titanic_score_0_7416_logistic_regression.ipynb\" target=\"_parent\"><img src=\"https://colab.research.google.com/assets/colab-badge.svg\" alt=\"Open In Colab\"/></a>"
      ]
    },
    {
      "cell_type": "code",
      "source": [
        "\n",
        "import os\n",
        "for dirname, _, filenames in os.walk('/kaggle/input'):\n",
        "    for filename in filenames:\n",
        "        print(os.path.join(dirname, filename))\n"
      ],
      "metadata": {
        "execution": {
          "iopub.status.busy": "2023-06-20T10:25:38.677445Z",
          "iopub.execute_input": "2023-06-20T10:25:38.678082Z",
          "iopub.status.idle": "2023-06-20T10:25:38.724849Z",
          "shell.execute_reply.started": "2023-06-20T10:25:38.678033Z",
          "shell.execute_reply": "2023-06-20T10:25:38.723314Z"
        },
        "trusted": true,
        "id": "1ZVgMKioj6gy"
      },
      "execution_count": 5,
      "outputs": []
    },
    {
      "cell_type": "markdown",
      "source": [
        "# <font color=\"#F24405\">Titanic Score 0,7416 Logistic Regression</font>\n",
        "<hr color=\"#0CABA8\" size=\"1\">\n",
        "\n",
        "\n",
        "**Por: [Wanderson Clayton](https://www.linkedin.com/in/wandersonclayton3/)**\n",
        "\n",
        "<span>\n",
        "  <a href=\"https://api.whatsapp.com/send?phone=5534998771247\">\n",
        "    <img src=\"https://img.icons8.com/material-outlined/24/000000/whatsapp.png\"/>\n",
        "  </a>\n",
        "  <a href=\"https://www.linkedin.com/in/wandersonclayton3\">\n",
        "    <img src=\"https://img.icons8.com/material-outlined/24/000000/linkedin.png\"/>\n",
        "  </a>\n",
        "  <a href=\"https://github.com/WandersonClayton\">\n",
        "    <img src=\"https://img.icons8.com/material-outlined/24/000000/github.png\"/>\n",
        "  </a>\n",
        "</span>\n",
        "\n",
        "<hr color=\"#F5F5F5\" size=\"2\">\n",
        "\n",
        "\"Este notebook tem como objetivo realizar a análise de dados e aplicar modelo de machine learning para prever, com base em diversos fatores, quais pessoas sobreviveram ou não ao desastre.\"\n",
        "\n",
        "<div style=\"display:inline-block;vertical-align:top;\">\n",
        "<h2>Sumário:</h2>\n",
        "<ul>\n",
        "    <li><a href=\"#contexto-projeto\">1. Sobre o contexto do projeto </a></li>\n",
        "    <li><a href=\"#install-pack\">2. Instalação e carregamento de pacotes </a></li>\n",
        "    <li><a href=\"#conhecendo_dados\">3. Carregando e conhecendo dados </a></li>\n",
        "    <li><a href=\"#limpando_dados\">4. Limpeza de dados </a></li>\n",
        "    <li><a href=\"#explorando_dados\">5. Análise Exploratória de dados (EDA)</a></li>\n",
        "    <li><a href=\"#preparar_modelagem\">6. Preparar dados para modelagem </a></li>\n",
        "    <li><a href=\"#aplicando_logisicRegression\">7. Criando modelo de machine learning (Regressão Logistica)</a></li>\n",
        "    <li><a href=\"#submission\">8. Realizando submissão do projeto</a></li>\n",
        "    <li><a href=\"#relatorio\">9. Relatório</a></li>\n",
        "</ul>\n",
        "</div>\n",
        "\n",
        "<a id='contexto-projeto'></a>\n",
        "# <font color=\"#FA7F08\">1. Sobre o Contexto do Projeto</font>\n",
        "<hr color=\"#F5F5F5\" size=\"1\">\n",
        "\n",
        "### <font color=\"#22BABB\">Realizar analise afim de identificar quais pessoas sobreviveram ou não ao desastre com base entre diversos fatores.</font>\n",
        "\n",
        "O naufrágio do Titanic é um dos naufrágios mais infames da história.\n",
        "\n",
        "Em 15 de abril de 1912, durante sua viagem inaugural, o amplamente considerado “inafundável” RMS Titanic afundou após colidir com um iceberg. Infelizmente, não havia botes salva-vidas suficientes para todos a bordo, resultando na morte de 1.502 dos 2.224 passageiros e tripulantes.\n",
        "\n",
        "Embora houvesse algum elemento de sorte envolvido na sobrevivência, parece que alguns grupos de pessoas eram mais propensos a sobreviver do que outros.\n",
        "\n",
        "Neste desafio, pedimos que você construa um modelo preditivo que responda à pergunta: “que tipo de pessoa tem maior probabilidade de sobreviver?” usando os dados do passageiro (ou seja, nome, idade, sexo, classe socioeconômica, etc).\n",
        "\n",
        "<div class=\"alert alert-info\">\n",
        "<strong><div style=\"color: rgb(0, 0, 0);\">📌 Os principais objetivos na aprendizagem deste projeto: </div></strong> <br>\n",
        "<div style=\"color: rgb(0, 0, 0);\">→ Realizar limpeza e tratamento de dados; </div>\n",
        "<div style=\"color: rgb(0, 0, 0);\">→ Realizar análise exploratória;</div>\n",
        "<div style=\"color: rgb(0, 0, 0);\">→ Aplicar modelo de machine learning de regressão logística; e</div>\n",
        "<div style=\"color: rgb(0, 0, 0);\">→ Desenvolver relatório com pontos importantes para os tomadores de decisões.</div>\n",
        "</div>\n",
        "\n",
        "<a id='descricao-variaveis'></a>\n",
        "### <font color=\"#F24405\"> Descrição das Variáveis do Dataset</font>\n",
        "<hr color=\"#F5F5F5\" size=\"1\">\n",
        "\n",
        "| Variável | Descrição |\n",
        "| --- | --- |\n",
        "| **PassengerId** | Identificador único para cada candidato |\n",
        "| **Survived** | Sobrevivência; 0 = Não, 1 = Sim |\n",
        "| **pclass** | Classe socioeconômica; 1 = Superior; 2 = Médio; 3 = Baixo |\n",
        "| **sex** | Gênero do passageiro |\n",
        "| **Age** | Idade |\n",
        "| **sibsp** | Nº de irmãos/cônjuges a bordo do Titanic |\n",
        "| **parch** | Nº de pais/filhos a bordo do Titanic |\n",
        "| **ticket** | Número do bilhete |\n",
        "| **fare** | Tarifa de passageiro |\n",
        "| **cabin** | Número da cabine |\n",
        "| **embarked** | Porto de embarcação\tC = Cherbourg, Q = Queenstown, S = Southampton |\n"
      ],
      "metadata": {
        "id": "C-MMSLznj6g1"
      }
    },
    {
      "cell_type": "markdown",
      "source": [
        "<a id='install-pack'></a>\n",
        "# <font color=\"#FA7F08\">1. Instalação e carregamento de pacotes</font>\n",
        "<hr color=\"#F5F5F5\" size=\"1\">"
      ],
      "metadata": {
        "id": "35EBsJRKj6g3"
      }
    },
    {
      "cell_type": "code",
      "source": [
        "import sys\n",
        "import pandas as pd\n",
        "import numpy as np\n",
        "import matplotlib.pyplot as plt\n",
        "\n",
        "sys.path.append('/kaggle/input/module-da/')\n",
        "\n",
        "import data_type_conversion\n",
        "import missing_values\n",
        "import outlier_treatment\n",
        "\n",
        "import seaborn as sns\n",
        "import matplotlib.pyplot as plt\n",
        "import re\n",
        "\n",
        "from sklearn.linear_model import LogisticRegression\n",
        "from sklearn.model_selection import train_test_split\n",
        "from sklearn.metrics import accuracy_score\n",
        "from sklearn.preprocessing import LabelEncoder\n",
        "\n",
        "#Pck para ignorar Warning\n",
        "import sys\n",
        "import warnings\n",
        "if not sys.warnoptions:\n",
        "    warnings.simplefilter(\"ignore\")\n",
        "\n",
        "print('import de pack - ok!')\n",
        "\n"
      ],
      "metadata": {
        "execution": {
          "iopub.status.busy": "2023-06-20T10:25:38.727502Z",
          "iopub.execute_input": "2023-06-20T10:25:38.727964Z",
          "iopub.status.idle": "2023-06-20T10:25:39.926420Z",
          "shell.execute_reply.started": "2023-06-20T10:25:38.727875Z",
          "shell.execute_reply": "2023-06-20T10:25:39.924779Z"
        },
        "trusted": true,
        "colab": {
          "base_uri": "https://localhost:8080/"
        },
        "id": "y7vhP4-wj6g4",
        "outputId": "6c8f652a-ccc0-48cc-b058-ec8823bc2887"
      },
      "execution_count": 6,
      "outputs": [
        {
          "output_type": "stream",
          "name": "stdout",
          "text": [
            "import de pack - ok!\n"
          ]
        }
      ]
    },
    {
      "cell_type": "markdown",
      "source": [
        "<a id='conhecendo_dados'></a>\n",
        "# <font color=\"#FA7F08\">3. Carregando e conhecendo dados</font>\n",
        "<hr color=\"#F5F5F5\" size=\"1\">\n"
      ],
      "metadata": {
        "id": "W65GjfAOj6g5"
      }
    },
    {
      "cell_type": "code",
      "source": [
        "\n",
        "df_titanic_test = pd.read_csv('/content/test.csv')\n",
        "df_titanic_traim = pd.read_csv('/content/train.csv')\n",
        "df_titanic_traim.head()"
      ],
      "metadata": {
        "execution": {
          "iopub.status.busy": "2023-06-20T10:25:39.928492Z",
          "iopub.execute_input": "2023-06-20T10:25:39.928883Z",
          "iopub.status.idle": "2023-06-20T10:25:40.000968Z",
          "shell.execute_reply.started": "2023-06-20T10:25:39.928848Z",
          "shell.execute_reply": "2023-06-20T10:25:39.999526Z"
        },
        "trusted": true,
        "colab": {
          "base_uri": "https://localhost:8080/",
          "height": 206
        },
        "id": "ZBjGJumqj6g5",
        "outputId": "94d736bb-3b91-4b98-f717-006601febef8"
      },
      "execution_count": 7,
      "outputs": [
        {
          "output_type": "execute_result",
          "data": {
            "text/plain": [
              "   PassengerId  Survived  Pclass  \\\n",
              "0            1         0       3   \n",
              "1            2         1       1   \n",
              "2            3         1       3   \n",
              "3            4         1       1   \n",
              "4            5         0       3   \n",
              "\n",
              "                                                Name     Sex   Age  SibSp  \\\n",
              "0                            Braund, Mr. Owen Harris    male  22.0      1   \n",
              "1  Cumings, Mrs. John Bradley (Florence Briggs Th...  female  38.0      1   \n",
              "2                             Heikkinen, Miss. Laina  female  26.0      0   \n",
              "3       Futrelle, Mrs. Jacques Heath (Lily May Peel)  female  35.0      1   \n",
              "4                           Allen, Mr. William Henry    male  35.0      0   \n",
              "\n",
              "   Parch            Ticket     Fare Cabin Embarked  \n",
              "0      0         A/5 21171   7.2500   NaN        S  \n",
              "1      0          PC 17599  71.2833   C85        C  \n",
              "2      0  STON/O2. 3101282   7.9250   NaN        S  \n",
              "3      0            113803  53.1000  C123        S  \n",
              "4      0            373450   8.0500   NaN        S  "
            ],
            "text/html": [
              "\n",
              "  <div id=\"df-9c1d8ec7-9d9c-4cc5-9635-154b505ef078\">\n",
              "    <div class=\"colab-df-container\">\n",
              "      <div>\n",
              "<style scoped>\n",
              "    .dataframe tbody tr th:only-of-type {\n",
              "        vertical-align: middle;\n",
              "    }\n",
              "\n",
              "    .dataframe tbody tr th {\n",
              "        vertical-align: top;\n",
              "    }\n",
              "\n",
              "    .dataframe thead th {\n",
              "        text-align: right;\n",
              "    }\n",
              "</style>\n",
              "<table border=\"1\" class=\"dataframe\">\n",
              "  <thead>\n",
              "    <tr style=\"text-align: right;\">\n",
              "      <th></th>\n",
              "      <th>PassengerId</th>\n",
              "      <th>Survived</th>\n",
              "      <th>Pclass</th>\n",
              "      <th>Name</th>\n",
              "      <th>Sex</th>\n",
              "      <th>Age</th>\n",
              "      <th>SibSp</th>\n",
              "      <th>Parch</th>\n",
              "      <th>Ticket</th>\n",
              "      <th>Fare</th>\n",
              "      <th>Cabin</th>\n",
              "      <th>Embarked</th>\n",
              "    </tr>\n",
              "  </thead>\n",
              "  <tbody>\n",
              "    <tr>\n",
              "      <th>0</th>\n",
              "      <td>1</td>\n",
              "      <td>0</td>\n",
              "      <td>3</td>\n",
              "      <td>Braund, Mr. Owen Harris</td>\n",
              "      <td>male</td>\n",
              "      <td>22.0</td>\n",
              "      <td>1</td>\n",
              "      <td>0</td>\n",
              "      <td>A/5 21171</td>\n",
              "      <td>7.2500</td>\n",
              "      <td>NaN</td>\n",
              "      <td>S</td>\n",
              "    </tr>\n",
              "    <tr>\n",
              "      <th>1</th>\n",
              "      <td>2</td>\n",
              "      <td>1</td>\n",
              "      <td>1</td>\n",
              "      <td>Cumings, Mrs. John Bradley (Florence Briggs Th...</td>\n",
              "      <td>female</td>\n",
              "      <td>38.0</td>\n",
              "      <td>1</td>\n",
              "      <td>0</td>\n",
              "      <td>PC 17599</td>\n",
              "      <td>71.2833</td>\n",
              "      <td>C85</td>\n",
              "      <td>C</td>\n",
              "    </tr>\n",
              "    <tr>\n",
              "      <th>2</th>\n",
              "      <td>3</td>\n",
              "      <td>1</td>\n",
              "      <td>3</td>\n",
              "      <td>Heikkinen, Miss. Laina</td>\n",
              "      <td>female</td>\n",
              "      <td>26.0</td>\n",
              "      <td>0</td>\n",
              "      <td>0</td>\n",
              "      <td>STON/O2. 3101282</td>\n",
              "      <td>7.9250</td>\n",
              "      <td>NaN</td>\n",
              "      <td>S</td>\n",
              "    </tr>\n",
              "    <tr>\n",
              "      <th>3</th>\n",
              "      <td>4</td>\n",
              "      <td>1</td>\n",
              "      <td>1</td>\n",
              "      <td>Futrelle, Mrs. Jacques Heath (Lily May Peel)</td>\n",
              "      <td>female</td>\n",
              "      <td>35.0</td>\n",
              "      <td>1</td>\n",
              "      <td>0</td>\n",
              "      <td>113803</td>\n",
              "      <td>53.1000</td>\n",
              "      <td>C123</td>\n",
              "      <td>S</td>\n",
              "    </tr>\n",
              "    <tr>\n",
              "      <th>4</th>\n",
              "      <td>5</td>\n",
              "      <td>0</td>\n",
              "      <td>3</td>\n",
              "      <td>Allen, Mr. William Henry</td>\n",
              "      <td>male</td>\n",
              "      <td>35.0</td>\n",
              "      <td>0</td>\n",
              "      <td>0</td>\n",
              "      <td>373450</td>\n",
              "      <td>8.0500</td>\n",
              "      <td>NaN</td>\n",
              "      <td>S</td>\n",
              "    </tr>\n",
              "  </tbody>\n",
              "</table>\n",
              "</div>\n",
              "      <button class=\"colab-df-convert\" onclick=\"convertToInteractive('df-9c1d8ec7-9d9c-4cc5-9635-154b505ef078')\"\n",
              "              title=\"Convert this dataframe to an interactive table.\"\n",
              "              style=\"display:none;\">\n",
              "        \n",
              "  <svg xmlns=\"http://www.w3.org/2000/svg\" height=\"24px\"viewBox=\"0 0 24 24\"\n",
              "       width=\"24px\">\n",
              "    <path d=\"M0 0h24v24H0V0z\" fill=\"none\"/>\n",
              "    <path d=\"M18.56 5.44l.94 2.06.94-2.06 2.06-.94-2.06-.94-.94-2.06-.94 2.06-2.06.94zm-11 1L8.5 8.5l.94-2.06 2.06-.94-2.06-.94L8.5 2.5l-.94 2.06-2.06.94zm10 10l.94 2.06.94-2.06 2.06-.94-2.06-.94-.94-2.06-.94 2.06-2.06.94z\"/><path d=\"M17.41 7.96l-1.37-1.37c-.4-.4-.92-.59-1.43-.59-.52 0-1.04.2-1.43.59L10.3 9.45l-7.72 7.72c-.78.78-.78 2.05 0 2.83L4 21.41c.39.39.9.59 1.41.59.51 0 1.02-.2 1.41-.59l7.78-7.78 2.81-2.81c.8-.78.8-2.07 0-2.86zM5.41 20L4 18.59l7.72-7.72 1.47 1.35L5.41 20z\"/>\n",
              "  </svg>\n",
              "      </button>\n",
              "      \n",
              "  <style>\n",
              "    .colab-df-container {\n",
              "      display:flex;\n",
              "      flex-wrap:wrap;\n",
              "      gap: 12px;\n",
              "    }\n",
              "\n",
              "    .colab-df-convert {\n",
              "      background-color: #E8F0FE;\n",
              "      border: none;\n",
              "      border-radius: 50%;\n",
              "      cursor: pointer;\n",
              "      display: none;\n",
              "      fill: #1967D2;\n",
              "      height: 32px;\n",
              "      padding: 0 0 0 0;\n",
              "      width: 32px;\n",
              "    }\n",
              "\n",
              "    .colab-df-convert:hover {\n",
              "      background-color: #E2EBFA;\n",
              "      box-shadow: 0px 1px 2px rgba(60, 64, 67, 0.3), 0px 1px 3px 1px rgba(60, 64, 67, 0.15);\n",
              "      fill: #174EA6;\n",
              "    }\n",
              "\n",
              "    [theme=dark] .colab-df-convert {\n",
              "      background-color: #3B4455;\n",
              "      fill: #D2E3FC;\n",
              "    }\n",
              "\n",
              "    [theme=dark] .colab-df-convert:hover {\n",
              "      background-color: #434B5C;\n",
              "      box-shadow: 0px 1px 3px 1px rgba(0, 0, 0, 0.15);\n",
              "      filter: drop-shadow(0px 1px 2px rgba(0, 0, 0, 0.3));\n",
              "      fill: #FFFFFF;\n",
              "    }\n",
              "  </style>\n",
              "\n",
              "      <script>\n",
              "        const buttonEl =\n",
              "          document.querySelector('#df-9c1d8ec7-9d9c-4cc5-9635-154b505ef078 button.colab-df-convert');\n",
              "        buttonEl.style.display =\n",
              "          google.colab.kernel.accessAllowed ? 'block' : 'none';\n",
              "\n",
              "        async function convertToInteractive(key) {\n",
              "          const element = document.querySelector('#df-9c1d8ec7-9d9c-4cc5-9635-154b505ef078');\n",
              "          const dataTable =\n",
              "            await google.colab.kernel.invokeFunction('convertToInteractive',\n",
              "                                                     [key], {});\n",
              "          if (!dataTable) return;\n",
              "\n",
              "          const docLinkHtml = 'Like what you see? Visit the ' +\n",
              "            '<a target=\"_blank\" href=https://colab.research.google.com/notebooks/data_table.ipynb>data table notebook</a>'\n",
              "            + ' to learn more about interactive tables.';\n",
              "          element.innerHTML = '';\n",
              "          dataTable['output_type'] = 'display_data';\n",
              "          await google.colab.output.renderOutput(dataTable, element);\n",
              "          const docLink = document.createElement('div');\n",
              "          docLink.innerHTML = docLinkHtml;\n",
              "          element.appendChild(docLink);\n",
              "        }\n",
              "      </script>\n",
              "    </div>\n",
              "  </div>\n",
              "  "
            ]
          },
          "metadata": {},
          "execution_count": 7
        }
      ]
    },
    {
      "cell_type": "code",
      "source": [
        "df_titanic_traim.shape"
      ],
      "metadata": {
        "execution": {
          "iopub.status.busy": "2023-06-20T10:25:40.003820Z",
          "iopub.execute_input": "2023-06-20T10:25:40.004273Z",
          "iopub.status.idle": "2023-06-20T10:25:40.016081Z",
          "shell.execute_reply.started": "2023-06-20T10:25:40.004233Z",
          "shell.execute_reply": "2023-06-20T10:25:40.014193Z"
        },
        "trusted": true,
        "colab": {
          "base_uri": "https://localhost:8080/"
        },
        "id": "ZoZGjgZxj6g6",
        "outputId": "454c1552-2495-4541-d391-0f295e9abe22"
      },
      "execution_count": 8,
      "outputs": [
        {
          "output_type": "execute_result",
          "data": {
            "text/plain": [
              "(891, 12)"
            ]
          },
          "metadata": {},
          "execution_count": 8
        }
      ]
    },
    {
      "cell_type": "code",
      "source": [
        "df_titanic_test.head()"
      ],
      "metadata": {
        "execution": {
          "iopub.status.busy": "2023-06-20T10:25:40.017784Z",
          "iopub.execute_input": "2023-06-20T10:25:40.018185Z",
          "iopub.status.idle": "2023-06-20T10:25:40.044581Z",
          "shell.execute_reply.started": "2023-06-20T10:25:40.018148Z",
          "shell.execute_reply": "2023-06-20T10:25:40.042975Z"
        },
        "trusted": true,
        "colab": {
          "base_uri": "https://localhost:8080/",
          "height": 206
        },
        "id": "Zw7P9Dtuj6g6",
        "outputId": "865b16c0-4739-458b-af3b-ffd2ffce8224"
      },
      "execution_count": 9,
      "outputs": [
        {
          "output_type": "execute_result",
          "data": {
            "text/plain": [
              "   PassengerId  Pclass                                          Name     Sex  \\\n",
              "0          892       3                              Kelly, Mr. James    male   \n",
              "1          893       3              Wilkes, Mrs. James (Ellen Needs)  female   \n",
              "2          894       2                     Myles, Mr. Thomas Francis    male   \n",
              "3          895       3                              Wirz, Mr. Albert    male   \n",
              "4          896       3  Hirvonen, Mrs. Alexander (Helga E Lindqvist)  female   \n",
              "\n",
              "    Age  SibSp  Parch   Ticket     Fare Cabin Embarked  \n",
              "0  34.5      0      0   330911   7.8292   NaN        Q  \n",
              "1  47.0      1      0   363272   7.0000   NaN        S  \n",
              "2  62.0      0      0   240276   9.6875   NaN        Q  \n",
              "3  27.0      0      0   315154   8.6625   NaN        S  \n",
              "4  22.0      1      1  3101298  12.2875   NaN        S  "
            ],
            "text/html": [
              "\n",
              "  <div id=\"df-6c44a656-e6c6-4337-9150-5ce415efdae2\">\n",
              "    <div class=\"colab-df-container\">\n",
              "      <div>\n",
              "<style scoped>\n",
              "    .dataframe tbody tr th:only-of-type {\n",
              "        vertical-align: middle;\n",
              "    }\n",
              "\n",
              "    .dataframe tbody tr th {\n",
              "        vertical-align: top;\n",
              "    }\n",
              "\n",
              "    .dataframe thead th {\n",
              "        text-align: right;\n",
              "    }\n",
              "</style>\n",
              "<table border=\"1\" class=\"dataframe\">\n",
              "  <thead>\n",
              "    <tr style=\"text-align: right;\">\n",
              "      <th></th>\n",
              "      <th>PassengerId</th>\n",
              "      <th>Pclass</th>\n",
              "      <th>Name</th>\n",
              "      <th>Sex</th>\n",
              "      <th>Age</th>\n",
              "      <th>SibSp</th>\n",
              "      <th>Parch</th>\n",
              "      <th>Ticket</th>\n",
              "      <th>Fare</th>\n",
              "      <th>Cabin</th>\n",
              "      <th>Embarked</th>\n",
              "    </tr>\n",
              "  </thead>\n",
              "  <tbody>\n",
              "    <tr>\n",
              "      <th>0</th>\n",
              "      <td>892</td>\n",
              "      <td>3</td>\n",
              "      <td>Kelly, Mr. James</td>\n",
              "      <td>male</td>\n",
              "      <td>34.5</td>\n",
              "      <td>0</td>\n",
              "      <td>0</td>\n",
              "      <td>330911</td>\n",
              "      <td>7.8292</td>\n",
              "      <td>NaN</td>\n",
              "      <td>Q</td>\n",
              "    </tr>\n",
              "    <tr>\n",
              "      <th>1</th>\n",
              "      <td>893</td>\n",
              "      <td>3</td>\n",
              "      <td>Wilkes, Mrs. James (Ellen Needs)</td>\n",
              "      <td>female</td>\n",
              "      <td>47.0</td>\n",
              "      <td>1</td>\n",
              "      <td>0</td>\n",
              "      <td>363272</td>\n",
              "      <td>7.0000</td>\n",
              "      <td>NaN</td>\n",
              "      <td>S</td>\n",
              "    </tr>\n",
              "    <tr>\n",
              "      <th>2</th>\n",
              "      <td>894</td>\n",
              "      <td>2</td>\n",
              "      <td>Myles, Mr. Thomas Francis</td>\n",
              "      <td>male</td>\n",
              "      <td>62.0</td>\n",
              "      <td>0</td>\n",
              "      <td>0</td>\n",
              "      <td>240276</td>\n",
              "      <td>9.6875</td>\n",
              "      <td>NaN</td>\n",
              "      <td>Q</td>\n",
              "    </tr>\n",
              "    <tr>\n",
              "      <th>3</th>\n",
              "      <td>895</td>\n",
              "      <td>3</td>\n",
              "      <td>Wirz, Mr. Albert</td>\n",
              "      <td>male</td>\n",
              "      <td>27.0</td>\n",
              "      <td>0</td>\n",
              "      <td>0</td>\n",
              "      <td>315154</td>\n",
              "      <td>8.6625</td>\n",
              "      <td>NaN</td>\n",
              "      <td>S</td>\n",
              "    </tr>\n",
              "    <tr>\n",
              "      <th>4</th>\n",
              "      <td>896</td>\n",
              "      <td>3</td>\n",
              "      <td>Hirvonen, Mrs. Alexander (Helga E Lindqvist)</td>\n",
              "      <td>female</td>\n",
              "      <td>22.0</td>\n",
              "      <td>1</td>\n",
              "      <td>1</td>\n",
              "      <td>3101298</td>\n",
              "      <td>12.2875</td>\n",
              "      <td>NaN</td>\n",
              "      <td>S</td>\n",
              "    </tr>\n",
              "  </tbody>\n",
              "</table>\n",
              "</div>\n",
              "      <button class=\"colab-df-convert\" onclick=\"convertToInteractive('df-6c44a656-e6c6-4337-9150-5ce415efdae2')\"\n",
              "              title=\"Convert this dataframe to an interactive table.\"\n",
              "              style=\"display:none;\">\n",
              "        \n",
              "  <svg xmlns=\"http://www.w3.org/2000/svg\" height=\"24px\"viewBox=\"0 0 24 24\"\n",
              "       width=\"24px\">\n",
              "    <path d=\"M0 0h24v24H0V0z\" fill=\"none\"/>\n",
              "    <path d=\"M18.56 5.44l.94 2.06.94-2.06 2.06-.94-2.06-.94-.94-2.06-.94 2.06-2.06.94zm-11 1L8.5 8.5l.94-2.06 2.06-.94-2.06-.94L8.5 2.5l-.94 2.06-2.06.94zm10 10l.94 2.06.94-2.06 2.06-.94-2.06-.94-.94-2.06-.94 2.06-2.06.94z\"/><path d=\"M17.41 7.96l-1.37-1.37c-.4-.4-.92-.59-1.43-.59-.52 0-1.04.2-1.43.59L10.3 9.45l-7.72 7.72c-.78.78-.78 2.05 0 2.83L4 21.41c.39.39.9.59 1.41.59.51 0 1.02-.2 1.41-.59l7.78-7.78 2.81-2.81c.8-.78.8-2.07 0-2.86zM5.41 20L4 18.59l7.72-7.72 1.47 1.35L5.41 20z\"/>\n",
              "  </svg>\n",
              "      </button>\n",
              "      \n",
              "  <style>\n",
              "    .colab-df-container {\n",
              "      display:flex;\n",
              "      flex-wrap:wrap;\n",
              "      gap: 12px;\n",
              "    }\n",
              "\n",
              "    .colab-df-convert {\n",
              "      background-color: #E8F0FE;\n",
              "      border: none;\n",
              "      border-radius: 50%;\n",
              "      cursor: pointer;\n",
              "      display: none;\n",
              "      fill: #1967D2;\n",
              "      height: 32px;\n",
              "      padding: 0 0 0 0;\n",
              "      width: 32px;\n",
              "    }\n",
              "\n",
              "    .colab-df-convert:hover {\n",
              "      background-color: #E2EBFA;\n",
              "      box-shadow: 0px 1px 2px rgba(60, 64, 67, 0.3), 0px 1px 3px 1px rgba(60, 64, 67, 0.15);\n",
              "      fill: #174EA6;\n",
              "    }\n",
              "\n",
              "    [theme=dark] .colab-df-convert {\n",
              "      background-color: #3B4455;\n",
              "      fill: #D2E3FC;\n",
              "    }\n",
              "\n",
              "    [theme=dark] .colab-df-convert:hover {\n",
              "      background-color: #434B5C;\n",
              "      box-shadow: 0px 1px 3px 1px rgba(0, 0, 0, 0.15);\n",
              "      filter: drop-shadow(0px 1px 2px rgba(0, 0, 0, 0.3));\n",
              "      fill: #FFFFFF;\n",
              "    }\n",
              "  </style>\n",
              "\n",
              "      <script>\n",
              "        const buttonEl =\n",
              "          document.querySelector('#df-6c44a656-e6c6-4337-9150-5ce415efdae2 button.colab-df-convert');\n",
              "        buttonEl.style.display =\n",
              "          google.colab.kernel.accessAllowed ? 'block' : 'none';\n",
              "\n",
              "        async function convertToInteractive(key) {\n",
              "          const element = document.querySelector('#df-6c44a656-e6c6-4337-9150-5ce415efdae2');\n",
              "          const dataTable =\n",
              "            await google.colab.kernel.invokeFunction('convertToInteractive',\n",
              "                                                     [key], {});\n",
              "          if (!dataTable) return;\n",
              "\n",
              "          const docLinkHtml = 'Like what you see? Visit the ' +\n",
              "            '<a target=\"_blank\" href=https://colab.research.google.com/notebooks/data_table.ipynb>data table notebook</a>'\n",
              "            + ' to learn more about interactive tables.';\n",
              "          element.innerHTML = '';\n",
              "          dataTable['output_type'] = 'display_data';\n",
              "          await google.colab.output.renderOutput(dataTable, element);\n",
              "          const docLink = document.createElement('div');\n",
              "          docLink.innerHTML = docLinkHtml;\n",
              "          element.appendChild(docLink);\n",
              "        }\n",
              "      </script>\n",
              "    </div>\n",
              "  </div>\n",
              "  "
            ]
          },
          "metadata": {},
          "execution_count": 9
        }
      ]
    },
    {
      "cell_type": "code",
      "source": [
        "df_titanic_test.shape"
      ],
      "metadata": {
        "execution": {
          "iopub.status.busy": "2023-06-20T10:25:40.046469Z",
          "iopub.execute_input": "2023-06-20T10:25:40.047365Z",
          "iopub.status.idle": "2023-06-20T10:25:40.059132Z",
          "shell.execute_reply.started": "2023-06-20T10:25:40.047305Z",
          "shell.execute_reply": "2023-06-20T10:25:40.057610Z"
        },
        "trusted": true,
        "colab": {
          "base_uri": "https://localhost:8080/"
        },
        "id": "rGd1isn7j6g7",
        "outputId": "d0f8b1c4-be49-4b91-8706-6f3fa8faf29e"
      },
      "execution_count": 10,
      "outputs": [
        {
          "output_type": "execute_result",
          "data": {
            "text/plain": [
              "(418, 11)"
            ]
          },
          "metadata": {},
          "execution_count": 10
        }
      ]
    },
    {
      "cell_type": "markdown",
      "source": [
        "<a id='limpando_dados'></a>\n",
        "# <font color=\"#FA7F08\">4. Limpeza de dados</font>\n",
        "<hr color=\"#F5F5F5\" size=\"1\">\n"
      ],
      "metadata": {
        "id": "yGo3v10Aj6g7"
      }
    },
    {
      "cell_type": "code",
      "source": [
        "missing_values.drop_duplicates(df_titanic_traim)"
      ],
      "metadata": {
        "execution": {
          "iopub.status.busy": "2023-06-20T10:25:40.061600Z",
          "iopub.execute_input": "2023-06-20T10:25:40.062176Z",
          "iopub.status.idle": "2023-06-20T10:25:40.087614Z",
          "shell.execute_reply.started": "2023-06-20T10:25:40.062123Z",
          "shell.execute_reply": "2023-06-20T10:25:40.086073Z"
        },
        "trusted": true,
        "colab": {
          "base_uri": "https://localhost:8080/"
        },
        "id": "mRjZ1mANj6g7",
        "outputId": "6a1e2a74-5c9f-4283-e234-d621ce6ad350"
      },
      "execution_count": 11,
      "outputs": [
        {
          "output_type": "stream",
          "name": "stdout",
          "text": [
            "Nenhuma linha duplicada foi encontrada.\n"
          ]
        }
      ]
    },
    {
      "cell_type": "code",
      "source": [
        "\n",
        "missing_values.func_calc_percentual_valores_ausentes_linha(df_titanic_traim)\n"
      ],
      "metadata": {
        "execution": {
          "iopub.status.busy": "2023-06-20T10:25:40.089358Z",
          "iopub.execute_input": "2023-06-20T10:25:40.089839Z",
          "iopub.status.idle": "2023-06-20T10:25:40.268913Z",
          "shell.execute_reply.started": "2023-06-20T10:25:40.089737Z",
          "shell.execute_reply": "2023-06-20T10:25:40.266902Z"
        },
        "trusted": true,
        "colab": {
          "base_uri": "https://localhost:8080/"
        },
        "id": "eEfKcA6Hj6g8",
        "outputId": "c8d03b32-af08-42a2-e2b3-684699a14443"
      },
      "execution_count": 12,
      "outputs": [
        {
          "output_type": "stream",
          "name": "stdout",
          "text": [
            "79.46 % das linhas no conjunto de dados contêm pelo menos um valor ausente.\n"
          ]
        }
      ]
    },
    {
      "cell_type": "code",
      "source": [
        "\n",
        " missing_values.func_calc_percentual_valores_ausentes_coluna(df_titanic_traim)"
      ],
      "metadata": {
        "execution": {
          "iopub.status.busy": "2023-06-20T10:25:40.270868Z",
          "iopub.execute_input": "2023-06-20T10:25:40.271358Z",
          "iopub.status.idle": "2023-06-20T10:25:40.295012Z",
          "shell.execute_reply.started": "2023-06-20T10:25:40.271312Z",
          "shell.execute_reply": "2023-06-20T10:25:40.293569Z"
        },
        "trusted": true,
        "colab": {
          "base_uri": "https://localhost:8080/",
          "height": 178
        },
        "id": "Yngz1mKij6g8",
        "outputId": "68d5b636-de9a-471e-8fc3-9a432a6ec908"
      },
      "execution_count": 13,
      "outputs": [
        {
          "output_type": "stream",
          "name": "stdout",
          "text": [
            "O dataset tem 12 colunas.\n",
            "Encontrado: 3 colunas que têm valores ausentes.\n"
          ]
        },
        {
          "output_type": "execute_result",
          "data": {
            "text/plain": [
              "          Valores Ausentes  % de Valores Ausentes    Dtype\n",
              "Cabin                  687                  77.10   object\n",
              "Age                    177                  19.87  float64\n",
              "Embarked                 2                   0.22   object"
            ],
            "text/html": [
              "\n",
              "  <div id=\"df-491f15a2-7704-4c4e-afee-192af0ebe549\">\n",
              "    <div class=\"colab-df-container\">\n",
              "      <div>\n",
              "<style scoped>\n",
              "    .dataframe tbody tr th:only-of-type {\n",
              "        vertical-align: middle;\n",
              "    }\n",
              "\n",
              "    .dataframe tbody tr th {\n",
              "        vertical-align: top;\n",
              "    }\n",
              "\n",
              "    .dataframe thead th {\n",
              "        text-align: right;\n",
              "    }\n",
              "</style>\n",
              "<table border=\"1\" class=\"dataframe\">\n",
              "  <thead>\n",
              "    <tr style=\"text-align: right;\">\n",
              "      <th></th>\n",
              "      <th>Valores Ausentes</th>\n",
              "      <th>% de Valores Ausentes</th>\n",
              "      <th>Dtype</th>\n",
              "    </tr>\n",
              "  </thead>\n",
              "  <tbody>\n",
              "    <tr>\n",
              "      <th>Cabin</th>\n",
              "      <td>687</td>\n",
              "      <td>77.10</td>\n",
              "      <td>object</td>\n",
              "    </tr>\n",
              "    <tr>\n",
              "      <th>Age</th>\n",
              "      <td>177</td>\n",
              "      <td>19.87</td>\n",
              "      <td>float64</td>\n",
              "    </tr>\n",
              "    <tr>\n",
              "      <th>Embarked</th>\n",
              "      <td>2</td>\n",
              "      <td>0.22</td>\n",
              "      <td>object</td>\n",
              "    </tr>\n",
              "  </tbody>\n",
              "</table>\n",
              "</div>\n",
              "      <button class=\"colab-df-convert\" onclick=\"convertToInteractive('df-491f15a2-7704-4c4e-afee-192af0ebe549')\"\n",
              "              title=\"Convert this dataframe to an interactive table.\"\n",
              "              style=\"display:none;\">\n",
              "        \n",
              "  <svg xmlns=\"http://www.w3.org/2000/svg\" height=\"24px\"viewBox=\"0 0 24 24\"\n",
              "       width=\"24px\">\n",
              "    <path d=\"M0 0h24v24H0V0z\" fill=\"none\"/>\n",
              "    <path d=\"M18.56 5.44l.94 2.06.94-2.06 2.06-.94-2.06-.94-.94-2.06-.94 2.06-2.06.94zm-11 1L8.5 8.5l.94-2.06 2.06-.94-2.06-.94L8.5 2.5l-.94 2.06-2.06.94zm10 10l.94 2.06.94-2.06 2.06-.94-2.06-.94-.94-2.06-.94 2.06-2.06.94z\"/><path d=\"M17.41 7.96l-1.37-1.37c-.4-.4-.92-.59-1.43-.59-.52 0-1.04.2-1.43.59L10.3 9.45l-7.72 7.72c-.78.78-.78 2.05 0 2.83L4 21.41c.39.39.9.59 1.41.59.51 0 1.02-.2 1.41-.59l7.78-7.78 2.81-2.81c.8-.78.8-2.07 0-2.86zM5.41 20L4 18.59l7.72-7.72 1.47 1.35L5.41 20z\"/>\n",
              "  </svg>\n",
              "      </button>\n",
              "      \n",
              "  <style>\n",
              "    .colab-df-container {\n",
              "      display:flex;\n",
              "      flex-wrap:wrap;\n",
              "      gap: 12px;\n",
              "    }\n",
              "\n",
              "    .colab-df-convert {\n",
              "      background-color: #E8F0FE;\n",
              "      border: none;\n",
              "      border-radius: 50%;\n",
              "      cursor: pointer;\n",
              "      display: none;\n",
              "      fill: #1967D2;\n",
              "      height: 32px;\n",
              "      padding: 0 0 0 0;\n",
              "      width: 32px;\n",
              "    }\n",
              "\n",
              "    .colab-df-convert:hover {\n",
              "      background-color: #E2EBFA;\n",
              "      box-shadow: 0px 1px 2px rgba(60, 64, 67, 0.3), 0px 1px 3px 1px rgba(60, 64, 67, 0.15);\n",
              "      fill: #174EA6;\n",
              "    }\n",
              "\n",
              "    [theme=dark] .colab-df-convert {\n",
              "      background-color: #3B4455;\n",
              "      fill: #D2E3FC;\n",
              "    }\n",
              "\n",
              "    [theme=dark] .colab-df-convert:hover {\n",
              "      background-color: #434B5C;\n",
              "      box-shadow: 0px 1px 3px 1px rgba(0, 0, 0, 0.15);\n",
              "      filter: drop-shadow(0px 1px 2px rgba(0, 0, 0, 0.3));\n",
              "      fill: #FFFFFF;\n",
              "    }\n",
              "  </style>\n",
              "\n",
              "      <script>\n",
              "        const buttonEl =\n",
              "          document.querySelector('#df-491f15a2-7704-4c4e-afee-192af0ebe549 button.colab-df-convert');\n",
              "        buttonEl.style.display =\n",
              "          google.colab.kernel.accessAllowed ? 'block' : 'none';\n",
              "\n",
              "        async function convertToInteractive(key) {\n",
              "          const element = document.querySelector('#df-491f15a2-7704-4c4e-afee-192af0ebe549');\n",
              "          const dataTable =\n",
              "            await google.colab.kernel.invokeFunction('convertToInteractive',\n",
              "                                                     [key], {});\n",
              "          if (!dataTable) return;\n",
              "\n",
              "          const docLinkHtml = 'Like what you see? Visit the ' +\n",
              "            '<a target=\"_blank\" href=https://colab.research.google.com/notebooks/data_table.ipynb>data table notebook</a>'\n",
              "            + ' to learn more about interactive tables.';\n",
              "          element.innerHTML = '';\n",
              "          dataTable['output_type'] = 'display_data';\n",
              "          await google.colab.output.renderOutput(dataTable, element);\n",
              "          const docLink = document.createElement('div');\n",
              "          docLink.innerHTML = docLinkHtml;\n",
              "          element.appendChild(docLink);\n",
              "        }\n",
              "      </script>\n",
              "    </div>\n",
              "  </div>\n",
              "  "
            ]
          },
          "metadata": {},
          "execution_count": 13
        }
      ]
    },
    {
      "cell_type": "markdown",
      "source": [
        "Considerando que a coluna ***Cabin*** possui 77,10 % de valores ausente, podemos simplismente remover do nosso conjunto de dados, visto que tem muito pouca imformação."
      ],
      "metadata": {
        "id": "Fm4W0gfyj6g8"
      }
    },
    {
      "cell_type": "code",
      "source": [
        "df_titanic_traim.drop(['Cabin'], axis=1, inplace=True)\n"
      ],
      "metadata": {
        "execution": {
          "iopub.status.busy": "2023-06-20T10:25:40.302336Z",
          "iopub.execute_input": "2023-06-20T10:25:40.302856Z",
          "iopub.status.idle": "2023-06-20T10:25:40.313082Z",
          "shell.execute_reply.started": "2023-06-20T10:25:40.302813Z",
          "shell.execute_reply": "2023-06-20T10:25:40.311313Z"
        },
        "trusted": true,
        "id": "dqD-d2C5j6g8"
      },
      "execution_count": 14,
      "outputs": []
    },
    {
      "cell_type": "code",
      "source": [
        "missing_values.func_calc_percentual_valores_ausentes_linha(df_titanic_traim)\n",
        "missing_values.func_calc_percentual_valores_ausentes_coluna(df_titanic_traim)"
      ],
      "metadata": {
        "execution": {
          "iopub.status.busy": "2023-06-20T10:25:40.317057Z",
          "iopub.execute_input": "2023-06-20T10:25:40.318330Z",
          "iopub.status.idle": "2023-06-20T10:25:40.491089Z",
          "shell.execute_reply.started": "2023-06-20T10:25:40.318240Z",
          "shell.execute_reply": "2023-06-20T10:25:40.489603Z"
        },
        "trusted": true,
        "colab": {
          "base_uri": "https://localhost:8080/",
          "height": 164
        },
        "id": "0JkBth62j6g9",
        "outputId": "e66660fe-4b3a-43b9-b3ab-3d699d65d168"
      },
      "execution_count": 15,
      "outputs": [
        {
          "output_type": "stream",
          "name": "stdout",
          "text": [
            "20.09 % das linhas no conjunto de dados contêm pelo menos um valor ausente.\n",
            "O dataset tem 11 colunas.\n",
            "Encontrado: 2 colunas que têm valores ausentes.\n"
          ]
        },
        {
          "output_type": "execute_result",
          "data": {
            "text/plain": [
              "          Valores Ausentes  % de Valores Ausentes    Dtype\n",
              "Age                    177                  19.87  float64\n",
              "Embarked                 2                   0.22   object"
            ],
            "text/html": [
              "\n",
              "  <div id=\"df-81118956-bb81-44b1-9578-90315be3d51b\">\n",
              "    <div class=\"colab-df-container\">\n",
              "      <div>\n",
              "<style scoped>\n",
              "    .dataframe tbody tr th:only-of-type {\n",
              "        vertical-align: middle;\n",
              "    }\n",
              "\n",
              "    .dataframe tbody tr th {\n",
              "        vertical-align: top;\n",
              "    }\n",
              "\n",
              "    .dataframe thead th {\n",
              "        text-align: right;\n",
              "    }\n",
              "</style>\n",
              "<table border=\"1\" class=\"dataframe\">\n",
              "  <thead>\n",
              "    <tr style=\"text-align: right;\">\n",
              "      <th></th>\n",
              "      <th>Valores Ausentes</th>\n",
              "      <th>% de Valores Ausentes</th>\n",
              "      <th>Dtype</th>\n",
              "    </tr>\n",
              "  </thead>\n",
              "  <tbody>\n",
              "    <tr>\n",
              "      <th>Age</th>\n",
              "      <td>177</td>\n",
              "      <td>19.87</td>\n",
              "      <td>float64</td>\n",
              "    </tr>\n",
              "    <tr>\n",
              "      <th>Embarked</th>\n",
              "      <td>2</td>\n",
              "      <td>0.22</td>\n",
              "      <td>object</td>\n",
              "    </tr>\n",
              "  </tbody>\n",
              "</table>\n",
              "</div>\n",
              "      <button class=\"colab-df-convert\" onclick=\"convertToInteractive('df-81118956-bb81-44b1-9578-90315be3d51b')\"\n",
              "              title=\"Convert this dataframe to an interactive table.\"\n",
              "              style=\"display:none;\">\n",
              "        \n",
              "  <svg xmlns=\"http://www.w3.org/2000/svg\" height=\"24px\"viewBox=\"0 0 24 24\"\n",
              "       width=\"24px\">\n",
              "    <path d=\"M0 0h24v24H0V0z\" fill=\"none\"/>\n",
              "    <path d=\"M18.56 5.44l.94 2.06.94-2.06 2.06-.94-2.06-.94-.94-2.06-.94 2.06-2.06.94zm-11 1L8.5 8.5l.94-2.06 2.06-.94-2.06-.94L8.5 2.5l-.94 2.06-2.06.94zm10 10l.94 2.06.94-2.06 2.06-.94-2.06-.94-.94-2.06-.94 2.06-2.06.94z\"/><path d=\"M17.41 7.96l-1.37-1.37c-.4-.4-.92-.59-1.43-.59-.52 0-1.04.2-1.43.59L10.3 9.45l-7.72 7.72c-.78.78-.78 2.05 0 2.83L4 21.41c.39.39.9.59 1.41.59.51 0 1.02-.2 1.41-.59l7.78-7.78 2.81-2.81c.8-.78.8-2.07 0-2.86zM5.41 20L4 18.59l7.72-7.72 1.47 1.35L5.41 20z\"/>\n",
              "  </svg>\n",
              "      </button>\n",
              "      \n",
              "  <style>\n",
              "    .colab-df-container {\n",
              "      display:flex;\n",
              "      flex-wrap:wrap;\n",
              "      gap: 12px;\n",
              "    }\n",
              "\n",
              "    .colab-df-convert {\n",
              "      background-color: #E8F0FE;\n",
              "      border: none;\n",
              "      border-radius: 50%;\n",
              "      cursor: pointer;\n",
              "      display: none;\n",
              "      fill: #1967D2;\n",
              "      height: 32px;\n",
              "      padding: 0 0 0 0;\n",
              "      width: 32px;\n",
              "    }\n",
              "\n",
              "    .colab-df-convert:hover {\n",
              "      background-color: #E2EBFA;\n",
              "      box-shadow: 0px 1px 2px rgba(60, 64, 67, 0.3), 0px 1px 3px 1px rgba(60, 64, 67, 0.15);\n",
              "      fill: #174EA6;\n",
              "    }\n",
              "\n",
              "    [theme=dark] .colab-df-convert {\n",
              "      background-color: #3B4455;\n",
              "      fill: #D2E3FC;\n",
              "    }\n",
              "\n",
              "    [theme=dark] .colab-df-convert:hover {\n",
              "      background-color: #434B5C;\n",
              "      box-shadow: 0px 1px 3px 1px rgba(0, 0, 0, 0.15);\n",
              "      filter: drop-shadow(0px 1px 2px rgba(0, 0, 0, 0.3));\n",
              "      fill: #FFFFFF;\n",
              "    }\n",
              "  </style>\n",
              "\n",
              "      <script>\n",
              "        const buttonEl =\n",
              "          document.querySelector('#df-81118956-bb81-44b1-9578-90315be3d51b button.colab-df-convert');\n",
              "        buttonEl.style.display =\n",
              "          google.colab.kernel.accessAllowed ? 'block' : 'none';\n",
              "\n",
              "        async function convertToInteractive(key) {\n",
              "          const element = document.querySelector('#df-81118956-bb81-44b1-9578-90315be3d51b');\n",
              "          const dataTable =\n",
              "            await google.colab.kernel.invokeFunction('convertToInteractive',\n",
              "                                                     [key], {});\n",
              "          if (!dataTable) return;\n",
              "\n",
              "          const docLinkHtml = 'Like what you see? Visit the ' +\n",
              "            '<a target=\"_blank\" href=https://colab.research.google.com/notebooks/data_table.ipynb>data table notebook</a>'\n",
              "            + ' to learn more about interactive tables.';\n",
              "          element.innerHTML = '';\n",
              "          dataTable['output_type'] = 'display_data';\n",
              "          await google.colab.output.renderOutput(dataTable, element);\n",
              "          const docLink = document.createElement('div');\n",
              "          docLink.innerHTML = docLinkHtml;\n",
              "          element.appendChild(docLink);\n",
              "        }\n",
              "      </script>\n",
              "    </div>\n",
              "  </div>\n",
              "  "
            ]
          },
          "metadata": {},
          "execution_count": 15
        }
      ]
    },
    {
      "cell_type": "code",
      "source": [
        "df_titanic_traim.shape"
      ],
      "metadata": {
        "execution": {
          "iopub.status.busy": "2023-06-20T10:25:40.493147Z",
          "iopub.execute_input": "2023-06-20T10:25:40.493635Z",
          "iopub.status.idle": "2023-06-20T10:25:40.502894Z",
          "shell.execute_reply.started": "2023-06-20T10:25:40.493593Z",
          "shell.execute_reply": "2023-06-20T10:25:40.501414Z"
        },
        "trusted": true,
        "colab": {
          "base_uri": "https://localhost:8080/"
        },
        "id": "BFDnfSadj6g9",
        "outputId": "89e66f22-b76e-4693-b684-be4e8ff8fb30"
      },
      "execution_count": 16,
      "outputs": [
        {
          "output_type": "execute_result",
          "data": {
            "text/plain": [
              "(891, 11)"
            ]
          },
          "metadata": {},
          "execution_count": 16
        }
      ]
    },
    {
      "cell_type": "code",
      "source": [
        "df_titanic_traim.head()"
      ],
      "metadata": {
        "execution": {
          "iopub.status.busy": "2023-06-20T10:25:40.504940Z",
          "iopub.execute_input": "2023-06-20T10:25:40.505403Z",
          "iopub.status.idle": "2023-06-20T10:25:40.530867Z",
          "shell.execute_reply.started": "2023-06-20T10:25:40.505349Z",
          "shell.execute_reply": "2023-06-20T10:25:40.529325Z"
        },
        "trusted": true,
        "colab": {
          "base_uri": "https://localhost:8080/",
          "height": 206
        },
        "id": "jRFTm3kcj6g9",
        "outputId": "48a63764-585a-4aa3-cf69-0ade7f9f4f38"
      },
      "execution_count": 17,
      "outputs": [
        {
          "output_type": "execute_result",
          "data": {
            "text/plain": [
              "   PassengerId  Survived  Pclass  \\\n",
              "0            1         0       3   \n",
              "1            2         1       1   \n",
              "2            3         1       3   \n",
              "3            4         1       1   \n",
              "4            5         0       3   \n",
              "\n",
              "                                                Name     Sex   Age  SibSp  \\\n",
              "0                            Braund, Mr. Owen Harris    male  22.0      1   \n",
              "1  Cumings, Mrs. John Bradley (Florence Briggs Th...  female  38.0      1   \n",
              "2                             Heikkinen, Miss. Laina  female  26.0      0   \n",
              "3       Futrelle, Mrs. Jacques Heath (Lily May Peel)  female  35.0      1   \n",
              "4                           Allen, Mr. William Henry    male  35.0      0   \n",
              "\n",
              "   Parch            Ticket     Fare Embarked  \n",
              "0      0         A/5 21171   7.2500        S  \n",
              "1      0          PC 17599  71.2833        C  \n",
              "2      0  STON/O2. 3101282   7.9250        S  \n",
              "3      0            113803  53.1000        S  \n",
              "4      0            373450   8.0500        S  "
            ],
            "text/html": [
              "\n",
              "  <div id=\"df-5769b78b-084e-44c1-994f-20f5c32ec32b\">\n",
              "    <div class=\"colab-df-container\">\n",
              "      <div>\n",
              "<style scoped>\n",
              "    .dataframe tbody tr th:only-of-type {\n",
              "        vertical-align: middle;\n",
              "    }\n",
              "\n",
              "    .dataframe tbody tr th {\n",
              "        vertical-align: top;\n",
              "    }\n",
              "\n",
              "    .dataframe thead th {\n",
              "        text-align: right;\n",
              "    }\n",
              "</style>\n",
              "<table border=\"1\" class=\"dataframe\">\n",
              "  <thead>\n",
              "    <tr style=\"text-align: right;\">\n",
              "      <th></th>\n",
              "      <th>PassengerId</th>\n",
              "      <th>Survived</th>\n",
              "      <th>Pclass</th>\n",
              "      <th>Name</th>\n",
              "      <th>Sex</th>\n",
              "      <th>Age</th>\n",
              "      <th>SibSp</th>\n",
              "      <th>Parch</th>\n",
              "      <th>Ticket</th>\n",
              "      <th>Fare</th>\n",
              "      <th>Embarked</th>\n",
              "    </tr>\n",
              "  </thead>\n",
              "  <tbody>\n",
              "    <tr>\n",
              "      <th>0</th>\n",
              "      <td>1</td>\n",
              "      <td>0</td>\n",
              "      <td>3</td>\n",
              "      <td>Braund, Mr. Owen Harris</td>\n",
              "      <td>male</td>\n",
              "      <td>22.0</td>\n",
              "      <td>1</td>\n",
              "      <td>0</td>\n",
              "      <td>A/5 21171</td>\n",
              "      <td>7.2500</td>\n",
              "      <td>S</td>\n",
              "    </tr>\n",
              "    <tr>\n",
              "      <th>1</th>\n",
              "      <td>2</td>\n",
              "      <td>1</td>\n",
              "      <td>1</td>\n",
              "      <td>Cumings, Mrs. John Bradley (Florence Briggs Th...</td>\n",
              "      <td>female</td>\n",
              "      <td>38.0</td>\n",
              "      <td>1</td>\n",
              "      <td>0</td>\n",
              "      <td>PC 17599</td>\n",
              "      <td>71.2833</td>\n",
              "      <td>C</td>\n",
              "    </tr>\n",
              "    <tr>\n",
              "      <th>2</th>\n",
              "      <td>3</td>\n",
              "      <td>1</td>\n",
              "      <td>3</td>\n",
              "      <td>Heikkinen, Miss. Laina</td>\n",
              "      <td>female</td>\n",
              "      <td>26.0</td>\n",
              "      <td>0</td>\n",
              "      <td>0</td>\n",
              "      <td>STON/O2. 3101282</td>\n",
              "      <td>7.9250</td>\n",
              "      <td>S</td>\n",
              "    </tr>\n",
              "    <tr>\n",
              "      <th>3</th>\n",
              "      <td>4</td>\n",
              "      <td>1</td>\n",
              "      <td>1</td>\n",
              "      <td>Futrelle, Mrs. Jacques Heath (Lily May Peel)</td>\n",
              "      <td>female</td>\n",
              "      <td>35.0</td>\n",
              "      <td>1</td>\n",
              "      <td>0</td>\n",
              "      <td>113803</td>\n",
              "      <td>53.1000</td>\n",
              "      <td>S</td>\n",
              "    </tr>\n",
              "    <tr>\n",
              "      <th>4</th>\n",
              "      <td>5</td>\n",
              "      <td>0</td>\n",
              "      <td>3</td>\n",
              "      <td>Allen, Mr. William Henry</td>\n",
              "      <td>male</td>\n",
              "      <td>35.0</td>\n",
              "      <td>0</td>\n",
              "      <td>0</td>\n",
              "      <td>373450</td>\n",
              "      <td>8.0500</td>\n",
              "      <td>S</td>\n",
              "    </tr>\n",
              "  </tbody>\n",
              "</table>\n",
              "</div>\n",
              "      <button class=\"colab-df-convert\" onclick=\"convertToInteractive('df-5769b78b-084e-44c1-994f-20f5c32ec32b')\"\n",
              "              title=\"Convert this dataframe to an interactive table.\"\n",
              "              style=\"display:none;\">\n",
              "        \n",
              "  <svg xmlns=\"http://www.w3.org/2000/svg\" height=\"24px\"viewBox=\"0 0 24 24\"\n",
              "       width=\"24px\">\n",
              "    <path d=\"M0 0h24v24H0V0z\" fill=\"none\"/>\n",
              "    <path d=\"M18.56 5.44l.94 2.06.94-2.06 2.06-.94-2.06-.94-.94-2.06-.94 2.06-2.06.94zm-11 1L8.5 8.5l.94-2.06 2.06-.94-2.06-.94L8.5 2.5l-.94 2.06-2.06.94zm10 10l.94 2.06.94-2.06 2.06-.94-2.06-.94-.94-2.06-.94 2.06-2.06.94z\"/><path d=\"M17.41 7.96l-1.37-1.37c-.4-.4-.92-.59-1.43-.59-.52 0-1.04.2-1.43.59L10.3 9.45l-7.72 7.72c-.78.78-.78 2.05 0 2.83L4 21.41c.39.39.9.59 1.41.59.51 0 1.02-.2 1.41-.59l7.78-7.78 2.81-2.81c.8-.78.8-2.07 0-2.86zM5.41 20L4 18.59l7.72-7.72 1.47 1.35L5.41 20z\"/>\n",
              "  </svg>\n",
              "      </button>\n",
              "      \n",
              "  <style>\n",
              "    .colab-df-container {\n",
              "      display:flex;\n",
              "      flex-wrap:wrap;\n",
              "      gap: 12px;\n",
              "    }\n",
              "\n",
              "    .colab-df-convert {\n",
              "      background-color: #E8F0FE;\n",
              "      border: none;\n",
              "      border-radius: 50%;\n",
              "      cursor: pointer;\n",
              "      display: none;\n",
              "      fill: #1967D2;\n",
              "      height: 32px;\n",
              "      padding: 0 0 0 0;\n",
              "      width: 32px;\n",
              "    }\n",
              "\n",
              "    .colab-df-convert:hover {\n",
              "      background-color: #E2EBFA;\n",
              "      box-shadow: 0px 1px 2px rgba(60, 64, 67, 0.3), 0px 1px 3px 1px rgba(60, 64, 67, 0.15);\n",
              "      fill: #174EA6;\n",
              "    }\n",
              "\n",
              "    [theme=dark] .colab-df-convert {\n",
              "      background-color: #3B4455;\n",
              "      fill: #D2E3FC;\n",
              "    }\n",
              "\n",
              "    [theme=dark] .colab-df-convert:hover {\n",
              "      background-color: #434B5C;\n",
              "      box-shadow: 0px 1px 3px 1px rgba(0, 0, 0, 0.15);\n",
              "      filter: drop-shadow(0px 1px 2px rgba(0, 0, 0, 0.3));\n",
              "      fill: #FFFFFF;\n",
              "    }\n",
              "  </style>\n",
              "\n",
              "      <script>\n",
              "        const buttonEl =\n",
              "          document.querySelector('#df-5769b78b-084e-44c1-994f-20f5c32ec32b button.colab-df-convert');\n",
              "        buttonEl.style.display =\n",
              "          google.colab.kernel.accessAllowed ? 'block' : 'none';\n",
              "\n",
              "        async function convertToInteractive(key) {\n",
              "          const element = document.querySelector('#df-5769b78b-084e-44c1-994f-20f5c32ec32b');\n",
              "          const dataTable =\n",
              "            await google.colab.kernel.invokeFunction('convertToInteractive',\n",
              "                                                     [key], {});\n",
              "          if (!dataTable) return;\n",
              "\n",
              "          const docLinkHtml = 'Like what you see? Visit the ' +\n",
              "            '<a target=\"_blank\" href=https://colab.research.google.com/notebooks/data_table.ipynb>data table notebook</a>'\n",
              "            + ' to learn more about interactive tables.';\n",
              "          element.innerHTML = '';\n",
              "          dataTable['output_type'] = 'display_data';\n",
              "          await google.colab.output.renderOutput(dataTable, element);\n",
              "          const docLink = document.createElement('div');\n",
              "          docLink.innerHTML = docLinkHtml;\n",
              "          element.appendChild(docLink);\n",
              "        }\n",
              "      </script>\n",
              "    </div>\n",
              "  </div>\n",
              "  "
            ]
          },
          "metadata": {},
          "execution_count": 17
        }
      ]
    },
    {
      "cell_type": "code",
      "source": [
        "\n",
        "\n",
        "sns.set(style=\"whitegrid\")\n",
        "\n",
        "plt.figure(figsize=(5, 3))\n",
        "\n",
        "sns.boxplot(x=df_titanic_traim['Age'])\n",
        "\n",
        "plt.title(\"Box plot com dados da coluna Age\")\n",
        "plt.xlabel(\"Idade\")\n",
        "plt.ylabel(\"Valores\")\n",
        "\n",
        "plt.show()"
      ],
      "metadata": {
        "execution": {
          "iopub.status.busy": "2023-06-20T10:25:40.532986Z",
          "iopub.execute_input": "2023-06-20T10:25:40.533506Z",
          "iopub.status.idle": "2023-06-20T10:25:40.793157Z",
          "shell.execute_reply.started": "2023-06-20T10:25:40.533457Z",
          "shell.execute_reply": "2023-06-20T10:25:40.791693Z"
        },
        "trusted": true,
        "colab": {
          "base_uri": "https://localhost:8080/",
          "height": 342
        },
        "id": "XOrt352Rj6g-",
        "outputId": "6f5c8e3f-c715-401e-fe64-b83936f52b2a"
      },
      "execution_count": 18,
      "outputs": [
        {
          "output_type": "display_data",
          "data": {
            "text/plain": [
              "<Figure size 500x300 with 1 Axes>"
            ],
            "image/png": "[encoded data removed]"
          },
          "metadata": {}
        }
      ]
    },
    {
      "cell_type": "code",
      "source": [
        "q3 = df_titanic_traim['Age'].quantile(0.75)\n",
        "q1 = df_titanic_traim['Age'].quantile(0.25)\n",
        "\n",
        "iqr = q3-q1\n",
        "\n",
        "limite_max = q3+(1.5*iqr)\n",
        "print(\"Limite Max\",limite_max)"
      ],
      "metadata": {
        "execution": {
          "iopub.status.busy": "2023-06-20T10:25:40.794909Z",
          "iopub.execute_input": "2023-06-20T10:25:40.795472Z",
          "iopub.status.idle": "2023-06-20T10:25:40.807169Z",
          "shell.execute_reply.started": "2023-06-20T10:25:40.795428Z",
          "shell.execute_reply": "2023-06-20T10:25:40.806054Z"
        },
        "trusted": true,
        "colab": {
          "base_uri": "https://localhost:8080/"
        },
        "id": "n7wcZQDmj6g-",
        "outputId": "f101000c-43fe-4996-e6a1-971e109dffe3"
      },
      "execution_count": 19,
      "outputs": [
        {
          "output_type": "stream",
          "name": "stdout",
          "text": [
            "Limite Max 64.8125\n"
          ]
        }
      ]
    },
    {
      "cell_type": "code",
      "source": [
        "df_titanic_traim.loc[df_titanic_traim['Age'] > limite_max, 'Age'] = limite_max"
      ],
      "metadata": {
        "execution": {
          "iopub.status.busy": "2023-06-20T10:25:40.808621Z",
          "iopub.execute_input": "2023-06-20T10:25:40.809618Z",
          "iopub.status.idle": "2023-06-20T10:25:40.820412Z",
          "shell.execute_reply.started": "2023-06-20T10:25:40.809574Z",
          "shell.execute_reply": "2023-06-20T10:25:40.819277Z"
        },
        "trusted": true,
        "id": "TkwTtFb7j6g-"
      },
      "execution_count": 20,
      "outputs": []
    },
    {
      "cell_type": "code",
      "source": [
        "sns.set(style=\"whitegrid\")\n",
        "\n",
        "plt.figure(figsize=(5, 3))\n",
        "\n",
        "sns.boxplot(x=df_titanic_traim['Age'])\n",
        "\n",
        "plt.title(\"Box plot com dados da coluna Age\")\n",
        "plt.xlabel(\"Idade\")\n",
        "plt.ylabel(\"Valores\")\n",
        "\n",
        "plt.show()"
      ],
      "metadata": {
        "execution": {
          "iopub.status.busy": "2023-06-20T10:25:40.821965Z",
          "iopub.execute_input": "2023-06-20T10:25:40.823168Z",
          "iopub.status.idle": "2023-06-20T10:25:41.067612Z",
          "shell.execute_reply.started": "2023-06-20T10:25:40.823107Z",
          "shell.execute_reply": "2023-06-20T10:25:41.065489Z"
        },
        "trusted": true,
        "colab": {
          "base_uri": "https://localhost:8080/",
          "height": 342
        },
        "id": "NilEgAXlj6g-",
        "outputId": "42872a77-b55d-4507-c126-48bf6b296622"
      },
      "execution_count": 21,
      "outputs": [
        {
          "output_type": "display_data",
          "data": {
            "text/plain": [
              "<Figure size 500x300 with 1 Axes>"
            ],
            "image/png": "[encoded data removed]"
          },
          "metadata": {}
        }
      ]
    },
    {
      "cell_type": "code",
      "source": [
        "# Imputação usando a mediana\n",
        "missing_values.fix_missing_median(df_titanic_traim, \"Age\")"
      ],
      "metadata": {
        "execution": {
          "iopub.status.busy": "2023-06-20T10:25:41.069777Z",
          "iopub.execute_input": "2023-06-20T10:25:41.070728Z",
          "iopub.status.idle": "2023-06-20T10:25:41.087030Z",
          "shell.execute_reply.started": "2023-06-20T10:25:41.070663Z",
          "shell.execute_reply": "2023-06-20T10:25:41.084863Z"
        },
        "trusted": true,
        "colab": {
          "base_uri": "https://localhost:8080/"
        },
        "id": "YNhuqrxgj6g_",
        "outputId": "13d8feae-d536-4a68-e63e-78ba7bae619c"
      },
      "execution_count": 22,
      "outputs": [
        {
          "output_type": "stream",
          "name": "stdout",
          "text": [
            "177 valores ausentes na coluna Age foram substituídos por seu valor de mediana 28.0.\n"
          ]
        },
        {
          "output_type": "execute_result",
          "data": {
            "text/plain": [
              "0      22.0\n",
              "1      38.0\n",
              "2      26.0\n",
              "3      35.0\n",
              "4      35.0\n",
              "       ... \n",
              "886    27.0\n",
              "887    19.0\n",
              "888    28.0\n",
              "889    26.0\n",
              "890    32.0\n",
              "Name: Age, Length: 891, dtype: float64"
            ]
          },
          "metadata": {},
          "execution_count": 22
        }
      ]
    },
    {
      "cell_type": "code",
      "source": [
        "missing_values.func_calc_percentual_valores_ausentes_coluna(df_titanic_traim)\n",
        "print(\"----\")\n",
        "missing_values.func_calc_percentual_valores_ausentes_linha(df_titanic_traim)"
      ],
      "metadata": {
        "execution": {
          "iopub.status.busy": "2023-06-20T10:25:41.088980Z",
          "iopub.execute_input": "2023-06-20T10:25:41.089464Z",
          "iopub.status.idle": "2023-06-20T10:25:41.244992Z",
          "shell.execute_reply.started": "2023-06-20T10:25:41.089403Z",
          "shell.execute_reply": "2023-06-20T10:25:41.243193Z"
        },
        "trusted": true,
        "colab": {
          "base_uri": "https://localhost:8080/"
        },
        "id": "7SE-Mg5xj6g_",
        "outputId": "6be2853e-57bf-4d30-e538-80cb38ee3143"
      },
      "execution_count": 23,
      "outputs": [
        {
          "output_type": "stream",
          "name": "stdout",
          "text": [
            "O dataset tem 11 colunas.\n",
            "Encontrado: 1 colunas que têm valores ausentes.\n",
            "----\n",
            "0.22 % das linhas no conjunto de dados contêm pelo menos um valor ausente.\n"
          ]
        }
      ]
    },
    {
      "cell_type": "markdown",
      "source": [
        "Como o numero de valores ausente agora é muito baixo(0,22%) quando comparado a quantidade de informações que temos, podemos elimitar essas 2 linhas"
      ],
      "metadata": {
        "id": "lOnk218_j6g_"
      }
    },
    {
      "cell_type": "code",
      "source": [
        "missing_values.drop_rows_with_missing_values(df_titanic_traim)"
      ],
      "metadata": {
        "execution": {
          "iopub.status.busy": "2023-06-20T10:25:41.247621Z",
          "iopub.execute_input": "2023-06-20T10:25:41.248265Z",
          "iopub.status.idle": "2023-06-20T10:25:41.266428Z",
          "shell.execute_reply.started": "2023-06-20T10:25:41.248199Z",
          "shell.execute_reply": "2023-06-20T10:25:41.264489Z"
        },
        "trusted": true,
        "colab": {
          "base_uri": "https://localhost:8080/"
        },
        "id": "tZrRIV8Vj6hA",
        "outputId": "cb13f94b-2d4e-41f9-e926-daab4750af12"
      },
      "execution_count": 24,
      "outputs": [
        {
          "output_type": "stream",
          "name": "stdout",
          "text": [
            "2 linhas contendo valores ausentes foram descartadas.\n"
          ]
        }
      ]
    },
    {
      "cell_type": "code",
      "source": [
        "missing_values.func_calc_percentual_valores_ausentes_coluna(df_titanic_traim)\n",
        "print(\"----\")\n",
        "missing_values.func_calc_percentual_valores_ausentes_linha(df_titanic_traim)"
      ],
      "metadata": {
        "execution": {
          "iopub.status.busy": "2023-06-20T10:25:41.269112Z",
          "iopub.execute_input": "2023-06-20T10:25:41.269712Z",
          "iopub.status.idle": "2023-06-20T10:25:41.474711Z",
          "shell.execute_reply.started": "2023-06-20T10:25:41.269649Z",
          "shell.execute_reply": "2023-06-20T10:25:41.472405Z"
        },
        "trusted": true,
        "colab": {
          "base_uri": "https://localhost:8080/"
        },
        "id": "S8Z_rR3Wj6hA",
        "outputId": "8d1cb34d-a2ad-4b49-d718-507d2050d481"
      },
      "execution_count": 25,
      "outputs": [
        {
          "output_type": "stream",
          "name": "stdout",
          "text": [
            "O dataset tem 11 colunas.\n",
            "Encontrado: 0 colunas que têm valores ausentes.\n",
            "----\n",
            "0.0 % das linhas no conjunto de dados contêm pelo menos um valor ausente.\n"
          ]
        }
      ]
    },
    {
      "cell_type": "code",
      "source": [
        "df_titanic_traim.head()"
      ],
      "metadata": {
        "execution": {
          "iopub.status.busy": "2023-06-20T10:25:41.477297Z",
          "iopub.execute_input": "2023-06-20T10:25:41.477986Z",
          "iopub.status.idle": "2023-06-20T10:25:41.499055Z",
          "shell.execute_reply.started": "2023-06-20T10:25:41.477829Z",
          "shell.execute_reply": "2023-06-20T10:25:41.497086Z"
        },
        "trusted": true,
        "colab": {
          "base_uri": "https://localhost:8080/",
          "height": 206
        },
        "id": "4H65WUu_j6hA",
        "outputId": "55860253-f4b0-4fc2-9372-1f3054536f56"
      },
      "execution_count": 26,
      "outputs": [
        {
          "output_type": "execute_result",
          "data": {
            "text/plain": [
              "   PassengerId  Survived  Pclass  \\\n",
              "0            1         0       3   \n",
              "1            2         1       1   \n",
              "2            3         1       3   \n",
              "3            4         1       1   \n",
              "4            5         0       3   \n",
              "\n",
              "                                                Name     Sex   Age  SibSp  \\\n",
              "0                            Braund, Mr. Owen Harris    male  22.0      1   \n",
              "1  Cumings, Mrs. John Bradley (Florence Briggs Th...  female  38.0      1   \n",
              "2                             Heikkinen, Miss. Laina  female  26.0      0   \n",
              "3       Futrelle, Mrs. Jacques Heath (Lily May Peel)  female  35.0      1   \n",
              "4                           Allen, Mr. William Henry    male  35.0      0   \n",
              "\n",
              "   Parch            Ticket     Fare Embarked  \n",
              "0      0         A/5 21171   7.2500        S  \n",
              "1      0          PC 17599  71.2833        C  \n",
              "2      0  STON/O2. 3101282   7.9250        S  \n",
              "3      0            113803  53.1000        S  \n",
              "4      0            373450   8.0500        S  "
            ],
            "text/html": [
              "\n",
              "  <div id=\"df-0d0c17f2-b6c4-4152-a413-426eb9dd3c59\">\n",
              "    <div class=\"colab-df-container\">\n",
              "      <div>\n",
              "<style scoped>\n",
              "    .dataframe tbody tr th:only-of-type {\n",
              "        vertical-align: middle;\n",
              "    }\n",
              "\n",
              "    .dataframe tbody tr th {\n",
              "        vertical-align: top;\n",
              "    }\n",
              "\n",
              "    .dataframe thead th {\n",
              "        text-align: right;\n",
              "    }\n",
              "</style>\n",
              "<table border=\"1\" class=\"dataframe\">\n",
              "  <thead>\n",
              "    <tr style=\"text-align: right;\">\n",
              "      <th></th>\n",
              "      <th>PassengerId</th>\n",
              "      <th>Survived</th>\n",
              "      <th>Pclass</th>\n",
              "      <th>Name</th>\n",
              "      <th>Sex</th>\n",
              "      <th>Age</th>\n",
              "      <th>SibSp</th>\n",
              "      <th>Parch</th>\n",
              "      <th>Ticket</th>\n",
              "      <th>Fare</th>\n",
              "      <th>Embarked</th>\n",
              "    </tr>\n",
              "  </thead>\n",
              "  <tbody>\n",
              "    <tr>\n",
              "      <th>0</th>\n",
              "      <td>1</td>\n",
              "      <td>0</td>\n",
              "      <td>3</td>\n",
              "      <td>Braund, Mr. Owen Harris</td>\n",
              "      <td>male</td>\n",
              "      <td>22.0</td>\n",
              "      <td>1</td>\n",
              "      <td>0</td>\n",
              "      <td>A/5 21171</td>\n",
              "      <td>7.2500</td>\n",
              "      <td>S</td>\n",
              "    </tr>\n",
              "    <tr>\n",
              "      <th>1</th>\n",
              "      <td>2</td>\n",
              "      <td>1</td>\n",
              "      <td>1</td>\n",
              "      <td>Cumings, Mrs. John Bradley (Florence Briggs Th...</td>\n",
              "      <td>female</td>\n",
              "      <td>38.0</td>\n",
              "      <td>1</td>\n",
              "      <td>0</td>\n",
              "      <td>PC 17599</td>\n",
              "      <td>71.2833</td>\n",
              "      <td>C</td>\n",
              "    </tr>\n",
              "    <tr>\n",
              "      <th>2</th>\n",
              "      <td>3</td>\n",
              "      <td>1</td>\n",
              "      <td>3</td>\n",
              "      <td>Heikkinen, Miss. Laina</td>\n",
              "      <td>female</td>\n",
              "      <td>26.0</td>\n",
              "      <td>0</td>\n",
              "      <td>0</td>\n",
              "      <td>STON/O2. 3101282</td>\n",
              "      <td>7.9250</td>\n",
              "      <td>S</td>\n",
              "    </tr>\n",
              "    <tr>\n",
              "      <th>3</th>\n",
              "      <td>4</td>\n",
              "      <td>1</td>\n",
              "      <td>1</td>\n",
              "      <td>Futrelle, Mrs. Jacques Heath (Lily May Peel)</td>\n",
              "      <td>female</td>\n",
              "      <td>35.0</td>\n",
              "      <td>1</td>\n",
              "      <td>0</td>\n",
              "      <td>113803</td>\n",
              "      <td>53.1000</td>\n",
              "      <td>S</td>\n",
              "    </tr>\n",
              "    <tr>\n",
              "      <th>4</th>\n",
              "      <td>5</td>\n",
              "      <td>0</td>\n",
              "      <td>3</td>\n",
              "      <td>Allen, Mr. William Henry</td>\n",
              "      <td>male</td>\n",
              "      <td>35.0</td>\n",
              "      <td>0</td>\n",
              "      <td>0</td>\n",
              "      <td>373450</td>\n",
              "      <td>8.0500</td>\n",
              "      <td>S</td>\n",
              "    </tr>\n",
              "  </tbody>\n",
              "</table>\n",
              "</div>\n",
              "      <button class=\"colab-df-convert\" onclick=\"convertToInteractive('df-0d0c17f2-b6c4-4152-a413-426eb9dd3c59')\"\n",
              "              title=\"Convert this dataframe to an interactive table.\"\n",
              "              style=\"display:none;\">\n",
              "        \n",
              "  <svg xmlns=\"http://www.w3.org/2000/svg\" height=\"24px\"viewBox=\"0 0 24 24\"\n",
              "       width=\"24px\">\n",
              "    <path d=\"M0 0h24v24H0V0z\" fill=\"none\"/>\n",
              "    <path d=\"M18.56 5.44l.94 2.06.94-2.06 2.06-.94-2.06-.94-.94-2.06-.94 2.06-2.06.94zm-11 1L8.5 8.5l.94-2.06 2.06-.94-2.06-.94L8.5 2.5l-.94 2.06-2.06.94zm10 10l.94 2.06.94-2.06 2.06-.94-2.06-.94-.94-2.06-.94 2.06-2.06.94z\"/><path d=\"M17.41 7.96l-1.37-1.37c-.4-.4-.92-.59-1.43-.59-.52 0-1.04.2-1.43.59L10.3 9.45l-7.72 7.72c-.78.78-.78 2.05 0 2.83L4 21.41c.39.39.9.59 1.41.59.51 0 1.02-.2 1.41-.59l7.78-7.78 2.81-2.81c.8-.78.8-2.07 0-2.86zM5.41 20L4 18.59l7.72-7.72 1.47 1.35L5.41 20z\"/>\n",
              "  </svg>\n",
              "      </button>\n",
              "      \n",
              "  <style>\n",
              "    .colab-df-container {\n",
              "      display:flex;\n",
              "      flex-wrap:wrap;\n",
              "      gap: 12px;\n",
              "    }\n",
              "\n",
              "    .colab-df-convert {\n",
              "      background-color: #E8F0FE;\n",
              "      border: none;\n",
              "      border-radius: 50%;\n",
              "      cursor: pointer;\n",
              "      display: none;\n",
              "      fill: #1967D2;\n",
              "      height: 32px;\n",
              "      padding: 0 0 0 0;\n",
              "      width: 32px;\n",
              "    }\n",
              "\n",
              "    .colab-df-convert:hover {\n",
              "      background-color: #E2EBFA;\n",
              "      box-shadow: 0px 1px 2px rgba(60, 64, 67, 0.3), 0px 1px 3px 1px rgba(60, 64, 67, 0.15);\n",
              "      fill: #174EA6;\n",
              "    }\n",
              "\n",
              "    [theme=dark] .colab-df-convert {\n",
              "      background-color: #3B4455;\n",
              "      fill: #D2E3FC;\n",
              "    }\n",
              "\n",
              "    [theme=dark] .colab-df-convert:hover {\n",
              "      background-color: #434B5C;\n",
              "      box-shadow: 0px 1px 3px 1px rgba(0, 0, 0, 0.15);\n",
              "      filter: drop-shadow(0px 1px 2px rgba(0, 0, 0, 0.3));\n",
              "      fill: #FFFFFF;\n",
              "    }\n",
              "  </style>\n",
              "\n",
              "      <script>\n",
              "        const buttonEl =\n",
              "          document.querySelector('#df-0d0c17f2-b6c4-4152-a413-426eb9dd3c59 button.colab-df-convert');\n",
              "        buttonEl.style.display =\n",
              "          google.colab.kernel.accessAllowed ? 'block' : 'none';\n",
              "\n",
              "        async function convertToInteractive(key) {\n",
              "          const element = document.querySelector('#df-0d0c17f2-b6c4-4152-a413-426eb9dd3c59');\n",
              "          const dataTable =\n",
              "            await google.colab.kernel.invokeFunction('convertToInteractive',\n",
              "                                                     [key], {});\n",
              "          if (!dataTable) return;\n",
              "\n",
              "          const docLinkHtml = 'Like what you see? Visit the ' +\n",
              "            '<a target=\"_blank\" href=https://colab.research.google.com/notebooks/data_table.ipynb>data table notebook</a>'\n",
              "            + ' to learn more about interactive tables.';\n",
              "          element.innerHTML = '';\n",
              "          dataTable['output_type'] = 'display_data';\n",
              "          await google.colab.output.renderOutput(dataTable, element);\n",
              "          const docLink = document.createElement('div');\n",
              "          docLink.innerHTML = docLinkHtml;\n",
              "          element.appendChild(docLink);\n",
              "        }\n",
              "      </script>\n",
              "    </div>\n",
              "  </div>\n",
              "  "
            ]
          },
          "metadata": {},
          "execution_count": 26
        }
      ]
    },
    {
      "cell_type": "markdown",
      "source": [
        "## Verificar se há falta de informação, visto que os valores ausentes já foram tratados"
      ],
      "metadata": {
        "id": "Fjh3FJdOj6hA"
      }
    },
    {
      "cell_type": "markdown",
      "source": [
        "### Colunas Categóricas\n"
      ],
      "metadata": {
        "id": "Ln6N0hQLj6hA"
      }
    },
    {
      "cell_type": "code",
      "source": [
        "def contar_valores_semelhantes(dataframe, nome_coluna):\n",
        "    coluna = dataframe[nome_coluna]\n",
        "    contagem_valores = coluna.value_counts()\n",
        "\n",
        "    print(\"Contagem de valores semelhantes na coluna '{}':\".format(nome_coluna))\n",
        "    print(contagem_valores)"
      ],
      "metadata": {
        "execution": {
          "iopub.status.busy": "2023-06-20T10:25:41.501630Z",
          "iopub.execute_input": "2023-06-20T10:25:41.502232Z",
          "iopub.status.idle": "2023-06-20T10:25:41.512078Z",
          "shell.execute_reply.started": "2023-06-20T10:25:41.502153Z",
          "shell.execute_reply": "2023-06-20T10:25:41.510480Z"
        },
        "trusted": true,
        "id": "SMX-x3ITj6hB"
      },
      "execution_count": 27,
      "outputs": []
    },
    {
      "cell_type": "code",
      "source": [
        "contar_valores_semelhantes(df_titanic_traim, \"Ticket\")"
      ],
      "metadata": {
        "execution": {
          "iopub.status.busy": "2023-06-20T10:25:41.514013Z",
          "iopub.execute_input": "2023-06-20T10:25:41.514632Z",
          "iopub.status.idle": "2023-06-20T10:25:41.538822Z",
          "shell.execute_reply.started": "2023-06-20T10:25:41.514571Z",
          "shell.execute_reply": "2023-06-20T10:25:41.536673Z"
        },
        "trusted": true,
        "colab": {
          "base_uri": "https://localhost:8080/"
        },
        "id": "yfaVmCLMj6hB",
        "outputId": "e30643b3-eaa4-4c08-8f6a-714b7a1a46ce"
      },
      "execution_count": 28,
      "outputs": [
        {
          "output_type": "stream",
          "name": "stdout",
          "text": [
            "Contagem de valores semelhantes na coluna 'Ticket':\n",
            "347082      7\n",
            "CA. 2343    7\n",
            "1601        7\n",
            "3101295     6\n",
            "CA 2144     6\n",
            "           ..\n",
            "9234        1\n",
            "19988       1\n",
            "2693        1\n",
            "PC 17612    1\n",
            "370376      1\n",
            "Name: Ticket, Length: 680, dtype: int64\n"
          ]
        }
      ]
    },
    {
      "cell_type": "code",
      "source": [
        "contar_valores_semelhantes(df_titanic_traim, \"Embarked\")"
      ],
      "metadata": {
        "execution": {
          "iopub.status.busy": "2023-06-20T10:25:41.541053Z",
          "iopub.execute_input": "2023-06-20T10:25:41.542149Z",
          "iopub.status.idle": "2023-06-20T10:25:41.555746Z",
          "shell.execute_reply.started": "2023-06-20T10:25:41.542080Z",
          "shell.execute_reply": "2023-06-20T10:25:41.554156Z"
        },
        "trusted": true,
        "colab": {
          "base_uri": "https://localhost:8080/"
        },
        "id": "s9aMm5LQj6hB",
        "outputId": "cc082e3a-c00d-4e2e-8bbf-11bcd04ef7c9"
      },
      "execution_count": 29,
      "outputs": [
        {
          "output_type": "stream",
          "name": "stdout",
          "text": [
            "Contagem de valores semelhantes na coluna 'Embarked':\n",
            "S    644\n",
            "C    168\n",
            "Q     77\n",
            "Name: Embarked, dtype: int64\n"
          ]
        }
      ]
    },
    {
      "cell_type": "code",
      "source": [
        "contar_valores_semelhantes(df_titanic_traim, \"Sex\")"
      ],
      "metadata": {
        "execution": {
          "iopub.status.busy": "2023-06-20T10:25:41.557596Z",
          "iopub.execute_input": "2023-06-20T10:25:41.558839Z",
          "iopub.status.idle": "2023-06-20T10:25:41.570843Z",
          "shell.execute_reply.started": "2023-06-20T10:25:41.558776Z",
          "shell.execute_reply": "2023-06-20T10:25:41.569313Z"
        },
        "trusted": true,
        "colab": {
          "base_uri": "https://localhost:8080/"
        },
        "id": "PDP_72gAj6hB",
        "outputId": "1ec542e6-6d29-4ee2-f597-93e80b92ff8a"
      },
      "execution_count": 30,
      "outputs": [
        {
          "output_type": "stream",
          "name": "stdout",
          "text": [
            "Contagem de valores semelhantes na coluna 'Sex':\n",
            "male      577\n",
            "female    312\n",
            "Name: Sex, dtype: int64\n"
          ]
        }
      ]
    },
    {
      "cell_type": "markdown",
      "source": [
        "### Colunas Númericas\n"
      ],
      "metadata": {
        "id": "_47wI5Q3j6hB"
      }
    },
    {
      "cell_type": "code",
      "source": [
        "df_titanic_traim[\"Fare\"].describe()\n"
      ],
      "metadata": {
        "execution": {
          "iopub.status.busy": "2023-06-20T10:25:41.572260Z",
          "iopub.execute_input": "2023-06-20T10:25:41.572777Z",
          "iopub.status.idle": "2023-06-20T10:25:41.595664Z",
          "shell.execute_reply.started": "2023-06-20T10:25:41.572726Z",
          "shell.execute_reply": "2023-06-20T10:25:41.593907Z"
        },
        "trusted": true,
        "colab": {
          "base_uri": "https://localhost:8080/"
        },
        "id": "tXSw4D-0j6hC",
        "outputId": "922cd45f-0a6b-4a8d-c634-26bbd4485548"
      },
      "execution_count": 31,
      "outputs": [
        {
          "output_type": "execute_result",
          "data": {
            "text/plain": [
              "count    889.000000\n",
              "mean      32.096681\n",
              "std       49.697504\n",
              "min        0.000000\n",
              "25%        7.895800\n",
              "50%       14.454200\n",
              "75%       31.000000\n",
              "max      512.329200\n",
              "Name: Fare, dtype: float64"
            ]
          },
          "metadata": {},
          "execution_count": 31
        }
      ]
    },
    {
      "cell_type": "code",
      "source": [
        "sns.set(style=\"whitegrid\")\n",
        "\n",
        "plt.figure(figsize=(5, 3))\n",
        "\n",
        "sns.boxplot(x=df_titanic_traim['Fare'])\n",
        "\n",
        "plt.title(\"Box plot com dados da coluna Fare\")\n",
        "plt.xlabel(\"Fare\")\n",
        "plt.ylabel(\"Valores\")\n",
        "\n",
        "plt.show()"
      ],
      "metadata": {
        "execution": {
          "iopub.status.busy": "2023-06-20T10:25:41.605133Z",
          "iopub.execute_input": "2023-06-20T10:25:41.606509Z",
          "iopub.status.idle": "2023-06-20T10:25:41.839073Z",
          "shell.execute_reply.started": "2023-06-20T10:25:41.606454Z",
          "shell.execute_reply": "2023-06-20T10:25:41.837469Z"
        },
        "trusted": true,
        "colab": {
          "base_uri": "https://localhost:8080/",
          "height": 342
        },
        "id": "9Rz-ebvRj6hC",
        "outputId": "3ffdbc09-6560-405b-e460-f86e6d1c478c"
      },
      "execution_count": 32,
      "outputs": [
        {
          "output_type": "display_data",
          "data": {
            "text/plain": [
              "<Figure size 500x300 with 1 Axes>"
            ],
            "image/png": "[encoded data removed]"
          },
          "metadata": {}
        }
      ]
    },
    {
      "cell_type": "code",
      "source": [
        "\n",
        "# Criar o gráfico de dispersão\n",
        "plt.scatter(df_titanic_traim['Pclass'], df_titanic_traim['Fare'])\n",
        "\n",
        "# Adicionar rótulos aos eixos\n",
        "plt.xlabel('Pclass')\n",
        "plt.ylabel('Fare')\n",
        "\n",
        "# Exibir o gráfico\n",
        "plt.show()"
      ],
      "metadata": {
        "execution": {
          "iopub.status.busy": "2023-06-20T10:25:41.841109Z",
          "iopub.execute_input": "2023-06-20T10:25:41.841510Z",
          "iopub.status.idle": "2023-06-20T10:25:42.168523Z",
          "shell.execute_reply.started": "2023-06-20T10:25:41.841474Z",
          "shell.execute_reply": "2023-06-20T10:25:42.167353Z"
        },
        "trusted": true,
        "colab": {
          "base_uri": "https://localhost:8080/",
          "height": 458
        },
        "id": "Rw47UR4aj6hC",
        "outputId": "3977cedc-c39e-4ffc-d3f3-a31ce330c709"
      },
      "execution_count": 33,
      "outputs": [
        {
          "output_type": "display_data",
          "data": {
            "text/plain": [
              "<Figure size 640x480 with 1 Axes>"
            ],
            "image/png": "[encoded data removed]"
          },
          "metadata": {}
        }
      ]
    },
    {
      "cell_type": "code",
      "source": [
        "q3_Fare = df_titanic_traim['Fare'].quantile(0.75)\n",
        "q1_Fare = df_titanic_traim['Fare'].quantile(0.25)\n",
        "\n",
        "iqr_Fare = q3-q1\n",
        "\n",
        "limite_max_Fare = q3_Fare+(1.5*iqr_Fare)\n",
        "print(\"Limite Max fare\",limite_max_Fare)"
      ],
      "metadata": {
        "execution": {
          "iopub.status.busy": "2023-06-20T10:25:42.170089Z",
          "iopub.execute_input": "2023-06-20T10:25:42.171567Z",
          "iopub.status.idle": "2023-06-20T10:25:42.187991Z",
          "shell.execute_reply.started": "2023-06-20T10:25:42.171499Z",
          "shell.execute_reply": "2023-06-20T10:25:42.186386Z"
        },
        "trusted": true,
        "colab": {
          "base_uri": "https://localhost:8080/"
        },
        "id": "nehNm4aBj6hC",
        "outputId": "c0a0d3ae-fcc3-4b3e-da50-722e831a45e7"
      },
      "execution_count": 34,
      "outputs": [
        {
          "output_type": "stream",
          "name": "stdout",
          "text": [
            "Limite Max fare 57.8125\n"
          ]
        }
      ]
    },
    {
      "cell_type": "code",
      "source": [
        "df_titanic_traim.loc[df_titanic_traim['Fare'] > limite_max_Fare, 'Fare'] = limite_max_Fare"
      ],
      "metadata": {
        "execution": {
          "iopub.status.busy": "2023-06-20T10:25:42.190633Z",
          "iopub.execute_input": "2023-06-20T10:25:42.192849Z",
          "iopub.status.idle": "2023-06-20T10:25:42.206338Z",
          "shell.execute_reply.started": "2023-06-20T10:25:42.192789Z",
          "shell.execute_reply": "2023-06-20T10:25:42.204357Z"
        },
        "trusted": true,
        "id": "aY_abcfej6hL"
      },
      "execution_count": 35,
      "outputs": []
    },
    {
      "cell_type": "code",
      "source": [
        "sns.set(style=\"whitegrid\")\n",
        "\n",
        "plt.figure(figsize=(5, 3))\n",
        "\n",
        "sns.boxplot(x=df_titanic_traim['Fare'])\n",
        "\n",
        "plt.title(\"Box plot com dados da coluna Fare\")\n",
        "plt.xlabel(\"Fare\")\n",
        "plt.ylabel(\"Valores\")\n",
        "\n",
        "plt.show()"
      ],
      "metadata": {
        "execution": {
          "iopub.status.busy": "2023-06-20T10:25:42.209485Z",
          "iopub.execute_input": "2023-06-20T10:25:42.211683Z",
          "iopub.status.idle": "2023-06-20T10:25:42.467811Z",
          "shell.execute_reply.started": "2023-06-20T10:25:42.211490Z",
          "shell.execute_reply": "2023-06-20T10:25:42.465996Z"
        },
        "trusted": true,
        "colab": {
          "base_uri": "https://localhost:8080/",
          "height": 342
        },
        "id": "bIVxmYSrj6hL",
        "outputId": "d3cb9544-a985-42ec-8b0b-3c2c96423d59"
      },
      "execution_count": 36,
      "outputs": [
        {
          "output_type": "display_data",
          "data": {
            "text/plain": [
              "<Figure size 500x300 with 1 Axes>"
            ],
            "image/png": "[encoded data removed]"
          },
          "metadata": {}
        }
      ]
    },
    {
      "cell_type": "code",
      "source": [
        "df_titanic_traim.head()"
      ],
      "metadata": {
        "execution": {
          "iopub.status.busy": "2023-06-20T10:25:42.470063Z",
          "iopub.execute_input": "2023-06-20T10:25:42.470543Z",
          "iopub.status.idle": "2023-06-20T10:25:42.492721Z",
          "shell.execute_reply.started": "2023-06-20T10:25:42.470499Z",
          "shell.execute_reply": "2023-06-20T10:25:42.491140Z"
        },
        "trusted": true,
        "colab": {
          "base_uri": "https://localhost:8080/",
          "height": 206
        },
        "id": "2vPzkTkOj6hM",
        "outputId": "bd007d73-5a7e-4857-ddef-7da3e17a179c"
      },
      "execution_count": 37,
      "outputs": [
        {
          "output_type": "execute_result",
          "data": {
            "text/plain": [
              "   PassengerId  Survived  Pclass  \\\n",
              "0            1         0       3   \n",
              "1            2         1       1   \n",
              "2            3         1       3   \n",
              "3            4         1       1   \n",
              "4            5         0       3   \n",
              "\n",
              "                                                Name     Sex   Age  SibSp  \\\n",
              "0                            Braund, Mr. Owen Harris    male  22.0      1   \n",
              "1  Cumings, Mrs. John Bradley (Florence Briggs Th...  female  38.0      1   \n",
              "2                             Heikkinen, Miss. Laina  female  26.0      0   \n",
              "3       Futrelle, Mrs. Jacques Heath (Lily May Peel)  female  35.0      1   \n",
              "4                           Allen, Mr. William Henry    male  35.0      0   \n",
              "\n",
              "   Parch            Ticket     Fare Embarked  \n",
              "0      0         A/5 21171   7.2500        S  \n",
              "1      0          PC 17599  57.8125        C  \n",
              "2      0  STON/O2. 3101282   7.9250        S  \n",
              "3      0            113803  53.1000        S  \n",
              "4      0            373450   8.0500        S  "
            ],
            "text/html": [
              "\n",
              "  <div id=\"df-67e3af0f-68e6-4de4-bbd7-e85ae7b1a623\">\n",
              "    <div class=\"colab-df-container\">\n",
              "      <div>\n",
              "<style scoped>\n",
              "    .dataframe tbody tr th:only-of-type {\n",
              "        vertical-align: middle;\n",
              "    }\n",
              "\n",
              "    .dataframe tbody tr th {\n",
              "        vertical-align: top;\n",
              "    }\n",
              "\n",
              "    .dataframe thead th {\n",
              "        text-align: right;\n",
              "    }\n",
              "</style>\n",
              "<table border=\"1\" class=\"dataframe\">\n",
              "  <thead>\n",
              "    <tr style=\"text-align: right;\">\n",
              "      <th></th>\n",
              "      <th>PassengerId</th>\n",
              "      <th>Survived</th>\n",
              "      <th>Pclass</th>\n",
              "      <th>Name</th>\n",
              "      <th>Sex</th>\n",
              "      <th>Age</th>\n",
              "      <th>SibSp</th>\n",
              "      <th>Parch</th>\n",
              "      <th>Ticket</th>\n",
              "      <th>Fare</th>\n",
              "      <th>Embarked</th>\n",
              "    </tr>\n",
              "  </thead>\n",
              "  <tbody>\n",
              "    <tr>\n",
              "      <th>0</th>\n",
              "      <td>1</td>\n",
              "      <td>0</td>\n",
              "      <td>3</td>\n",
              "      <td>Braund, Mr. Owen Harris</td>\n",
              "      <td>male</td>\n",
              "      <td>22.0</td>\n",
              "      <td>1</td>\n",
              "      <td>0</td>\n",
              "      <td>A/5 21171</td>\n",
              "      <td>7.2500</td>\n",
              "      <td>S</td>\n",
              "    </tr>\n",
              "    <tr>\n",
              "      <th>1</th>\n",
              "      <td>2</td>\n",
              "      <td>1</td>\n",
              "      <td>1</td>\n",
              "      <td>Cumings, Mrs. John Bradley (Florence Briggs Th...</td>\n",
              "      <td>female</td>\n",
              "      <td>38.0</td>\n",
              "      <td>1</td>\n",
              "      <td>0</td>\n",
              "      <td>PC 17599</td>\n",
              "      <td>57.8125</td>\n",
              "      <td>C</td>\n",
              "    </tr>\n",
              "    <tr>\n",
              "      <th>2</th>\n",
              "      <td>3</td>\n",
              "      <td>1</td>\n",
              "      <td>3</td>\n",
              "      <td>Heikkinen, Miss. Laina</td>\n",
              "      <td>female</td>\n",
              "      <td>26.0</td>\n",
              "      <td>0</td>\n",
              "      <td>0</td>\n",
              "      <td>STON/O2. 3101282</td>\n",
              "      <td>7.9250</td>\n",
              "      <td>S</td>\n",
              "    </tr>\n",
              "    <tr>\n",
              "      <th>3</th>\n",
              "      <td>4</td>\n",
              "      <td>1</td>\n",
              "      <td>1</td>\n",
              "      <td>Futrelle, Mrs. Jacques Heath (Lily May Peel)</td>\n",
              "      <td>female</td>\n",
              "      <td>35.0</td>\n",
              "      <td>1</td>\n",
              "      <td>0</td>\n",
              "      <td>113803</td>\n",
              "      <td>53.1000</td>\n",
              "      <td>S</td>\n",
              "    </tr>\n",
              "    <tr>\n",
              "      <th>4</th>\n",
              "      <td>5</td>\n",
              "      <td>0</td>\n",
              "      <td>3</td>\n",
              "      <td>Allen, Mr. William Henry</td>\n",
              "      <td>male</td>\n",
              "      <td>35.0</td>\n",
              "      <td>0</td>\n",
              "      <td>0</td>\n",
              "      <td>373450</td>\n",
              "      <td>8.0500</td>\n",
              "      <td>S</td>\n",
              "    </tr>\n",
              "  </tbody>\n",
              "</table>\n",
              "</div>\n",
              "      <button class=\"colab-df-convert\" onclick=\"convertToInteractive('df-67e3af0f-68e6-4de4-bbd7-e85ae7b1a623')\"\n",
              "              title=\"Convert this dataframe to an interactive table.\"\n",
              "              style=\"display:none;\">\n",
              "        \n",
              "  <svg xmlns=\"http://www.w3.org/2000/svg\" height=\"24px\"viewBox=\"0 0 24 24\"\n",
              "       width=\"24px\">\n",
              "    <path d=\"M0 0h24v24H0V0z\" fill=\"none\"/>\n",
              "    <path d=\"M18.56 5.44l.94 2.06.94-2.06 2.06-.94-2.06-.94-.94-2.06-.94 2.06-2.06.94zm-11 1L8.5 8.5l.94-2.06 2.06-.94-2.06-.94L8.5 2.5l-.94 2.06-2.06.94zm10 10l.94 2.06.94-2.06 2.06-.94-2.06-.94-.94-2.06-.94 2.06-2.06.94z\"/><path d=\"M17.41 7.96l-1.37-1.37c-.4-.4-.92-.59-1.43-.59-.52 0-1.04.2-1.43.59L10.3 9.45l-7.72 7.72c-.78.78-.78 2.05 0 2.83L4 21.41c.39.39.9.59 1.41.59.51 0 1.02-.2 1.41-.59l7.78-7.78 2.81-2.81c.8-.78.8-2.07 0-2.86zM5.41 20L4 18.59l7.72-7.72 1.47 1.35L5.41 20z\"/>\n",
              "  </svg>\n",
              "      </button>\n",
              "      \n",
              "  <style>\n",
              "    .colab-df-container {\n",
              "      display:flex;\n",
              "      flex-wrap:wrap;\n",
              "      gap: 12px;\n",
              "    }\n",
              "\n",
              "    .colab-df-convert {\n",
              "      background-color: #E8F0FE;\n",
              "      border: none;\n",
              "      border-radius: 50%;\n",
              "      cursor: pointer;\n",
              "      display: none;\n",
              "      fill: #1967D2;\n",
              "      height: 32px;\n",
              "      padding: 0 0 0 0;\n",
              "      width: 32px;\n",
              "    }\n",
              "\n",
              "    .colab-df-convert:hover {\n",
              "      background-color: #E2EBFA;\n",
              "      box-shadow: 0px 1px 2px rgba(60, 64, 67, 0.3), 0px 1px 3px 1px rgba(60, 64, 67, 0.15);\n",
              "      fill: #174EA6;\n",
              "    }\n",
              "\n",
              "    [theme=dark] .colab-df-convert {\n",
              "      background-color: #3B4455;\n",
              "      fill: #D2E3FC;\n",
              "    }\n",
              "\n",
              "    [theme=dark] .colab-df-convert:hover {\n",
              "      background-color: #434B5C;\n",
              "      box-shadow: 0px 1px 3px 1px rgba(0, 0, 0, 0.15);\n",
              "      filter: drop-shadow(0px 1px 2px rgba(0, 0, 0, 0.3));\n",
              "      fill: #FFFFFF;\n",
              "    }\n",
              "  </style>\n",
              "\n",
              "      <script>\n",
              "        const buttonEl =\n",
              "          document.querySelector('#df-67e3af0f-68e6-4de4-bbd7-e85ae7b1a623 button.colab-df-convert');\n",
              "        buttonEl.style.display =\n",
              "          google.colab.kernel.accessAllowed ? 'block' : 'none';\n",
              "\n",
              "        async function convertToInteractive(key) {\n",
              "          const element = document.querySelector('#df-67e3af0f-68e6-4de4-bbd7-e85ae7b1a623');\n",
              "          const dataTable =\n",
              "            await google.colab.kernel.invokeFunction('convertToInteractive',\n",
              "                                                     [key], {});\n",
              "          if (!dataTable) return;\n",
              "\n",
              "          const docLinkHtml = 'Like what you see? Visit the ' +\n",
              "            '<a target=\"_blank\" href=https://colab.research.google.com/notebooks/data_table.ipynb>data table notebook</a>'\n",
              "            + ' to learn more about interactive tables.';\n",
              "          element.innerHTML = '';\n",
              "          dataTable['output_type'] = 'display_data';\n",
              "          await google.colab.output.renderOutput(dataTable, element);\n",
              "          const docLink = document.createElement('div');\n",
              "          docLink.innerHTML = docLinkHtml;\n",
              "          element.appendChild(docLink);\n",
              "        }\n",
              "      </script>\n",
              "    </div>\n",
              "  </div>\n",
              "  "
            ]
          },
          "metadata": {},
          "execution_count": 37
        }
      ]
    },
    {
      "cell_type": "markdown",
      "source": [
        "<div class=\"alert alert-success\">\n",
        "    <strong><div style=\"color: rgb(0, 0, 0);\"><strong>Resumo limpeza de dados:</strong></div></strong> <br>\n",
        "    <div style=\"color: rgb(0, 0, 0);\"> ✔️ Verificado possiveis valores duplicados</div>\n",
        "    <div style=\"color: rgb(0, 0, 0);\"> ✔️ Exclusão da coluna <strong>Cabin</strong> porque possui 70,10% de valores ausente, ou seja, falta muita informação.</div>\n",
        "    <div style=\"color: rgb(0, 0, 0);\"> ✔️ Realizado o tratamento de outlier na coluna <strong>Age</strong> e fazendo imputação de valores usando mediana.  </div>\n",
        "    <div style=\"color: rgb(0, 0, 0);\"> ✔️ Realizado exclusão de 2 linhas do dataset, visto que esse representa 0,22% de possivel informação.</div>\n",
        "    <div style=\"color: rgb(0, 0, 0);\"> ✔️ Realizado o tratamento de outlier na coluna <strong>Fare</strong>.</div>\n",
        "\n",
        "</div>\n"
      ],
      "metadata": {
        "id": "TrOqxewqj6hN"
      }
    },
    {
      "cell_type": "markdown",
      "source": [
        "<a id='explorando_dados'></a>\n",
        "# <font color=\"#FA7F08\">5. Análise Exploratória de dados (EDA)</font>\n",
        "<hr color=\"#F5F5F5\" size=\"1\">"
      ],
      "metadata": {
        "id": "BEnBkva6j6hO"
      }
    },
    {
      "cell_type": "code",
      "source": [
        "df_titanic_traim.info()"
      ],
      "metadata": {
        "execution": {
          "iopub.status.busy": "2023-06-20T10:25:42.494626Z",
          "iopub.execute_input": "2023-06-20T10:25:42.495019Z",
          "iopub.status.idle": "2023-06-20T10:25:42.519575Z",
          "shell.execute_reply.started": "2023-06-20T10:25:42.494983Z",
          "shell.execute_reply": "2023-06-20T10:25:42.517521Z"
        },
        "trusted": true,
        "colab": {
          "base_uri": "https://localhost:8080/"
        },
        "id": "NLTaA0uMj6hO",
        "outputId": "4272ff9c-d7a1-481f-cd3b-24dbcae26d19"
      },
      "execution_count": 38,
      "outputs": [
        {
          "output_type": "stream",
          "name": "stdout",
          "text": [
            "<class 'pandas.core.frame.DataFrame'>\n",
            "Int64Index: 889 entries, 0 to 890\n",
            "Data columns (total 11 columns):\n",
            " #   Column       Non-Null Count  Dtype  \n",
            "---  ------       --------------  -----  \n",
            " 0   PassengerId  889 non-null    int64  \n",
            " 1   Survived     889 non-null    int64  \n",
            " 2   Pclass       889 non-null    int64  \n",
            " 3   Name         889 non-null    object \n",
            " 4   Sex          889 non-null    object \n",
            " 5   Age          889 non-null    float64\n",
            " 6   SibSp        889 non-null    int64  \n",
            " 7   Parch        889 non-null    int64  \n",
            " 8   Ticket       889 non-null    object \n",
            " 9   Fare         889 non-null    float64\n",
            " 10  Embarked     889 non-null    object \n",
            "dtypes: float64(2), int64(5), object(4)\n",
            "memory usage: 83.3+ KB\n"
          ]
        }
      ]
    },
    {
      "cell_type": "code",
      "source": [
        "columns = [\"Survived\", \"Pclass\", \"Sex\", \"SibSp\", \"Parch\", \"Embarked\"]\n",
        "\n",
        "fig, axes = plt.subplots(2, 3, figsize=(15, 10))\n",
        "colors = [\"red\", \"green\"]  # Cores das barras\n",
        "for col, ax in zip(columns, axes.flatten()):\n",
        "    sns.countplot(x=col, data=df_titanic_traim, hue=\"Survived\", ax=ax, palette=colors)\n"
      ],
      "metadata": {
        "execution": {
          "iopub.status.busy": "2023-06-20T10:25:42.522372Z",
          "iopub.execute_input": "2023-06-20T10:25:42.524770Z",
          "iopub.status.idle": "2023-06-20T10:25:44.042247Z",
          "shell.execute_reply.started": "2023-06-20T10:25:42.524701Z",
          "shell.execute_reply": "2023-06-20T10:25:44.040825Z"
        },
        "trusted": true,
        "colab": {
          "base_uri": "https://localhost:8080/",
          "height": 810
        },
        "id": "Jp_8HY0dj6hP",
        "outputId": "21afffce-f3ed-4d6c-e805-41e0b9a293cf"
      },
      "execution_count": 39,
      "outputs": [
        {
          "output_type": "display_data",
          "data": {
            "text/plain": [
              "<Figure size 1500x1000 with 6 Axes>"
            ],
            "image/png": "[encoded data removed]"
          },
          "metadata": {}
        }
      ]
    },
    {
      "cell_type": "code",
      "source": [
        "\n",
        "\n",
        "\n",
        "\n",
        "plt.figure(figsize=(10, 7))\n",
        "#sns.swarmplot(x=categories, y=values)\n",
        "colors = [\"red\", \"green\"]\n",
        "sns.swarmplot(data=df_titanic_traim, x=\"Age\", y=\"Sex\", hue=\"Survived\", palette=colors, size=3)\n",
        "#sns.stripplot(data=df_titanic_traim, x=\"Age\", y=\"Sex\", hue=\"Survived\", palette=colors, size=4)\n",
        "\n",
        "plt.show()\n"
      ],
      "metadata": {
        "execution": {
          "iopub.status.busy": "2023-06-20T10:25:44.044267Z",
          "iopub.execute_input": "2023-06-20T10:25:44.044768Z",
          "iopub.status.idle": "2023-06-20T10:25:47.310150Z",
          "shell.execute_reply.started": "2023-06-20T10:25:44.044715Z",
          "shell.execute_reply": "2023-06-20T10:25:47.308521Z"
        },
        "trusted": true,
        "colab": {
          "base_uri": "https://localhost:8080/",
          "height": 716
        },
        "id": "8SNZvJqCj6hQ",
        "outputId": "424a54ce-4e74-4a96-e489-adeea65db730"
      },
      "execution_count": 40,
      "outputs": [
        {
          "output_type": "stream",
          "name": "stderr",
          "text": [
            "/usr/local/lib/python3.10/dist-packages/seaborn/categorical.py:3544: UserWarning: 9.2% of the points cannot be placed; you may want to decrease the size of the markers or use stripplot.\n",
            "  warnings.warn(msg, UserWarning)\n",
            "/usr/local/lib/python3.10/dist-packages/seaborn/categorical.py:3544: UserWarning: 16.1% of the points cannot be placed; you may want to decrease the size of the markers or use stripplot.\n",
            "  warnings.warn(msg, UserWarning)\n"
          ]
        },
        {
          "output_type": "display_data",
          "data": {
            "text/plain": [
              "<Figure size 1000x700 with 1 Axes>"
            ],
            "image/png": "[encoded data removed]"
          },
          "metadata": {}
        }
      ]
    },
    {
      "cell_type": "code",
      "source": [
        "import matplotlib.ticker as ticker\n",
        "\n",
        "#Nº de irmãos/cônjuges a bordo do Titanic\n",
        "plt.figure(figsize=(14, 7))\n",
        "#sns.swarmplot(x=categories, y=values)\n",
        "colors = [\"red\", \"green\"]\n",
        "sns.swarmplot(data=df_titanic_traim, x=\"Age\", y=\"SibSp\", hue=\"Survived\", palette=colors, size=3)\n",
        "#sns.stripplot(data=df_titanic_traim, x=\"Age\", y=\"Sex\", hue=\"Survived\", palette=colors, size=3)\n",
        "\n",
        "ax = plt.gca()\n",
        "ax.xaxis.set_major_locator(ticker.MultipleLocator(5))\n",
        "\n",
        "plt.show()"
      ],
      "metadata": {
        "execution": {
          "iopub.status.busy": "2023-06-20T10:26:22.863061Z",
          "iopub.execute_input": "2023-06-20T10:26:22.864073Z",
          "iopub.status.idle": "2023-06-20T10:26:28.921915Z",
          "shell.execute_reply.started": "2023-06-20T10:26:22.864026Z",
          "shell.execute_reply": "2023-06-20T10:26:28.920416Z"
        },
        "trusted": true,
        "colab": {
          "base_uri": "https://localhost:8080/",
          "height": 1000
        },
        "id": "tkHPbeW6j6hQ",
        "outputId": "91e2c42d-5b01-4916-92da-10764de15065"
      },
      "execution_count": 74,
      "outputs": [
        {
          "output_type": "stream",
          "name": "stderr",
          "text": [
            "/usr/local/lib/python3.10/dist-packages/seaborn/categorical.py:3544: UserWarning: 16.7% of the points cannot be placed; you may want to decrease the size of the markers or use stripplot.\n",
            "  warnings.warn(msg, UserWarning)\n",
            "/usr/local/lib/python3.10/dist-packages/seaborn/categorical.py:3544: UserWarning: 52.9% of the points cannot be placed; you may want to decrease the size of the markers or use stripplot.\n",
            "  warnings.warn(msg, UserWarning)\n",
            "/usr/local/lib/python3.10/dist-packages/seaborn/categorical.py:3544: UserWarning: 46.2% of the points cannot be placed; you may want to decrease the size of the markers or use stripplot.\n",
            "  warnings.warn(msg, UserWarning)\n",
            "/usr/local/lib/python3.10/dist-packages/seaborn/categorical.py:3544: UserWarning: 69.2% of the points cannot be placed; you may want to decrease the size of the markers or use stripplot.\n",
            "  warnings.warn(msg, UserWarning)\n",
            "/usr/local/lib/python3.10/dist-packages/seaborn/categorical.py:3544: UserWarning: 72.0% of the points cannot be placed; you may want to decrease the size of the markers or use stripplot.\n",
            "  warnings.warn(msg, UserWarning)\n",
            "/usr/local/lib/python3.10/dist-packages/seaborn/categorical.py:3544: UserWarning: 60.0% of the points cannot be placed; you may want to decrease the size of the markers or use stripplot.\n",
            "  warnings.warn(msg, UserWarning)\n",
            "/usr/local/lib/python3.10/dist-packages/seaborn/categorical.py:3544: UserWarning: 66.7% of the points cannot be placed; you may want to decrease the size of the markers or use stripplot.\n",
            "  warnings.warn(msg, UserWarning)\n",
            "/usr/local/lib/python3.10/dist-packages/seaborn/categorical.py:3544: UserWarning: 77.8% of the points cannot be placed; you may want to decrease the size of the markers or use stripplot.\n",
            "  warnings.warn(msg, UserWarning)\n",
            "/usr/local/lib/python3.10/dist-packages/seaborn/categorical.py:3544: UserWarning: 73.9% of the points cannot be placed; you may want to decrease the size of the markers or use stripplot.\n",
            "  warnings.warn(msg, UserWarning)\n",
            "/usr/local/lib/python3.10/dist-packages/seaborn/categorical.py:3544: UserWarning: 61.1% of the points cannot be placed; you may want to decrease the size of the markers or use stripplot.\n",
            "  warnings.warn(msg, UserWarning)\n",
            "/usr/local/lib/python3.10/dist-packages/seaborn/categorical.py:3544: UserWarning: 92.6% of the points cannot be placed; you may want to decrease the size of the markers or use stripplot.\n",
            "  warnings.warn(msg, UserWarning)\n",
            "/usr/local/lib/python3.10/dist-packages/seaborn/categorical.py:3544: UserWarning: 70.0% of the points cannot be placed; you may want to decrease the size of the markers or use stripplot.\n",
            "  warnings.warn(msg, UserWarning)\n",
            "/usr/local/lib/python3.10/dist-packages/seaborn/categorical.py:3544: UserWarning: 64.7% of the points cannot be placed; you may want to decrease the size of the markers or use stripplot.\n",
            "  warnings.warn(msg, UserWarning)\n",
            "/usr/local/lib/python3.10/dist-packages/seaborn/categorical.py:3544: UserWarning: 53.3% of the points cannot be placed; you may want to decrease the size of the markers or use stripplot.\n",
            "  warnings.warn(msg, UserWarning)\n",
            "/usr/local/lib/python3.10/dist-packages/seaborn/categorical.py:3544: UserWarning: 72.7% of the points cannot be placed; you may want to decrease the size of the markers or use stripplot.\n",
            "  warnings.warn(msg, UserWarning)\n",
            "/usr/local/lib/python3.10/dist-packages/seaborn/categorical.py:3544: UserWarning: 40.0% of the points cannot be placed; you may want to decrease the size of the markers or use stripplot.\n",
            "  warnings.warn(msg, UserWarning)\n",
            "/usr/local/lib/python3.10/dist-packages/seaborn/categorical.py:3544: UserWarning: 57.1% of the points cannot be placed; you may want to decrease the size of the markers or use stripplot.\n",
            "  warnings.warn(msg, UserWarning)\n",
            "/usr/local/lib/python3.10/dist-packages/seaborn/categorical.py:3544: UserWarning: 53.8% of the points cannot be placed; you may want to decrease the size of the markers or use stripplot.\n",
            "  warnings.warn(msg, UserWarning)\n",
            "/usr/local/lib/python3.10/dist-packages/seaborn/categorical.py:3544: UserWarning: 33.3% of the points cannot be placed; you may want to decrease the size of the markers or use stripplot.\n",
            "  warnings.warn(msg, UserWarning)\n",
            "/usr/local/lib/python3.10/dist-packages/seaborn/categorical.py:3544: UserWarning: 50.0% of the points cannot be placed; you may want to decrease the size of the markers or use stripplot.\n",
            "  warnings.warn(msg, UserWarning)\n",
            "/usr/local/lib/python3.10/dist-packages/seaborn/categorical.py:3544: UserWarning: 44.4% of the points cannot be placed; you may want to decrease the size of the markers or use stripplot.\n",
            "  warnings.warn(msg, UserWarning)\n",
            "/usr/local/lib/python3.10/dist-packages/seaborn/categorical.py:3544: UserWarning: 42.9% of the points cannot be placed; you may want to decrease the size of the markers or use stripplot.\n",
            "  warnings.warn(msg, UserWarning)\n",
            "/usr/local/lib/python3.10/dist-packages/seaborn/categorical.py:3544: UserWarning: 25.0% of the points cannot be placed; you may want to decrease the size of the markers or use stripplot.\n",
            "  warnings.warn(msg, UserWarning)\n",
            "/usr/local/lib/python3.10/dist-packages/seaborn/categorical.py:3544: UserWarning: 63.6% of the points cannot be placed; you may want to decrease the size of the markers or use stripplot.\n",
            "  warnings.warn(msg, UserWarning)\n"
          ]
        },
        {
          "output_type": "display_data",
          "data": {
            "text/plain": [
              "<Figure size 1000x700 with 1 Axes>"
            ],
            "image/png": "[encoded data removed]"
          },
          "metadata": {}
        }
      ]
    },
    {
      "cell_type": "markdown",
      "source": [],
      "metadata": {
        "id": "AxF0NhaHj6hR"
      }
    },
    {
      "cell_type": "code",
      "source": [
        "#Nº de pais/filhos a bordo do Titanic\n",
        "plt.figure(figsize=(14, 7))\n",
        "#sns.swarmplot(x=categories, y=values)\n",
        "colors = [\"red\", \"green\"]\n",
        "sns.swarmplot(data=df_titanic_traim, x=\"Age\", y=\"Parch\", hue=\"Survived\", palette=colors, size=3)\n",
        "#sns.stripplot(data=df_titanic_traim, x=\"Age\", y=\"Sex\", hue=\"Survived\", palette=colors, size=4)\n",
        "\n",
        "ax = plt.gca()\n",
        "ax.xaxis.set_major_locator(ticker.MultipleLocator(5))\n",
        "\n",
        "plt.show()"
      ],
      "metadata": {
        "execution": {
          "iopub.status.busy": "2023-06-20T10:25:53.263076Z",
          "iopub.execute_input": "2023-06-20T10:25:53.263603Z",
          "iopub.status.idle": "2023-06-20T10:25:59.886065Z",
          "shell.execute_reply.started": "2023-06-20T10:25:53.263542Z",
          "shell.execute_reply": "2023-06-20T10:25:59.883306Z"
        },
        "trusted": true,
        "colab": {
          "base_uri": "https://localhost:8080/",
          "height": 1000
        },
        "id": "V-AiGwkKj6hR",
        "outputId": "5de60348-74de-4cc1-d126-dd7a8683e230"
      },
      "execution_count": 75,
      "outputs": [
        {
          "output_type": "stream",
          "name": "stderr",
          "text": [
            "/usr/local/lib/python3.10/dist-packages/seaborn/categorical.py:3544: UserWarning: 14.3% of the points cannot be placed; you may want to decrease the size of the markers or use stripplot.\n",
            "  warnings.warn(msg, UserWarning)\n",
            "/usr/local/lib/python3.10/dist-packages/seaborn/categorical.py:3544: UserWarning: 40.0% of the points cannot be placed; you may want to decrease the size of the markers or use stripplot.\n",
            "  warnings.warn(msg, UserWarning)\n",
            "/usr/local/lib/python3.10/dist-packages/seaborn/categorical.py:3544: UserWarning: 16.7% of the points cannot be placed; you may want to decrease the size of the markers or use stripplot.\n",
            "  warnings.warn(msg, UserWarning)\n",
            "/usr/local/lib/python3.10/dist-packages/seaborn/categorical.py:3544: UserWarning: 37.5% of the points cannot be placed; you may want to decrease the size of the markers or use stripplot.\n",
            "  warnings.warn(msg, UserWarning)\n",
            "/usr/local/lib/python3.10/dist-packages/seaborn/categorical.py:3544: UserWarning: 52.9% of the points cannot be placed; you may want to decrease the size of the markers or use stripplot.\n",
            "  warnings.warn(msg, UserWarning)\n",
            "/usr/local/lib/python3.10/dist-packages/seaborn/categorical.py:3544: UserWarning: 53.8% of the points cannot be placed; you may want to decrease the size of the markers or use stripplot.\n",
            "  warnings.warn(msg, UserWarning)\n",
            "/usr/local/lib/python3.10/dist-packages/seaborn/categorical.py:3544: UserWarning: 65.4% of the points cannot be placed; you may want to decrease the size of the markers or use stripplot.\n",
            "  warnings.warn(msg, UserWarning)\n",
            "/usr/local/lib/python3.10/dist-packages/seaborn/categorical.py:3544: UserWarning: 76.0% of the points cannot be placed; you may want to decrease the size of the markers or use stripplot.\n",
            "  warnings.warn(msg, UserWarning)\n",
            "/usr/local/lib/python3.10/dist-packages/seaborn/categorical.py:3544: UserWarning: 73.3% of the points cannot be placed; you may want to decrease the size of the markers or use stripplot.\n",
            "  warnings.warn(msg, UserWarning)\n",
            "/usr/local/lib/python3.10/dist-packages/seaborn/categorical.py:3544: UserWarning: 75.0% of the points cannot be placed; you may want to decrease the size of the markers or use stripplot.\n",
            "  warnings.warn(msg, UserWarning)\n",
            "/usr/local/lib/python3.10/dist-packages/seaborn/categorical.py:3544: UserWarning: 74.1% of the points cannot be placed; you may want to decrease the size of the markers or use stripplot.\n",
            "  warnings.warn(msg, UserWarning)\n",
            "/usr/local/lib/python3.10/dist-packages/seaborn/categorical.py:3544: UserWarning: 60.0% of the points cannot be placed; you may want to decrease the size of the markers or use stripplot.\n",
            "  warnings.warn(msg, UserWarning)\n",
            "/usr/local/lib/python3.10/dist-packages/seaborn/categorical.py:3544: UserWarning: 66.7% of the points cannot be placed; you may want to decrease the size of the markers or use stripplot.\n",
            "  warnings.warn(msg, UserWarning)\n",
            "/usr/local/lib/python3.10/dist-packages/seaborn/categorical.py:3544: UserWarning: 69.6% of the points cannot be placed; you may want to decrease the size of the markers or use stripplot.\n",
            "  warnings.warn(msg, UserWarning)\n",
            "/usr/local/lib/python3.10/dist-packages/seaborn/categorical.py:3544: UserWarning: 72.2% of the points cannot be placed; you may want to decrease the size of the markers or use stripplot.\n",
            "  warnings.warn(msg, UserWarning)\n",
            "/usr/local/lib/python3.10/dist-packages/seaborn/categorical.py:3544: UserWarning: 95.5% of the points cannot be placed; you may want to decrease the size of the markers or use stripplot.\n",
            "  warnings.warn(msg, UserWarning)\n",
            "/usr/local/lib/python3.10/dist-packages/seaborn/categorical.py:3544: UserWarning: 70.0% of the points cannot be placed; you may want to decrease the size of the markers or use stripplot.\n",
            "  warnings.warn(msg, UserWarning)\n",
            "/usr/local/lib/python3.10/dist-packages/seaborn/categorical.py:3544: UserWarning: 84.0% of the points cannot be placed; you may want to decrease the size of the markers or use stripplot.\n",
            "  warnings.warn(msg, UserWarning)\n",
            "/usr/local/lib/python3.10/dist-packages/seaborn/categorical.py:3544: UserWarning: 58.8% of the points cannot be placed; you may want to decrease the size of the markers or use stripplot.\n",
            "  warnings.warn(msg, UserWarning)\n",
            "/usr/local/lib/python3.10/dist-packages/seaborn/categorical.py:3544: UserWarning: 77.8% of the points cannot be placed; you may want to decrease the size of the markers or use stripplot.\n",
            "  warnings.warn(msg, UserWarning)\n",
            "/usr/local/lib/python3.10/dist-packages/seaborn/categorical.py:3544: UserWarning: 63.6% of the points cannot be placed; you may want to decrease the size of the markers or use stripplot.\n",
            "  warnings.warn(msg, UserWarning)\n",
            "/usr/local/lib/python3.10/dist-packages/seaborn/categorical.py:3544: UserWarning: 50.0% of the points cannot be placed; you may want to decrease the size of the markers or use stripplot.\n",
            "  warnings.warn(msg, UserWarning)\n",
            "/usr/local/lib/python3.10/dist-packages/seaborn/categorical.py:3544: UserWarning: 35.7% of the points cannot be placed; you may want to decrease the size of the markers or use stripplot.\n",
            "  warnings.warn(msg, UserWarning)\n",
            "/usr/local/lib/python3.10/dist-packages/seaborn/categorical.py:3544: UserWarning: 46.2% of the points cannot be placed; you may want to decrease the size of the markers or use stripplot.\n",
            "  warnings.warn(msg, UserWarning)\n",
            "/usr/local/lib/python3.10/dist-packages/seaborn/categorical.py:3544: UserWarning: 69.2% of the points cannot be placed; you may want to decrease the size of the markers or use stripplot.\n",
            "  warnings.warn(msg, UserWarning)\n",
            "/usr/local/lib/python3.10/dist-packages/seaborn/categorical.py:3544: UserWarning: 44.4% of the points cannot be placed; you may want to decrease the size of the markers or use stripplot.\n",
            "  warnings.warn(msg, UserWarning)\n",
            "/usr/local/lib/python3.10/dist-packages/seaborn/categorical.py:3544: UserWarning: 41.7% of the points cannot be placed; you may want to decrease the size of the markers or use stripplot.\n",
            "  warnings.warn(msg, UserWarning)\n",
            "/usr/local/lib/python3.10/dist-packages/seaborn/categorical.py:3544: UserWarning: 55.6% of the points cannot be placed; you may want to decrease the size of the markers or use stripplot.\n",
            "  warnings.warn(msg, UserWarning)\n",
            "/usr/local/lib/python3.10/dist-packages/seaborn/categorical.py:3544: UserWarning: 33.3% of the points cannot be placed; you may want to decrease the size of the markers or use stripplot.\n",
            "  warnings.warn(msg, UserWarning)\n",
            "/usr/local/lib/python3.10/dist-packages/seaborn/categorical.py:3544: UserWarning: 42.9% of the points cannot be placed; you may want to decrease the size of the markers or use stripplot.\n",
            "  warnings.warn(msg, UserWarning)\n",
            "/usr/local/lib/python3.10/dist-packages/seaborn/categorical.py:3544: UserWarning: 54.5% of the points cannot be placed; you may want to decrease the size of the markers or use stripplot.\n",
            "  warnings.warn(msg, UserWarning)\n"
          ]
        },
        {
          "output_type": "display_data",
          "data": {
            "text/plain": [
              "<Figure size 1400x700 with 1 Axes>"
            ],
            "image/png": "[encoded data removed]"
          },
          "metadata": {}
        }
      ]
    },
    {
      "cell_type": "markdown",
      "source": [],
      "metadata": {
        "id": "svvB1PrAj6hR"
      }
    },
    {
      "cell_type": "code",
      "source": [
        "plt.figure(figsize=(10, 7))\n",
        "#sns.swarmplot(x=categories, y=values)\n",
        "colors = [\"red\", \"green\"]\n",
        "sns.swarmplot(data=df_titanic_traim, x=\"Age\", y=\"Embarked\", hue=\"Survived\", palette=colors, size=3)\n",
        "#sns.stripplot(data=df_titanic_traim, x=\"Age\", y=\"Sex\", hue=\"Survived\", palette=colors, size=4)\n",
        "\n",
        "plt.show()"
      ],
      "metadata": {
        "execution": {
          "iopub.status.busy": "2023-06-20T10:25:59.888390Z",
          "iopub.execute_input": "2023-06-20T10:25:59.888882Z",
          "iopub.status.idle": "2023-06-20T10:26:02.396959Z",
          "shell.execute_reply.started": "2023-06-20T10:25:59.888834Z",
          "shell.execute_reply": "2023-06-20T10:26:02.394577Z"
        },
        "trusted": true,
        "colab": {
          "base_uri": "https://localhost:8080/",
          "height": 786
        },
        "id": "9H0_3DkPj6hS",
        "outputId": "5afb2d53-63ff-4da6-c707-66ab274533f7"
      },
      "execution_count": 43,
      "outputs": [
        {
          "output_type": "stream",
          "name": "stderr",
          "text": [
            "/usr/local/lib/python3.10/dist-packages/seaborn/categorical.py:3544: UserWarning: 10.6% of the points cannot be placed; you may want to decrease the size of the markers or use stripplot.\n",
            "  warnings.warn(msg, UserWarning)\n",
            "/usr/local/lib/python3.10/dist-packages/seaborn/categorical.py:3544: UserWarning: 5.2% of the points cannot be placed; you may want to decrease the size of the markers or use stripplot.\n",
            "  warnings.warn(msg, UserWarning)\n",
            "/usr/local/lib/python3.10/dist-packages/seaborn/categorical.py:3544: UserWarning: 12.4% of the points cannot be placed; you may want to decrease the size of the markers or use stripplot.\n",
            "  warnings.warn(msg, UserWarning)\n",
            "/usr/local/lib/python3.10/dist-packages/seaborn/categorical.py:3544: UserWarning: 20.8% of the points cannot be placed; you may want to decrease the size of the markers or use stripplot.\n",
            "  warnings.warn(msg, UserWarning)\n"
          ]
        },
        {
          "output_type": "display_data",
          "data": {
            "text/plain": [
              "<Figure size 1000x700 with 1 Axes>"
            ],
            "image/png": "[encoded data removed]"
          },
          "metadata": {}
        }
      ]
    },
    {
      "cell_type": "code",
      "source": [
        "plt.figure(figsize=(10, 7))\n",
        "#sns.swarmplot(x=categories, y=values)\n",
        "colors = [\"red\", \"green\"]\n",
        "sns.swarmplot(data=df_titanic_traim, x=\"SibSp\", y=\"Sex\", hue=\"Survived\", palette=colors, size=3)\n",
        "#sns.stripplot(data=df_titanic_traim, x=\"Age\", y=\"Sex\", hue=\"Survived\", palette=colors, size=4)\n",
        "\n",
        "plt.show()\n"
      ],
      "metadata": {
        "execution": {
          "iopub.status.busy": "2023-06-20T10:26:02.398987Z",
          "iopub.execute_input": "2023-06-20T10:26:02.399474Z",
          "iopub.status.idle": "2023-06-20T10:26:22.284789Z",
          "shell.execute_reply.started": "2023-06-20T10:26:02.399427Z",
          "shell.execute_reply": "2023-06-20T10:26:22.283476Z"
        },
        "trusted": true,
        "colab": {
          "base_uri": "https://localhost:8080/",
          "height": 786
        },
        "id": "9nDXRozgj6hS",
        "outputId": "4e25d2a8-4ad3-43f3-d646-44f94a4d29ec"
      },
      "execution_count": 44,
      "outputs": [
        {
          "output_type": "stream",
          "name": "stderr",
          "text": [
            "/usr/local/lib/python3.10/dist-packages/seaborn/categorical.py:3544: UserWarning: 62.2% of the points cannot be placed; you may want to decrease the size of the markers or use stripplot.\n",
            "  warnings.warn(msg, UserWarning)\n",
            "/usr/local/lib/python3.10/dist-packages/seaborn/categorical.py:3544: UserWarning: 32.1% of the points cannot be placed; you may want to decrease the size of the markers or use stripplot.\n",
            "  warnings.warn(msg, UserWarning)\n",
            "/usr/local/lib/python3.10/dist-packages/seaborn/categorical.py:3544: UserWarning: 76.1% of the points cannot be placed; you may want to decrease the size of the markers or use stripplot.\n",
            "  warnings.warn(msg, UserWarning)\n",
            "/usr/local/lib/python3.10/dist-packages/seaborn/categorical.py:3544: UserWarning: 57.7% of the points cannot be placed; you may want to decrease the size of the markers or use stripplot.\n",
            "  warnings.warn(msg, UserWarning)\n"
          ]
        },
        {
          "output_type": "display_data",
          "data": {
            "text/plain": [
              "<Figure size 1000x700 with 1 Axes>"
            ],
            "image/png": "[encoded data removed]"
          },
          "metadata": {}
        }
      ]
    },
    {
      "cell_type": "code",
      "source": [
        "df_titanic_traim.head()"
      ],
      "metadata": {
        "execution": {
          "iopub.status.busy": "2023-06-20T10:26:22.286424Z",
          "iopub.execute_input": "2023-06-20T10:26:22.286901Z",
          "iopub.status.idle": "2023-06-20T10:26:22.306076Z",
          "shell.execute_reply.started": "2023-06-20T10:26:22.286847Z",
          "shell.execute_reply": "2023-06-20T10:26:22.304695Z"
        },
        "trusted": true,
        "colab": {
          "base_uri": "https://localhost:8080/",
          "height": 206
        },
        "id": "aYgIBLESj6hT",
        "outputId": "c5331788-93dd-45c9-f9df-5f4d2535625e"
      },
      "execution_count": 45,
      "outputs": [
        {
          "output_type": "execute_result",
          "data": {
            "text/plain": [
              "   PassengerId  Survived  Pclass  \\\n",
              "0            1         0       3   \n",
              "1            2         1       1   \n",
              "2            3         1       3   \n",
              "3            4         1       1   \n",
              "4            5         0       3   \n",
              "\n",
              "                                                Name     Sex   Age  SibSp  \\\n",
              "0                            Braund, Mr. Owen Harris    male  22.0      1   \n",
              "1  Cumings, Mrs. John Bradley (Florence Briggs Th...  female  38.0      1   \n",
              "2                             Heikkinen, Miss. Laina  female  26.0      0   \n",
              "3       Futrelle, Mrs. Jacques Heath (Lily May Peel)  female  35.0      1   \n",
              "4                           Allen, Mr. William Henry    male  35.0      0   \n",
              "\n",
              "   Parch            Ticket     Fare Embarked  \n",
              "0      0         A/5 21171   7.2500        S  \n",
              "1      0          PC 17599  57.8125        C  \n",
              "2      0  STON/O2. 3101282   7.9250        S  \n",
              "3      0            113803  53.1000        S  \n",
              "4      0            373450   8.0500        S  "
            ],
            "text/html": [
              "\n",
              "  <div id=\"df-bfa0f8f2-56d8-43de-a21a-f6e3661d5718\">\n",
              "    <div class=\"colab-df-container\">\n",
              "      <div>\n",
              "<style scoped>\n",
              "    .dataframe tbody tr th:only-of-type {\n",
              "        vertical-align: middle;\n",
              "    }\n",
              "\n",
              "    .dataframe tbody tr th {\n",
              "        vertical-align: top;\n",
              "    }\n",
              "\n",
              "    .dataframe thead th {\n",
              "        text-align: right;\n",
              "    }\n",
              "</style>\n",
              "<table border=\"1\" class=\"dataframe\">\n",
              "  <thead>\n",
              "    <tr style=\"text-align: right;\">\n",
              "      <th></th>\n",
              "      <th>PassengerId</th>\n",
              "      <th>Survived</th>\n",
              "      <th>Pclass</th>\n",
              "      <th>Name</th>\n",
              "      <th>Sex</th>\n",
              "      <th>Age</th>\n",
              "      <th>SibSp</th>\n",
              "      <th>Parch</th>\n",
              "      <th>Ticket</th>\n",
              "      <th>Fare</th>\n",
              "      <th>Embarked</th>\n",
              "    </tr>\n",
              "  </thead>\n",
              "  <tbody>\n",
              "    <tr>\n",
              "      <th>0</th>\n",
              "      <td>1</td>\n",
              "      <td>0</td>\n",
              "      <td>3</td>\n",
              "      <td>Braund, Mr. Owen Harris</td>\n",
              "      <td>male</td>\n",
              "      <td>22.0</td>\n",
              "      <td>1</td>\n",
              "      <td>0</td>\n",
              "      <td>A/5 21171</td>\n",
              "      <td>7.2500</td>\n",
              "      <td>S</td>\n",
              "    </tr>\n",
              "    <tr>\n",
              "      <th>1</th>\n",
              "      <td>2</td>\n",
              "      <td>1</td>\n",
              "      <td>1</td>\n",
              "      <td>Cumings, Mrs. John Bradley (Florence Briggs Th...</td>\n",
              "      <td>female</td>\n",
              "      <td>38.0</td>\n",
              "      <td>1</td>\n",
              "      <td>0</td>\n",
              "      <td>PC 17599</td>\n",
              "      <td>57.8125</td>\n",
              "      <td>C</td>\n",
              "    </tr>\n",
              "    <tr>\n",
              "      <th>2</th>\n",
              "      <td>3</td>\n",
              "      <td>1</td>\n",
              "      <td>3</td>\n",
              "      <td>Heikkinen, Miss. Laina</td>\n",
              "      <td>female</td>\n",
              "      <td>26.0</td>\n",
              "      <td>0</td>\n",
              "      <td>0</td>\n",
              "      <td>STON/O2. 3101282</td>\n",
              "      <td>7.9250</td>\n",
              "      <td>S</td>\n",
              "    </tr>\n",
              "    <tr>\n",
              "      <th>3</th>\n",
              "      <td>4</td>\n",
              "      <td>1</td>\n",
              "      <td>1</td>\n",
              "      <td>Futrelle, Mrs. Jacques Heath (Lily May Peel)</td>\n",
              "      <td>female</td>\n",
              "      <td>35.0</td>\n",
              "      <td>1</td>\n",
              "      <td>0</td>\n",
              "      <td>113803</td>\n",
              "      <td>53.1000</td>\n",
              "      <td>S</td>\n",
              "    </tr>\n",
              "    <tr>\n",
              "      <th>4</th>\n",
              "      <td>5</td>\n",
              "      <td>0</td>\n",
              "      <td>3</td>\n",
              "      <td>Allen, Mr. William Henry</td>\n",
              "      <td>male</td>\n",
              "      <td>35.0</td>\n",
              "      <td>0</td>\n",
              "      <td>0</td>\n",
              "      <td>373450</td>\n",
              "      <td>8.0500</td>\n",
              "      <td>S</td>\n",
              "    </tr>\n",
              "  </tbody>\n",
              "</table>\n",
              "</div>\n",
              "      <button class=\"colab-df-convert\" onclick=\"convertToInteractive('df-bfa0f8f2-56d8-43de-a21a-f6e3661d5718')\"\n",
              "              title=\"Convert this dataframe to an interactive table.\"\n",
              "              style=\"display:none;\">\n",
              "        \n",
              "  <svg xmlns=\"http://www.w3.org/2000/svg\" height=\"24px\"viewBox=\"0 0 24 24\"\n",
              "       width=\"24px\">\n",
              "    <path d=\"M0 0h24v24H0V0z\" fill=\"none\"/>\n",
              "    <path d=\"M18.56 5.44l.94 2.06.94-2.06 2.06-.94-2.06-.94-.94-2.06-.94 2.06-2.06.94zm-11 1L8.5 8.5l.94-2.06 2.06-.94-2.06-.94L8.5 2.5l-.94 2.06-2.06.94zm10 10l.94 2.06.94-2.06 2.06-.94-2.06-.94-.94-2.06-.94 2.06-2.06.94z\"/><path d=\"M17.41 7.96l-1.37-1.37c-.4-.4-.92-.59-1.43-.59-.52 0-1.04.2-1.43.59L10.3 9.45l-7.72 7.72c-.78.78-.78 2.05 0 2.83L4 21.41c.39.39.9.59 1.41.59.51 0 1.02-.2 1.41-.59l7.78-7.78 2.81-2.81c.8-.78.8-2.07 0-2.86zM5.41 20L4 18.59l7.72-7.72 1.47 1.35L5.41 20z\"/>\n",
              "  </svg>\n",
              "      </button>\n",
              "      \n",
              "  <style>\n",
              "    .colab-df-container {\n",
              "      display:flex;\n",
              "      flex-wrap:wrap;\n",
              "      gap: 12px;\n",
              "    }\n",
              "\n",
              "    .colab-df-convert {\n",
              "      background-color: #E8F0FE;\n",
              "      border: none;\n",
              "      border-radius: 50%;\n",
              "      cursor: pointer;\n",
              "      display: none;\n",
              "      fill: #1967D2;\n",
              "      height: 32px;\n",
              "      padding: 0 0 0 0;\n",
              "      width: 32px;\n",
              "    }\n",
              "\n",
              "    .colab-df-convert:hover {\n",
              "      background-color: #E2EBFA;\n",
              "      box-shadow: 0px 1px 2px rgba(60, 64, 67, 0.3), 0px 1px 3px 1px rgba(60, 64, 67, 0.15);\n",
              "      fill: #174EA6;\n",
              "    }\n",
              "\n",
              "    [theme=dark] .colab-df-convert {\n",
              "      background-color: #3B4455;\n",
              "      fill: #D2E3FC;\n",
              "    }\n",
              "\n",
              "    [theme=dark] .colab-df-convert:hover {\n",
              "      background-color: #434B5C;\n",
              "      box-shadow: 0px 1px 3px 1px rgba(0, 0, 0, 0.15);\n",
              "      filter: drop-shadow(0px 1px 2px rgba(0, 0, 0, 0.3));\n",
              "      fill: #FFFFFF;\n",
              "    }\n",
              "  </style>\n",
              "\n",
              "      <script>\n",
              "        const buttonEl =\n",
              "          document.querySelector('#df-bfa0f8f2-56d8-43de-a21a-f6e3661d5718 button.colab-df-convert');\n",
              "        buttonEl.style.display =\n",
              "          google.colab.kernel.accessAllowed ? 'block' : 'none';\n",
              "\n",
              "        async function convertToInteractive(key) {\n",
              "          const element = document.querySelector('#df-bfa0f8f2-56d8-43de-a21a-f6e3661d5718');\n",
              "          const dataTable =\n",
              "            await google.colab.kernel.invokeFunction('convertToInteractive',\n",
              "                                                     [key], {});\n",
              "          if (!dataTable) return;\n",
              "\n",
              "          const docLinkHtml = 'Like what you see? Visit the ' +\n",
              "            '<a target=\"_blank\" href=https://colab.research.google.com/notebooks/data_table.ipynb>data table notebook</a>'\n",
              "            + ' to learn more about interactive tables.';\n",
              "          element.innerHTML = '';\n",
              "          dataTable['output_type'] = 'display_data';\n",
              "          await google.colab.output.renderOutput(dataTable, element);\n",
              "          const docLink = document.createElement('div');\n",
              "          docLink.innerHTML = docLinkHtml;\n",
              "          element.appendChild(docLink);\n",
              "        }\n",
              "      </script>\n",
              "    </div>\n",
              "  </div>\n",
              "  "
            ]
          },
          "metadata": {},
          "execution_count": 45
        }
      ]
    },
    {
      "cell_type": "code",
      "source": [
        "df_titanic_traim[\"Name\"].head(50)"
      ],
      "metadata": {
        "execution": {
          "iopub.status.busy": "2023-06-20T10:26:22.307845Z",
          "iopub.execute_input": "2023-06-20T10:26:22.308269Z",
          "iopub.status.idle": "2023-06-20T10:26:22.324724Z",
          "shell.execute_reply.started": "2023-06-20T10:26:22.308199Z",
          "shell.execute_reply": "2023-06-20T10:26:22.323306Z"
        },
        "trusted": true,
        "colab": {
          "base_uri": "https://localhost:8080/"
        },
        "id": "XJI1N0Xtj6hU",
        "outputId": "62c946d7-8f65-4994-85a3-30f6ce1bb9b6"
      },
      "execution_count": 46,
      "outputs": [
        {
          "output_type": "execute_result",
          "data": {
            "text/plain": [
              "0                               Braund, Mr. Owen Harris\n",
              "1     Cumings, Mrs. John Bradley (Florence Briggs Th...\n",
              "2                                Heikkinen, Miss. Laina\n",
              "3          Futrelle, Mrs. Jacques Heath (Lily May Peel)\n",
              "4                              Allen, Mr. William Henry\n",
              "5                                      Moran, Mr. James\n",
              "6                               McCarthy, Mr. Timothy J\n",
              "7                        Palsson, Master. Gosta Leonard\n",
              "8     Johnson, Mrs. Oscar W (Elisabeth Vilhelmina Berg)\n",
              "9                   Nasser, Mrs. Nicholas (Adele Achem)\n",
              "10                      Sandstrom, Miss. Marguerite Rut\n",
              "11                             Bonnell, Miss. Elizabeth\n",
              "12                       Saundercock, Mr. William Henry\n",
              "13                          Andersson, Mr. Anders Johan\n",
              "14                 Vestrom, Miss. Hulda Amanda Adolfina\n",
              "15                     Hewlett, Mrs. (Mary D Kingcome) \n",
              "16                                 Rice, Master. Eugene\n",
              "17                         Williams, Mr. Charles Eugene\n",
              "18    Vander Planke, Mrs. Julius (Emelia Maria Vande...\n",
              "19                              Masselmani, Mrs. Fatima\n",
              "20                                 Fynney, Mr. Joseph J\n",
              "21                                Beesley, Mr. Lawrence\n",
              "22                          McGowan, Miss. Anna \"Annie\"\n",
              "23                         Sloper, Mr. William Thompson\n",
              "24                        Palsson, Miss. Torborg Danira\n",
              "25    Asplund, Mrs. Carl Oscar (Selma Augusta Emilia...\n",
              "26                              Emir, Mr. Farred Chehab\n",
              "27                       Fortune, Mr. Charles Alexander\n",
              "28                        O'Dwyer, Miss. Ellen \"Nellie\"\n",
              "29                                  Todoroff, Mr. Lalio\n",
              "30                             Uruchurtu, Don. Manuel E\n",
              "31       Spencer, Mrs. William Augustus (Marie Eugenie)\n",
              "32                             Glynn, Miss. Mary Agatha\n",
              "33                                Wheadon, Mr. Edward H\n",
              "34                              Meyer, Mr. Edgar Joseph\n",
              "35                       Holverson, Mr. Alexander Oskar\n",
              "36                                     Mamee, Mr. Hanna\n",
              "37                             Cann, Mr. Ernest Charles\n",
              "38                   Vander Planke, Miss. Augusta Maria\n",
              "39                          Nicola-Yarred, Miss. Jamila\n",
              "40       Ahlin, Mrs. Johan (Johanna Persdotter Larsson)\n",
              "41    Turpin, Mrs. William John Robert (Dorothy Ann ...\n",
              "42                                  Kraeff, Mr. Theodor\n",
              "43             Laroche, Miss. Simonne Marie Anne Andree\n",
              "44                        Devaney, Miss. Margaret Delia\n",
              "45                             Rogers, Mr. William John\n",
              "46                                    Lennon, Mr. Denis\n",
              "47                            O'Driscoll, Miss. Bridget\n",
              "48                                  Samaan, Mr. Youssef\n",
              "49        Arnold-Franchi, Mrs. Josef (Josefine Franchi)\n",
              "Name: Name, dtype: object"
            ]
          },
          "metadata": {},
          "execution_count": 46
        }
      ]
    },
    {
      "cell_type": "code",
      "source": [
        "\n",
        "\n",
        "# Função para extrair o título do nome\n",
        "def extrair_titulo(nome):\n",
        "    padrao = r',\\s([^\\.]+)\\.'\n",
        "    resultado = re.search(padrao, nome)\n",
        "    if resultado:\n",
        "        return resultado.group(1)\n",
        "    else:\n",
        "        return ''\n",
        "\n",
        "# Aplicar a função a cada valor da coluna \"Name\" e criar uma nova coluna \"Pronouns\"\n",
        "df_titanic_traim['Pronouns'] = df_titanic_traim['Name'].apply(extrair_titulo)\n",
        "\n",
        "# Visualizar os primeiros registros da nova coluna\n",
        "print(df_titanic_traim['Pronouns'].head(50))\n"
      ],
      "metadata": {
        "execution": {
          "iopub.status.busy": "2023-06-20T10:26:22.326801Z",
          "iopub.execute_input": "2023-06-20T10:26:22.327407Z",
          "iopub.status.idle": "2023-06-20T10:26:22.344699Z",
          "shell.execute_reply.started": "2023-06-20T10:26:22.327347Z",
          "shell.execute_reply": "2023-06-20T10:26:22.343401Z"
        },
        "trusted": true,
        "colab": {
          "base_uri": "https://localhost:8080/"
        },
        "id": "LJQPYLLQj6hU",
        "outputId": "69fdc6c9-35ef-4a06-8dbb-96a6b3e6c199"
      },
      "execution_count": 47,
      "outputs": [
        {
          "output_type": "stream",
          "name": "stdout",
          "text": [
            "0         Mr\n",
            "1        Mrs\n",
            "2       Miss\n",
            "3        Mrs\n",
            "4         Mr\n",
            "5         Mr\n",
            "6         Mr\n",
            "7     Master\n",
            "8        Mrs\n",
            "9        Mrs\n",
            "10      Miss\n",
            "11      Miss\n",
            "12        Mr\n",
            "13        Mr\n",
            "14      Miss\n",
            "15       Mrs\n",
            "16    Master\n",
            "17        Mr\n",
            "18       Mrs\n",
            "19       Mrs\n",
            "20        Mr\n",
            "21        Mr\n",
            "22      Miss\n",
            "23        Mr\n",
            "24      Miss\n",
            "25       Mrs\n",
            "26        Mr\n",
            "27        Mr\n",
            "28      Miss\n",
            "29        Mr\n",
            "30       Don\n",
            "31       Mrs\n",
            "32      Miss\n",
            "33        Mr\n",
            "34        Mr\n",
            "35        Mr\n",
            "36        Mr\n",
            "37        Mr\n",
            "38      Miss\n",
            "39      Miss\n",
            "40       Mrs\n",
            "41       Mrs\n",
            "42        Mr\n",
            "43      Miss\n",
            "44      Miss\n",
            "45        Mr\n",
            "46        Mr\n",
            "47      Miss\n",
            "48        Mr\n",
            "49       Mrs\n",
            "Name: Pronouns, dtype: object\n"
          ]
        }
      ]
    },
    {
      "cell_type": "markdown",
      "source": [
        "<div class=\"alert alert-success\">\n",
        "    <strong><div style=\"color: rgb(0, 0, 0);\"><strong>Resumo análise exploratória (EDA):</strong></div></strong> <br>\n",
        "    <div style=\"color: rgb(0, 0, 0);\"> ✔️ O número de não sobrevivente masculino e bem maior que de femininos.</div>\n",
        "    <div style=\"color: rgb(0, 0, 0);\"> ✔️ Os passageiros que estavam na classe 3 tem um alta porcentagem de não sobrevivencia, assim como os passageiros enbarcados na estação \"S\".</div>\n",
        "    <div style=\"color: rgb(0, 0, 0);\"> ✔️ Ao cruzar os dados de <strong>Sex</strong>, <strong>Age</strong> e <strong>Survived</strong> é nitido visualmentente que as mulheres em todas as idades e os homens(crianças) tiveram uma taxa de sobrevivência expressamente maior. </div>\n",
        "    <div style=\"color: rgb(0, 0, 0);\"> ✔️ Dentre a anlise de Nº de irmãos/cônjuges a bordo do Titanic desmenbrado em sexo e se sobrevivel ou não, notamos que as crianças que tem 0, 1 ou no maximo 2 irmão sobreviveram.\n",
        "Para maiores de 15 anos não coseguimos uma relação clara com o Nº de irmãos/cônjuges e se sobreviveram ou não.</div>\n",
        "    <div style=\"color: rgb(0, 0, 0);\"> ✔️ Não existe correlação \"visual\" entre Nº de pais/filhos a bordo do Titanic e sobreviventes.</div>\n",
        "\n",
        "</div>"
      ],
      "metadata": {
        "id": "KDGpv73pj6hV"
      }
    },
    {
      "cell_type": "markdown",
      "source": [
        "<a id='preparar_modelagem'></a>\n",
        "# <font color=\"#FA7F08\">6. Preparar dados para modelagem</font>\n",
        "<hr color=\"#F5F5F5\" size=\"1\">"
      ],
      "metadata": {
        "id": "cBq2Ok__j6hV"
      }
    },
    {
      "cell_type": "code",
      "source": [
        "df_titanic_traim"
      ],
      "metadata": {
        "execution": {
          "iopub.status.busy": "2023-06-20T10:26:22.345896Z",
          "iopub.execute_input": "2023-06-20T10:26:22.346322Z",
          "iopub.status.idle": "2023-06-20T10:26:22.380037Z",
          "shell.execute_reply.started": "2023-06-20T10:26:22.346274Z",
          "shell.execute_reply": "2023-06-20T10:26:22.378677Z"
        },
        "trusted": true,
        "colab": {
          "base_uri": "https://localhost:8080/",
          "height": 468
        },
        "id": "ljTXQf2Hj6hW",
        "outputId": "828f456b-0c47-4ad3-e1ba-d61a8a694e59"
      },
      "execution_count": 48,
      "outputs": [
        {
          "output_type": "execute_result",
          "data": {
            "text/plain": [
              "     PassengerId  Survived  Pclass  \\\n",
              "0              1         0       3   \n",
              "1              2         1       1   \n",
              "2              3         1       3   \n",
              "3              4         1       1   \n",
              "4              5         0       3   \n",
              "..           ...       ...     ...   \n",
              "886          887         0       2   \n",
              "887          888         1       1   \n",
              "888          889         0       3   \n",
              "889          890         1       1   \n",
              "890          891         0       3   \n",
              "\n",
              "                                                  Name     Sex   Age  SibSp  \\\n",
              "0                              Braund, Mr. Owen Harris    male  22.0      1   \n",
              "1    Cumings, Mrs. John Bradley (Florence Briggs Th...  female  38.0      1   \n",
              "2                               Heikkinen, Miss. Laina  female  26.0      0   \n",
              "3         Futrelle, Mrs. Jacques Heath (Lily May Peel)  female  35.0      1   \n",
              "4                             Allen, Mr. William Henry    male  35.0      0   \n",
              "..                                                 ...     ...   ...    ...   \n",
              "886                              Montvila, Rev. Juozas    male  27.0      0   \n",
              "887                       Graham, Miss. Margaret Edith  female  19.0      0   \n",
              "888           Johnston, Miss. Catherine Helen \"Carrie\"  female  28.0      1   \n",
              "889                              Behr, Mr. Karl Howell    male  26.0      0   \n",
              "890                                Dooley, Mr. Patrick    male  32.0      0   \n",
              "\n",
              "     Parch            Ticket     Fare Embarked Pronouns  \n",
              "0        0         A/5 21171   7.2500        S       Mr  \n",
              "1        0          PC 17599  57.8125        C      Mrs  \n",
              "2        0  STON/O2. 3101282   7.9250        S     Miss  \n",
              "3        0            113803  53.1000        S      Mrs  \n",
              "4        0            373450   8.0500        S       Mr  \n",
              "..     ...               ...      ...      ...      ...  \n",
              "886      0            211536  13.0000        S      Rev  \n",
              "887      0            112053  30.0000        S     Miss  \n",
              "888      2        W./C. 6607  23.4500        S     Miss  \n",
              "889      0            111369  30.0000        C       Mr  \n",
              "890      0            370376   7.7500        Q       Mr  \n",
              "\n",
              "[889 rows x 12 columns]"
            ],
            "text/html": [
              "\n",
              "  <div id=\"df-b827bb5a-b165-449a-a7e1-c9f23cb7f0a7\">\n",
              "    <div class=\"colab-df-container\">\n",
              "      <div>\n",
              "<style scoped>\n",
              "    .dataframe tbody tr th:only-of-type {\n",
              "        vertical-align: middle;\n",
              "    }\n",
              "\n",
              "    .dataframe tbody tr th {\n",
              "        vertical-align: top;\n",
              "    }\n",
              "\n",
              "    .dataframe thead th {\n",
              "        text-align: right;\n",
              "    }\n",
              "</style>\n",
              "<table border=\"1\" class=\"dataframe\">\n",
              "  <thead>\n",
              "    <tr style=\"text-align: right;\">\n",
              "      <th></th>\n",
              "      <th>PassengerId</th>\n",
              "      <th>Survived</th>\n",
              "      <th>Pclass</th>\n",
              "      <th>Name</th>\n",
              "      <th>Sex</th>\n",
              "      <th>Age</th>\n",
              "      <th>SibSp</th>\n",
              "      <th>Parch</th>\n",
              "      <th>Ticket</th>\n",
              "      <th>Fare</th>\n",
              "      <th>Embarked</th>\n",
              "      <th>Pronouns</th>\n",
              "    </tr>\n",
              "  </thead>\n",
              "  <tbody>\n",
              "    <tr>\n",
              "      <th>0</th>\n",
              "      <td>1</td>\n",
              "      <td>0</td>\n",
              "      <td>3</td>\n",
              "      <td>Braund, Mr. Owen Harris</td>\n",
              "      <td>male</td>\n",
              "      <td>22.0</td>\n",
              "      <td>1</td>\n",
              "      <td>0</td>\n",
              "      <td>A/5 21171</td>\n",
              "      <td>7.2500</td>\n",
              "      <td>S</td>\n",
              "      <td>Mr</td>\n",
              "    </tr>\n",
              "    <tr>\n",
              "      <th>1</th>\n",
              "      <td>2</td>\n",
              "      <td>1</td>\n",
              "      <td>1</td>\n",
              "      <td>Cumings, Mrs. John Bradley (Florence Briggs Th...</td>\n",
              "      <td>female</td>\n",
              "      <td>38.0</td>\n",
              "      <td>1</td>\n",
              "      <td>0</td>\n",
              "      <td>PC 17599</td>\n",
              "      <td>57.8125</td>\n",
              "      <td>C</td>\n",
              "      <td>Mrs</td>\n",
              "    </tr>\n",
              "    <tr>\n",
              "      <th>2</th>\n",
              "      <td>3</td>\n",
              "      <td>1</td>\n",
              "      <td>3</td>\n",
              "      <td>Heikkinen, Miss. Laina</td>\n",
              "      <td>female</td>\n",
              "      <td>26.0</td>\n",
              "      <td>0</td>\n",
              "      <td>0</td>\n",
              "      <td>STON/O2. 3101282</td>\n",
              "      <td>7.9250</td>\n",
              "      <td>S</td>\n",
              "      <td>Miss</td>\n",
              "    </tr>\n",
              "    <tr>\n",
              "      <th>3</th>\n",
              "      <td>4</td>\n",
              "      <td>1</td>\n",
              "      <td>1</td>\n",
              "      <td>Futrelle, Mrs. Jacques Heath (Lily May Peel)</td>\n",
              "      <td>female</td>\n",
              "      <td>35.0</td>\n",
              "      <td>1</td>\n",
              "      <td>0</td>\n",
              "      <td>113803</td>\n",
              "      <td>53.1000</td>\n",
              "      <td>S</td>\n",
              "      <td>Mrs</td>\n",
              "    </tr>\n",
              "    <tr>\n",
              "      <th>4</th>\n",
              "      <td>5</td>\n",
              "      <td>0</td>\n",
              "      <td>3</td>\n",
              "      <td>Allen, Mr. William Henry</td>\n",
              "      <td>male</td>\n",
              "      <td>35.0</td>\n",
              "      <td>0</td>\n",
              "      <td>0</td>\n",
              "      <td>373450</td>\n",
              "      <td>8.0500</td>\n",
              "      <td>S</td>\n",
              "      <td>Mr</td>\n",
              "    </tr>\n",
              "    <tr>\n",
              "      <th>...</th>\n",
              "      <td>...</td>\n",
              "      <td>...</td>\n",
              "      <td>...</td>\n",
              "      <td>...</td>\n",
              "      <td>...</td>\n",
              "      <td>...</td>\n",
              "      <td>...</td>\n",
              "      <td>...</td>\n",
              "      <td>...</td>\n",
              "      <td>...</td>\n",
              "      <td>...</td>\n",
              "      <td>...</td>\n",
              "    </tr>\n",
              "    <tr>\n",
              "      <th>886</th>\n",
              "      <td>887</td>\n",
              "      <td>0</td>\n",
              "      <td>2</td>\n",
              "      <td>Montvila, Rev. Juozas</td>\n",
              "      <td>male</td>\n",
              "      <td>27.0</td>\n",
              "      <td>0</td>\n",
              "      <td>0</td>\n",
              "      <td>211536</td>\n",
              "      <td>13.0000</td>\n",
              "      <td>S</td>\n",
              "      <td>Rev</td>\n",
              "    </tr>\n",
              "    <tr>\n",
              "      <th>887</th>\n",
              "      <td>888</td>\n",
              "      <td>1</td>\n",
              "      <td>1</td>\n",
              "      <td>Graham, Miss. Margaret Edith</td>\n",
              "      <td>female</td>\n",
              "      <td>19.0</td>\n",
              "      <td>0</td>\n",
              "      <td>0</td>\n",
              "      <td>112053</td>\n",
              "      <td>30.0000</td>\n",
              "      <td>S</td>\n",
              "      <td>Miss</td>\n",
              "    </tr>\n",
              "    <tr>\n",
              "      <th>888</th>\n",
              "      <td>889</td>\n",
              "      <td>0</td>\n",
              "      <td>3</td>\n",
              "      <td>Johnston, Miss. Catherine Helen \"Carrie\"</td>\n",
              "      <td>female</td>\n",
              "      <td>28.0</td>\n",
              "      <td>1</td>\n",
              "      <td>2</td>\n",
              "      <td>W./C. 6607</td>\n",
              "      <td>23.4500</td>\n",
              "      <td>S</td>\n",
              "      <td>Miss</td>\n",
              "    </tr>\n",
              "    <tr>\n",
              "      <th>889</th>\n",
              "      <td>890</td>\n",
              "      <td>1</td>\n",
              "      <td>1</td>\n",
              "      <td>Behr, Mr. Karl Howell</td>\n",
              "      <td>male</td>\n",
              "      <td>26.0</td>\n",
              "      <td>0</td>\n",
              "      <td>0</td>\n",
              "      <td>111369</td>\n",
              "      <td>30.0000</td>\n",
              "      <td>C</td>\n",
              "      <td>Mr</td>\n",
              "    </tr>\n",
              "    <tr>\n",
              "      <th>890</th>\n",
              "      <td>891</td>\n",
              "      <td>0</td>\n",
              "      <td>3</td>\n",
              "      <td>Dooley, Mr. Patrick</td>\n",
              "      <td>male</td>\n",
              "      <td>32.0</td>\n",
              "      <td>0</td>\n",
              "      <td>0</td>\n",
              "      <td>370376</td>\n",
              "      <td>7.7500</td>\n",
              "      <td>Q</td>\n",
              "      <td>Mr</td>\n",
              "    </tr>\n",
              "  </tbody>\n",
              "</table>\n",
              "<p>889 rows × 12 columns</p>\n",
              "</div>\n",
              "      <button class=\"colab-df-convert\" onclick=\"convertToInteractive('df-b827bb5a-b165-449a-a7e1-c9f23cb7f0a7')\"\n",
              "              title=\"Convert this dataframe to an interactive table.\"\n",
              "              style=\"display:none;\">\n",
              "        \n",
              "  <svg xmlns=\"http://www.w3.org/2000/svg\" height=\"24px\"viewBox=\"0 0 24 24\"\n",
              "       width=\"24px\">\n",
              "    <path d=\"M0 0h24v24H0V0z\" fill=\"none\"/>\n",
              "    <path d=\"M18.56 5.44l.94 2.06.94-2.06 2.06-.94-2.06-.94-.94-2.06-.94 2.06-2.06.94zm-11 1L8.5 8.5l.94-2.06 2.06-.94-2.06-.94L8.5 2.5l-.94 2.06-2.06.94zm10 10l.94 2.06.94-2.06 2.06-.94-2.06-.94-.94-2.06-.94 2.06-2.06.94z\"/><path d=\"M17.41 7.96l-1.37-1.37c-.4-.4-.92-.59-1.43-.59-.52 0-1.04.2-1.43.59L10.3 9.45l-7.72 7.72c-.78.78-.78 2.05 0 2.83L4 21.41c.39.39.9.59 1.41.59.51 0 1.02-.2 1.41-.59l7.78-7.78 2.81-2.81c.8-.78.8-2.07 0-2.86zM5.41 20L4 18.59l7.72-7.72 1.47 1.35L5.41 20z\"/>\n",
              "  </svg>\n",
              "      </button>\n",
              "      \n",
              "  <style>\n",
              "    .colab-df-container {\n",
              "      display:flex;\n",
              "      flex-wrap:wrap;\n",
              "      gap: 12px;\n",
              "    }\n",
              "\n",
              "    .colab-df-convert {\n",
              "      background-color: #E8F0FE;\n",
              "      border: none;\n",
              "      border-radius: 50%;\n",
              "      cursor: pointer;\n",
              "      display: none;\n",
              "      fill: #1967D2;\n",
              "      height: 32px;\n",
              "      padding: 0 0 0 0;\n",
              "      width: 32px;\n",
              "    }\n",
              "\n",
              "    .colab-df-convert:hover {\n",
              "      background-color: #E2EBFA;\n",
              "      box-shadow: 0px 1px 2px rgba(60, 64, 67, 0.3), 0px 1px 3px 1px rgba(60, 64, 67, 0.15);\n",
              "      fill: #174EA6;\n",
              "    }\n",
              "\n",
              "    [theme=dark] .colab-df-convert {\n",
              "      background-color: #3B4455;\n",
              "      fill: #D2E3FC;\n",
              "    }\n",
              "\n",
              "    [theme=dark] .colab-df-convert:hover {\n",
              "      background-color: #434B5C;\n",
              "      box-shadow: 0px 1px 3px 1px rgba(0, 0, 0, 0.15);\n",
              "      filter: drop-shadow(0px 1px 2px rgba(0, 0, 0, 0.3));\n",
              "      fill: #FFFFFF;\n",
              "    }\n",
              "  </style>\n",
              "\n",
              "      <script>\n",
              "        const buttonEl =\n",
              "          document.querySelector('#df-b827bb5a-b165-449a-a7e1-c9f23cb7f0a7 button.colab-df-convert');\n",
              "        buttonEl.style.display =\n",
              "          google.colab.kernel.accessAllowed ? 'block' : 'none';\n",
              "\n",
              "        async function convertToInteractive(key) {\n",
              "          const element = document.querySelector('#df-b827bb5a-b165-449a-a7e1-c9f23cb7f0a7');\n",
              "          const dataTable =\n",
              "            await google.colab.kernel.invokeFunction('convertToInteractive',\n",
              "                                                     [key], {});\n",
              "          if (!dataTable) return;\n",
              "\n",
              "          const docLinkHtml = 'Like what you see? Visit the ' +\n",
              "            '<a target=\"_blank\" href=https://colab.research.google.com/notebooks/data_table.ipynb>data table notebook</a>'\n",
              "            + ' to learn more about interactive tables.';\n",
              "          element.innerHTML = '';\n",
              "          dataTable['output_type'] = 'display_data';\n",
              "          await google.colab.output.renderOutput(dataTable, element);\n",
              "          const docLink = document.createElement('div');\n",
              "          docLink.innerHTML = docLinkHtml;\n",
              "          element.appendChild(docLink);\n",
              "        }\n",
              "      </script>\n",
              "    </div>\n",
              "  </div>\n",
              "  "
            ]
          },
          "metadata": {},
          "execution_count": 48
        }
      ]
    },
    {
      "cell_type": "code",
      "source": [
        "# Definir os limites das faixas etárias\n",
        "age_bins = [0, 12, 18, 30, 50, 100]  # Defina as faixas etárias conforme necessário\n",
        "\n",
        "# Definir os rótulos para cada faixa etária\n",
        "age_labels = ['Child', 'Teenager', 'Young Adult', 'Adult', 'Senior']\n",
        "\n",
        "# Criar a nova coluna \"age_group\" usando pd.cut()\n",
        "df_titanic_traim['age_group'] = pd.cut(df_titanic_traim['Age'], bins=age_bins, labels=age_labels)\n",
        "\n",
        "# Exemplo de visualização dos resultados\n",
        "print(df_titanic_traim[['Age', 'age_group']].head())\n"
      ],
      "metadata": {
        "execution": {
          "iopub.status.busy": "2023-06-20T10:26:22.381485Z",
          "iopub.execute_input": "2023-06-20T10:26:22.381836Z",
          "iopub.status.idle": "2023-06-20T10:26:22.399380Z",
          "shell.execute_reply.started": "2023-06-20T10:26:22.381804Z",
          "shell.execute_reply": "2023-06-20T10:26:22.397742Z"
        },
        "trusted": true,
        "colab": {
          "base_uri": "https://localhost:8080/"
        },
        "id": "AiABQc4cj6hX",
        "outputId": "ecd91a23-3e01-4f2d-d2c6-86c201bf74d9"
      },
      "execution_count": 49,
      "outputs": [
        {
          "output_type": "stream",
          "name": "stdout",
          "text": [
            "    Age    age_group\n",
            "0  22.0  Young Adult\n",
            "1  38.0        Adult\n",
            "2  26.0  Young Adult\n",
            "3  35.0        Adult\n",
            "4  35.0        Adult\n"
          ]
        }
      ]
    },
    {
      "cell_type": "code",
      "source": [
        "\n",
        "# Crie uma instância do LabelEncoder\n",
        "label_encoder = LabelEncoder()\n",
        "\n",
        "# Aplicar label encoding nas variáveis categóricas\n",
        "df_titanic_traim['Sex_encoded'] = label_encoder.fit_transform(df_titanic_traim['Sex'])\n",
        "df_titanic_traim['Embarked_encoded'] = label_encoder.fit_transform(df_titanic_traim['Embarked'])\n",
        "df_titanic_traim['Age_group_encoded'] = label_encoder.fit_transform(df_titanic_traim['age_group'])"
      ],
      "metadata": {
        "execution": {
          "iopub.status.busy": "2023-06-20T10:26:22.401085Z",
          "iopub.execute_input": "2023-06-20T10:26:22.401577Z",
          "iopub.status.idle": "2023-06-20T10:26:22.414450Z",
          "shell.execute_reply.started": "2023-06-20T10:26:22.401535Z",
          "shell.execute_reply": "2023-06-20T10:26:22.412703Z"
        },
        "trusted": true,
        "id": "tWfWIu0sj6hX"
      },
      "execution_count": 50,
      "outputs": []
    },
    {
      "cell_type": "code",
      "source": [
        "df_titanic_traim['Pronouns_encoded'] = label_encoder.fit_transform(df_titanic_traim['Pronouns'])"
      ],
      "metadata": {
        "execution": {
          "iopub.status.busy": "2023-06-20T10:26:22.416238Z",
          "iopub.execute_input": "2023-06-20T10:26:22.416686Z",
          "iopub.status.idle": "2023-06-20T10:26:22.429397Z",
          "shell.execute_reply.started": "2023-06-20T10:26:22.416643Z",
          "shell.execute_reply": "2023-06-20T10:26:22.428292Z"
        },
        "trusted": true,
        "id": "dcjEGIaZj6hY"
      },
      "execution_count": 51,
      "outputs": []
    },
    {
      "cell_type": "code",
      "source": [
        "# Exemplo de visualização dos resultados\n",
        "print(df_titanic_traim[['Sex', 'Sex_encoded', 'Embarked', 'Embarked_encoded','Pronouns','Pronouns_encoded','age_group','Age_group_encoded']].head())"
      ],
      "metadata": {
        "execution": {
          "iopub.status.busy": "2023-06-20T10:26:22.430612Z",
          "iopub.execute_input": "2023-06-20T10:26:22.431024Z",
          "iopub.status.idle": "2023-06-20T10:26:22.448528Z",
          "shell.execute_reply.started": "2023-06-20T10:26:22.430977Z",
          "shell.execute_reply": "2023-06-20T10:26:22.446997Z"
        },
        "trusted": true,
        "colab": {
          "base_uri": "https://localhost:8080/"
        },
        "id": "5JGsMjiPj6hY",
        "outputId": "f00382a8-89b7-4d38-cd3f-637f0ebf2ec2"
      },
      "execution_count": 52,
      "outputs": [
        {
          "output_type": "stream",
          "name": "stdout",
          "text": [
            "      Sex  Sex_encoded Embarked  Embarked_encoded Pronouns  Pronouns_encoded  \\\n",
            "0    male            1        S                 2       Mr                11   \n",
            "1  female            0        C                 0      Mrs                12   \n",
            "2  female            0        S                 2     Miss                 8   \n",
            "3  female            0        S                 2      Mrs                12   \n",
            "4    male            1        S                 2       Mr                11   \n",
            "\n",
            "     age_group  Age_group_encoded  \n",
            "0  Young Adult                  4  \n",
            "1        Adult                  0  \n",
            "2  Young Adult                  4  \n",
            "3        Adult                  0  \n",
            "4        Adult                  0  \n"
          ]
        }
      ]
    },
    {
      "cell_type": "code",
      "source": [
        "df_titanic_traim.head()"
      ],
      "metadata": {
        "execution": {
          "iopub.status.busy": "2023-06-20T10:26:22.450340Z",
          "iopub.execute_input": "2023-06-20T10:26:22.450812Z",
          "iopub.status.idle": "2023-06-20T10:26:22.481658Z",
          "shell.execute_reply.started": "2023-06-20T10:26:22.450769Z",
          "shell.execute_reply": "2023-06-20T10:26:22.480221Z"
        },
        "trusted": true,
        "colab": {
          "base_uri": "https://localhost:8080/",
          "height": 548
        },
        "id": "nn1rOhv0j6hY",
        "outputId": "31428cd4-52e6-43c5-9ff5-3d04721f566c"
      },
      "execution_count": 53,
      "outputs": [
        {
          "output_type": "execute_result",
          "data": {
            "text/plain": [
              "   PassengerId  Survived  Pclass  \\\n",
              "0            1         0       3   \n",
              "1            2         1       1   \n",
              "2            3         1       3   \n",
              "3            4         1       1   \n",
              "4            5         0       3   \n",
              "\n",
              "                                                Name     Sex   Age  SibSp  \\\n",
              "0                            Braund, Mr. Owen Harris    male  22.0      1   \n",
              "1  Cumings, Mrs. John Bradley (Florence Briggs Th...  female  38.0      1   \n",
              "2                             Heikkinen, Miss. Laina  female  26.0      0   \n",
              "3       Futrelle, Mrs. Jacques Heath (Lily May Peel)  female  35.0      1   \n",
              "4                           Allen, Mr. William Henry    male  35.0      0   \n",
              "\n",
              "   Parch            Ticket     Fare Embarked Pronouns    age_group  \\\n",
              "0      0         A/5 21171   7.2500        S       Mr  Young Adult   \n",
              "1      0          PC 17599  57.8125        C      Mrs        Adult   \n",
              "2      0  STON/O2. 3101282   7.9250        S     Miss  Young Adult   \n",
              "3      0            113803  53.1000        S      Mrs        Adult   \n",
              "4      0            373450   8.0500        S       Mr        Adult   \n",
              "\n",
              "   Sex_encoded  Embarked_encoded  Age_group_encoded  Pronouns_encoded  \n",
              "0            1                 2                  4                11  \n",
              "1            0                 0                  0                12  \n",
              "2            0                 2                  4                 8  \n",
              "3            0                 2                  0                12  \n",
              "4            1                 2                  0                11  "
            ],
            "text/html": [
              "\n",
              "  <div id=\"df-0513567c-ab55-4ce1-ae63-dcfd1046a6f8\">\n",
              "    <div class=\"colab-df-container\">\n",
              "      <div>\n",
              "<style scoped>\n",
              "    .dataframe tbody tr th:only-of-type {\n",
              "        vertical-align: middle;\n",
              "    }\n",
              "\n",
              "    .dataframe tbody tr th {\n",
              "        vertical-align: top;\n",
              "    }\n",
              "\n",
              "    .dataframe thead th {\n",
              "        text-align: right;\n",
              "    }\n",
              "</style>\n",
              "<table border=\"1\" class=\"dataframe\">\n",
              "  <thead>\n",
              "    <tr style=\"text-align: right;\">\n",
              "      <th></th>\n",
              "      <th>PassengerId</th>\n",
              "      <th>Survived</th>\n",
              "      <th>Pclass</th>\n",
              "      <th>Name</th>\n",
              "      <th>Sex</th>\n",
              "      <th>Age</th>\n",
              "      <th>SibSp</th>\n",
              "      <th>Parch</th>\n",
              "      <th>Ticket</th>\n",
              "      <th>Fare</th>\n",
              "      <th>Embarked</th>\n",
              "      <th>Pronouns</th>\n",
              "      <th>age_group</th>\n",
              "      <th>Sex_encoded</th>\n",
              "      <th>Embarked_encoded</th>\n",
              "      <th>Age_group_encoded</th>\n",
              "      <th>Pronouns_encoded</th>\n",
              "    </tr>\n",
              "  </thead>\n",
              "  <tbody>\n",
              "    <tr>\n",
              "      <th>0</th>\n",
              "      <td>1</td>\n",
              "      <td>0</td>\n",
              "      <td>3</td>\n",
              "      <td>Braund, Mr. Owen Harris</td>\n",
              "      <td>male</td>\n",
              "      <td>22.0</td>\n",
              "      <td>1</td>\n",
              "      <td>0</td>\n",
              "      <td>A/5 21171</td>\n",
              "      <td>7.2500</td>\n",
              "      <td>S</td>\n",
              "      <td>Mr</td>\n",
              "      <td>Young Adult</td>\n",
              "      <td>1</td>\n",
              "      <td>2</td>\n",
              "      <td>4</td>\n",
              "      <td>11</td>\n",
              "    </tr>\n",
              "    <tr>\n",
              "      <th>1</th>\n",
              "      <td>2</td>\n",
              "      <td>1</td>\n",
              "      <td>1</td>\n",
              "      <td>Cumings, Mrs. John Bradley (Florence Briggs Th...</td>\n",
              "      <td>female</td>\n",
              "      <td>38.0</td>\n",
              "      <td>1</td>\n",
              "      <td>0</td>\n",
              "      <td>PC 17599</td>\n",
              "      <td>57.8125</td>\n",
              "      <td>C</td>\n",
              "      <td>Mrs</td>\n",
              "      <td>Adult</td>\n",
              "      <td>0</td>\n",
              "      <td>0</td>\n",
              "      <td>0</td>\n",
              "      <td>12</td>\n",
              "    </tr>\n",
              "    <tr>\n",
              "      <th>2</th>\n",
              "      <td>3</td>\n",
              "      <td>1</td>\n",
              "      <td>3</td>\n",
              "      <td>Heikkinen, Miss. Laina</td>\n",
              "      <td>female</td>\n",
              "      <td>26.0</td>\n",
              "      <td>0</td>\n",
              "      <td>0</td>\n",
              "      <td>STON/O2. 3101282</td>\n",
              "      <td>7.9250</td>\n",
              "      <td>S</td>\n",
              "      <td>Miss</td>\n",
              "      <td>Young Adult</td>\n",
              "      <td>0</td>\n",
              "      <td>2</td>\n",
              "      <td>4</td>\n",
              "      <td>8</td>\n",
              "    </tr>\n",
              "    <tr>\n",
              "      <th>3</th>\n",
              "      <td>4</td>\n",
              "      <td>1</td>\n",
              "      <td>1</td>\n",
              "      <td>Futrelle, Mrs. Jacques Heath (Lily May Peel)</td>\n",
              "      <td>female</td>\n",
              "      <td>35.0</td>\n",
              "      <td>1</td>\n",
              "      <td>0</td>\n",
              "      <td>113803</td>\n",
              "      <td>53.1000</td>\n",
              "      <td>S</td>\n",
              "      <td>Mrs</td>\n",
              "      <td>Adult</td>\n",
              "      <td>0</td>\n",
              "      <td>2</td>\n",
              "      <td>0</td>\n",
              "      <td>12</td>\n",
              "    </tr>\n",
              "    <tr>\n",
              "      <th>4</th>\n",
              "      <td>5</td>\n",
              "      <td>0</td>\n",
              "      <td>3</td>\n",
              "      <td>Allen, Mr. William Henry</td>\n",
              "      <td>male</td>\n",
              "      <td>35.0</td>\n",
              "      <td>0</td>\n",
              "      <td>0</td>\n",
              "      <td>373450</td>\n",
              "      <td>8.0500</td>\n",
              "      <td>S</td>\n",
              "      <td>Mr</td>\n",
              "      <td>Adult</td>\n",
              "      <td>1</td>\n",
              "      <td>2</td>\n",
              "      <td>0</td>\n",
              "      <td>11</td>\n",
              "    </tr>\n",
              "  </tbody>\n",
              "</table>\n",
              "</div>\n",
              "      <button class=\"colab-df-convert\" onclick=\"convertToInteractive('df-0513567c-ab55-4ce1-ae63-dcfd1046a6f8')\"\n",
              "              title=\"Convert this dataframe to an interactive table.\"\n",
              "              style=\"display:none;\">\n",
              "        \n",
              "  <svg xmlns=\"http://www.w3.org/2000/svg\" height=\"24px\"viewBox=\"0 0 24 24\"\n",
              "       width=\"24px\">\n",
              "    <path d=\"M0 0h24v24H0V0z\" fill=\"none\"/>\n",
              "    <path d=\"M18.56 5.44l.94 2.06.94-2.06 2.06-.94-2.06-.94-.94-2.06-.94 2.06-2.06.94zm-11 1L8.5 8.5l.94-2.06 2.06-.94-2.06-.94L8.5 2.5l-.94 2.06-2.06.94zm10 10l.94 2.06.94-2.06 2.06-.94-2.06-.94-.94-2.06-.94 2.06-2.06.94z\"/><path d=\"M17.41 7.96l-1.37-1.37c-.4-.4-.92-.59-1.43-.59-.52 0-1.04.2-1.43.59L10.3 9.45l-7.72 7.72c-.78.78-.78 2.05 0 2.83L4 21.41c.39.39.9.59 1.41.59.51 0 1.02-.2 1.41-.59l7.78-7.78 2.81-2.81c.8-.78.8-2.07 0-2.86zM5.41 20L4 18.59l7.72-7.72 1.47 1.35L5.41 20z\"/>\n",
              "  </svg>\n",
              "      </button>\n",
              "      \n",
              "  <style>\n",
              "    .colab-df-container {\n",
              "      display:flex;\n",
              "      flex-wrap:wrap;\n",
              "      gap: 12px;\n",
              "    }\n",
              "\n",
              "    .colab-df-convert {\n",
              "      background-color: #E8F0FE;\n",
              "      border: none;\n",
              "      border-radius: 50%;\n",
              "      cursor: pointer;\n",
              "      display: none;\n",
              "      fill: #1967D2;\n",
              "      height: 32px;\n",
              "      padding: 0 0 0 0;\n",
              "      width: 32px;\n",
              "    }\n",
              "\n",
              "    .colab-df-convert:hover {\n",
              "      background-color: #E2EBFA;\n",
              "      box-shadow: 0px 1px 2px rgba(60, 64, 67, 0.3), 0px 1px 3px 1px rgba(60, 64, 67, 0.15);\n",
              "      fill: #174EA6;\n",
              "    }\n",
              "\n",
              "    [theme=dark] .colab-df-convert {\n",
              "      background-color: #3B4455;\n",
              "      fill: #D2E3FC;\n",
              "    }\n",
              "\n",
              "    [theme=dark] .colab-df-convert:hover {\n",
              "      background-color: #434B5C;\n",
              "      box-shadow: 0px 1px 3px 1px rgba(0, 0, 0, 0.15);\n",
              "      filter: drop-shadow(0px 1px 2px rgba(0, 0, 0, 0.3));\n",
              "      fill: #FFFFFF;\n",
              "    }\n",
              "  </style>\n",
              "\n",
              "      <script>\n",
              "        const buttonEl =\n",
              "          document.querySelector('#df-0513567c-ab55-4ce1-ae63-dcfd1046a6f8 button.colab-df-convert');\n",
              "        buttonEl.style.display =\n",
              "          google.colab.kernel.accessAllowed ? 'block' : 'none';\n",
              "\n",
              "        async function convertToInteractive(key) {\n",
              "          const element = document.querySelector('#df-0513567c-ab55-4ce1-ae63-dcfd1046a6f8');\n",
              "          const dataTable =\n",
              "            await google.colab.kernel.invokeFunction('convertToInteractive',\n",
              "                                                     [key], {});\n",
              "          if (!dataTable) return;\n",
              "\n",
              "          const docLinkHtml = 'Like what you see? Visit the ' +\n",
              "            '<a target=\"_blank\" href=https://colab.research.google.com/notebooks/data_table.ipynb>data table notebook</a>'\n",
              "            + ' to learn more about interactive tables.';\n",
              "          element.innerHTML = '';\n",
              "          dataTable['output_type'] = 'display_data';\n",
              "          await google.colab.output.renderOutput(dataTable, element);\n",
              "          const docLink = document.createElement('div');\n",
              "          docLink.innerHTML = docLinkHtml;\n",
              "          element.appendChild(docLink);\n",
              "        }\n",
              "      </script>\n",
              "    </div>\n",
              "  </div>\n",
              "  "
            ]
          },
          "metadata": {},
          "execution_count": 53
        }
      ]
    },
    {
      "cell_type": "code",
      "source": [
        "\n",
        "#features = df_titanic_traim([ 'Name', 'Sex','Ticket','Embarked','age_group'])\n",
        "#\n",
        "features = df_titanic_traim\n",
        "features = features.drop(['Survived','Name', 'Sex','Ticket','Embarked','age_group','Pronouns'], axis = 1)\n",
        "target = df_titanic_traim['Survived']"
      ],
      "metadata": {
        "execution": {
          "iopub.status.busy": "2023-06-20T10:26:22.483564Z",
          "iopub.execute_input": "2023-06-20T10:26:22.484327Z",
          "iopub.status.idle": "2023-06-20T10:26:22.493404Z",
          "shell.execute_reply.started": "2023-06-20T10:26:22.484283Z",
          "shell.execute_reply": "2023-06-20T10:26:22.492062Z"
        },
        "trusted": true,
        "id": "t0LodwuJj6hZ"
      },
      "execution_count": 54,
      "outputs": []
    },
    {
      "cell_type": "code",
      "source": [
        "features.head()\n"
      ],
      "metadata": {
        "execution": {
          "iopub.status.busy": "2023-06-20T10:26:22.494577Z",
          "iopub.execute_input": "2023-06-20T10:26:22.494963Z",
          "iopub.status.idle": "2023-06-20T10:26:22.514658Z",
          "shell.execute_reply.started": "2023-06-20T10:26:22.494927Z",
          "shell.execute_reply": "2023-06-20T10:26:22.513283Z"
        },
        "trusted": true,
        "colab": {
          "base_uri": "https://localhost:8080/",
          "height": 206
        },
        "id": "RhtIHV6Tj6hZ",
        "outputId": "aa345979-03bf-4c3b-bd1e-d295e04dc3da"
      },
      "execution_count": 55,
      "outputs": [
        {
          "output_type": "execute_result",
          "data": {
            "text/plain": [
              "   PassengerId  Pclass   Age  SibSp  Parch     Fare  Sex_encoded  \\\n",
              "0            1       3  22.0      1      0   7.2500            1   \n",
              "1            2       1  38.0      1      0  57.8125            0   \n",
              "2            3       3  26.0      0      0   7.9250            0   \n",
              "3            4       1  35.0      1      0  53.1000            0   \n",
              "4            5       3  35.0      0      0   8.0500            1   \n",
              "\n",
              "   Embarked_encoded  Age_group_encoded  Pronouns_encoded  \n",
              "0                 2                  4                11  \n",
              "1                 0                  0                12  \n",
              "2                 2                  4                 8  \n",
              "3                 2                  0                12  \n",
              "4                 2                  0                11  "
            ],
            "text/html": [
              "\n",
              "  <div id=\"df-ac7f3ae6-39d4-4650-bd32-c1cce7873e4f\">\n",
              "    <div class=\"colab-df-container\">\n",
              "      <div>\n",
              "<style scoped>\n",
              "    .dataframe tbody tr th:only-of-type {\n",
              "        vertical-align: middle;\n",
              "    }\n",
              "\n",
              "    .dataframe tbody tr th {\n",
              "        vertical-align: top;\n",
              "    }\n",
              "\n",
              "    .dataframe thead th {\n",
              "        text-align: right;\n",
              "    }\n",
              "</style>\n",
              "<table border=\"1\" class=\"dataframe\">\n",
              "  <thead>\n",
              "    <tr style=\"text-align: right;\">\n",
              "      <th></th>\n",
              "      <th>PassengerId</th>\n",
              "      <th>Pclass</th>\n",
              "      <th>Age</th>\n",
              "      <th>SibSp</th>\n",
              "      <th>Parch</th>\n",
              "      <th>Fare</th>\n",
              "      <th>Sex_encoded</th>\n",
              "      <th>Embarked_encoded</th>\n",
              "      <th>Age_group_encoded</th>\n",
              "      <th>Pronouns_encoded</th>\n",
              "    </tr>\n",
              "  </thead>\n",
              "  <tbody>\n",
              "    <tr>\n",
              "      <th>0</th>\n",
              "      <td>1</td>\n",
              "      <td>3</td>\n",
              "      <td>22.0</td>\n",
              "      <td>1</td>\n",
              "      <td>0</td>\n",
              "      <td>7.2500</td>\n",
              "      <td>1</td>\n",
              "      <td>2</td>\n",
              "      <td>4</td>\n",
              "      <td>11</td>\n",
              "    </tr>\n",
              "    <tr>\n",
              "      <th>1</th>\n",
              "      <td>2</td>\n",
              "      <td>1</td>\n",
              "      <td>38.0</td>\n",
              "      <td>1</td>\n",
              "      <td>0</td>\n",
              "      <td>57.8125</td>\n",
              "      <td>0</td>\n",
              "      <td>0</td>\n",
              "      <td>0</td>\n",
              "      <td>12</td>\n",
              "    </tr>\n",
              "    <tr>\n",
              "      <th>2</th>\n",
              "      <td>3</td>\n",
              "      <td>3</td>\n",
              "      <td>26.0</td>\n",
              "      <td>0</td>\n",
              "      <td>0</td>\n",
              "      <td>7.9250</td>\n",
              "      <td>0</td>\n",
              "      <td>2</td>\n",
              "      <td>4</td>\n",
              "      <td>8</td>\n",
              "    </tr>\n",
              "    <tr>\n",
              "      <th>3</th>\n",
              "      <td>4</td>\n",
              "      <td>1</td>\n",
              "      <td>35.0</td>\n",
              "      <td>1</td>\n",
              "      <td>0</td>\n",
              "      <td>53.1000</td>\n",
              "      <td>0</td>\n",
              "      <td>2</td>\n",
              "      <td>0</td>\n",
              "      <td>12</td>\n",
              "    </tr>\n",
              "    <tr>\n",
              "      <th>4</th>\n",
              "      <td>5</td>\n",
              "      <td>3</td>\n",
              "      <td>35.0</td>\n",
              "      <td>0</td>\n",
              "      <td>0</td>\n",
              "      <td>8.0500</td>\n",
              "      <td>1</td>\n",
              "      <td>2</td>\n",
              "      <td>0</td>\n",
              "      <td>11</td>\n",
              "    </tr>\n",
              "  </tbody>\n",
              "</table>\n",
              "</div>\n",
              "      <button class=\"colab-df-convert\" onclick=\"convertToInteractive('df-ac7f3ae6-39d4-4650-bd32-c1cce7873e4f')\"\n",
              "              title=\"Convert this dataframe to an interactive table.\"\n",
              "              style=\"display:none;\">\n",
              "        \n",
              "  <svg xmlns=\"http://www.w3.org/2000/svg\" height=\"24px\"viewBox=\"0 0 24 24\"\n",
              "       width=\"24px\">\n",
              "    <path d=\"M0 0h24v24H0V0z\" fill=\"none\"/>\n",
              "    <path d=\"M18.56 5.44l.94 2.06.94-2.06 2.06-.94-2.06-.94-.94-2.06-.94 2.06-2.06.94zm-11 1L8.5 8.5l.94-2.06 2.06-.94-2.06-.94L8.5 2.5l-.94 2.06-2.06.94zm10 10l.94 2.06.94-2.06 2.06-.94-2.06-.94-.94-2.06-.94 2.06-2.06.94z\"/><path d=\"M17.41 7.96l-1.37-1.37c-.4-.4-.92-.59-1.43-.59-.52 0-1.04.2-1.43.59L10.3 9.45l-7.72 7.72c-.78.78-.78 2.05 0 2.83L4 21.41c.39.39.9.59 1.41.59.51 0 1.02-.2 1.41-.59l7.78-7.78 2.81-2.81c.8-.78.8-2.07 0-2.86zM5.41 20L4 18.59l7.72-7.72 1.47 1.35L5.41 20z\"/>\n",
              "  </svg>\n",
              "      </button>\n",
              "      \n",
              "  <style>\n",
              "    .colab-df-container {\n",
              "      display:flex;\n",
              "      flex-wrap:wrap;\n",
              "      gap: 12px;\n",
              "    }\n",
              "\n",
              "    .colab-df-convert {\n",
              "      background-color: #E8F0FE;\n",
              "      border: none;\n",
              "      border-radius: 50%;\n",
              "      cursor: pointer;\n",
              "      display: none;\n",
              "      fill: #1967D2;\n",
              "      height: 32px;\n",
              "      padding: 0 0 0 0;\n",
              "      width: 32px;\n",
              "    }\n",
              "\n",
              "    .colab-df-convert:hover {\n",
              "      background-color: #E2EBFA;\n",
              "      box-shadow: 0px 1px 2px rgba(60, 64, 67, 0.3), 0px 1px 3px 1px rgba(60, 64, 67, 0.15);\n",
              "      fill: #174EA6;\n",
              "    }\n",
              "\n",
              "    [theme=dark] .colab-df-convert {\n",
              "      background-color: #3B4455;\n",
              "      fill: #D2E3FC;\n",
              "    }\n",
              "\n",
              "    [theme=dark] .colab-df-convert:hover {\n",
              "      background-color: #434B5C;\n",
              "      box-shadow: 0px 1px 3px 1px rgba(0, 0, 0, 0.15);\n",
              "      filter: drop-shadow(0px 1px 2px rgba(0, 0, 0, 0.3));\n",
              "      fill: #FFFFFF;\n",
              "    }\n",
              "  </style>\n",
              "\n",
              "      <script>\n",
              "        const buttonEl =\n",
              "          document.querySelector('#df-ac7f3ae6-39d4-4650-bd32-c1cce7873e4f button.colab-df-convert');\n",
              "        buttonEl.style.display =\n",
              "          google.colab.kernel.accessAllowed ? 'block' : 'none';\n",
              "\n",
              "        async function convertToInteractive(key) {\n",
              "          const element = document.querySelector('#df-ac7f3ae6-39d4-4650-bd32-c1cce7873e4f');\n",
              "          const dataTable =\n",
              "            await google.colab.kernel.invokeFunction('convertToInteractive',\n",
              "                                                     [key], {});\n",
              "          if (!dataTable) return;\n",
              "\n",
              "          const docLinkHtml = 'Like what you see? Visit the ' +\n",
              "            '<a target=\"_blank\" href=https://colab.research.google.com/notebooks/data_table.ipynb>data table notebook</a>'\n",
              "            + ' to learn more about interactive tables.';\n",
              "          element.innerHTML = '';\n",
              "          dataTable['output_type'] = 'display_data';\n",
              "          await google.colab.output.renderOutput(dataTable, element);\n",
              "          const docLink = document.createElement('div');\n",
              "          docLink.innerHTML = docLinkHtml;\n",
              "          element.appendChild(docLink);\n",
              "        }\n",
              "      </script>\n",
              "    </div>\n",
              "  </div>\n",
              "  "
            ]
          },
          "metadata": {},
          "execution_count": 55
        }
      ]
    },
    {
      "cell_type": "markdown",
      "source": [
        "<a id='aplicando_logisicRegression'></a>\n",
        "# <font color=\"#FA7F08\">7. Criando modelo de machine learning (Regressão Logistica)</font>\n",
        "<hr color=\"#F5F5F5\" size=\"1\">"
      ],
      "metadata": {
        "id": "www9W0eFj6ha"
      }
    },
    {
      "cell_type": "code",
      "source": [
        "X_train, X_test, y_train, y_test = train_test_split(features, target, test_size=0.2, random_state=42)\n"
      ],
      "metadata": {
        "execution": {
          "iopub.status.busy": "2023-06-20T10:26:22.516750Z",
          "iopub.execute_input": "2023-06-20T10:26:22.517732Z",
          "iopub.status.idle": "2023-06-20T10:26:22.529501Z",
          "shell.execute_reply.started": "2023-06-20T10:26:22.517670Z",
          "shell.execute_reply": "2023-06-20T10:26:22.528200Z"
        },
        "trusted": true,
        "id": "ymyxJeprj6ha"
      },
      "execution_count": 56,
      "outputs": []
    },
    {
      "cell_type": "code",
      "source": [
        "model = LogisticRegression()\n"
      ],
      "metadata": {
        "execution": {
          "iopub.status.busy": "2023-06-20T10:26:22.531283Z",
          "iopub.execute_input": "2023-06-20T10:26:22.532263Z",
          "iopub.status.idle": "2023-06-20T10:26:22.541373Z",
          "shell.execute_reply.started": "2023-06-20T10:26:22.532146Z",
          "shell.execute_reply": "2023-06-20T10:26:22.539780Z"
        },
        "trusted": true,
        "id": "kI7vXQfcj6ha"
      },
      "execution_count": 57,
      "outputs": []
    },
    {
      "cell_type": "code",
      "source": [
        "model.fit(X_train, y_train)\n"
      ],
      "metadata": {
        "execution": {
          "iopub.status.busy": "2023-06-20T10:26:22.543228Z",
          "iopub.execute_input": "2023-06-20T10:26:22.543753Z",
          "iopub.status.idle": "2023-06-20T10:26:22.594527Z",
          "shell.execute_reply.started": "2023-06-20T10:26:22.543700Z",
          "shell.execute_reply": "2023-06-20T10:26:22.592668Z"
        },
        "trusted": true,
        "colab": {
          "base_uri": "https://localhost:8080/",
          "height": 214
        },
        "id": "thnNHQBij6hb",
        "outputId": "94dd32fc-7fb2-4b90-be94-55f9a6d96242"
      },
      "execution_count": 58,
      "outputs": [
        {
          "output_type": "stream",
          "name": "stderr",
          "text": [
            "/usr/local/lib/python3.10/dist-packages/sklearn/linear_model/_logistic.py:458: ConvergenceWarning: lbfgs failed to converge (status=1):\n",
            "STOP: TOTAL NO. of ITERATIONS REACHED LIMIT.\n",
            "\n",
            "Increase the number of iterations (max_iter) or scale the data as shown in:\n",
            "    https://scikit-learn.org/stable/modules/preprocessing.html\n",
            "Please also refer to the documentation for alternative solver options:\n",
            "    https://scikit-learn.org/stable/modules/linear_model.html#logistic-regression\n",
            "  n_iter_i = _check_optimize_result(\n"
          ]
        },
        {
          "output_type": "execute_result",
          "data": {
            "text/plain": [
              "LogisticRegression()"
            ],
            "text/html": [
              "<style>#sk-container-id-1 {color: black;background-color: white;}#sk-container-id-1 pre{padding: 0;}#sk-container-id-1 div.sk-toggleable {background-color: white;}#sk-container-id-1 label.sk-toggleable__label {cursor: pointer;display: block;width: 100%;margin-bottom: 0;padding: 0.3em;box-sizing: border-box;text-align: center;}#sk-container-id-1 label.sk-toggleable__label-arrow:before {content: \"▸\";float: left;margin-right: 0.25em;color: #696969;}#sk-container-id-1 label.sk-toggleable__label-arrow:hover:before {color: black;}#sk-container-id-1 div.sk-estimator:hover label.sk-toggleable__label-arrow:before {color: black;}#sk-container-id-1 div.sk-toggleable__content {max-height: 0;max-width: 0;overflow: hidden;text-align: left;background-color: #f0f8ff;}#sk-container-id-1 div.sk-toggleable__content pre {margin: 0.2em;color: black;border-radius: 0.25em;background-color: #f0f8ff;}#sk-container-id-1 input.sk-toggleable__control:checked~div.sk-toggleable__content {max-height: 200px;max-width: 100%;overflow: auto;}#sk-container-id-1 input.sk-toggleable__control:checked~label.sk-toggleable__label-arrow:before {content: \"▾\";}#sk-container-id-1 div.sk-estimator input.sk-toggleable__control:checked~label.sk-toggleable__label {background-color: #d4ebff;}#sk-container-id-1 div.sk-label input.sk-toggleable__control:checked~label.sk-toggleable__label {background-color: #d4ebff;}#sk-container-id-1 input.sk-hidden--visually {border: 0;clip: rect(1px 1px 1px 1px);clip: rect(1px, 1px, 1px, 1px);height: 1px;margin: -1px;overflow: hidden;padding: 0;position: absolute;width: 1px;}#sk-container-id-1 div.sk-estimator {font-family: monospace;background-color: #f0f8ff;border: 1px dotted black;border-radius: 0.25em;box-sizing: border-box;margin-bottom: 0.5em;}#sk-container-id-1 div.sk-estimator:hover {background-color: #d4ebff;}#sk-container-id-1 div.sk-parallel-item::after {content: \"\";width: 100%;border-bottom: 1px solid gray;flex-grow: 1;}#sk-container-id-1 div.sk-label:hover label.sk-toggleable__label {background-color: #d4ebff;}#sk-container-id-1 div.sk-serial::before {content: \"\";position: absolute;border-left: 1px solid gray;box-sizing: border-box;top: 0;bottom: 0;left: 50%;z-index: 0;}#sk-container-id-1 div.sk-serial {display: flex;flex-direction: column;align-items: center;background-color: white;padding-right: 0.2em;padding-left: 0.2em;position: relative;}#sk-container-id-1 div.sk-item {position: relative;z-index: 1;}#sk-container-id-1 div.sk-parallel {display: flex;align-items: stretch;justify-content: center;background-color: white;position: relative;}#sk-container-id-1 div.sk-item::before, #sk-container-id-1 div.sk-parallel-item::before {content: \"\";position: absolute;border-left: 1px solid gray;box-sizing: border-box;top: 0;bottom: 0;left: 50%;z-index: -1;}#sk-container-id-1 div.sk-parallel-item {display: flex;flex-direction: column;z-index: 1;position: relative;background-color: white;}#sk-container-id-1 div.sk-parallel-item:first-child::after {align-self: flex-end;width: 50%;}#sk-container-id-1 div.sk-parallel-item:last-child::after {align-self: flex-start;width: 50%;}#sk-container-id-1 div.sk-parallel-item:only-child::after {width: 0;}#sk-container-id-1 div.sk-dashed-wrapped {border: 1px dashed gray;margin: 0 0.4em 0.5em 0.4em;box-sizing: border-box;padding-bottom: 0.4em;background-color: white;}#sk-container-id-1 div.sk-label label {font-family: monospace;font-weight: bold;display: inline-block;line-height: 1.2em;}#sk-container-id-1 div.sk-label-container {text-align: center;}#sk-container-id-1 div.sk-container {/* jupyter's `normalize.less` sets `[hidden] { display: none; }` but bootstrap.min.css set `[hidden] { display: none !important; }` so we also need the `!important` here to be able to override the default hidden behavior on the sphinx rendered scikit-learn.org. See: https://github.com/scikit-learn/scikit-learn/issues/21755 */display: inline-block !important;position: relative;}#sk-container-id-1 div.sk-text-repr-fallback {display: none;}</style><div id=\"sk-container-id-1\" class=\"sk-top-container\"><div class=\"sk-text-repr-fallback\"><pre>LogisticRegression()</pre><b>In a Jupyter environment, please rerun this cell to show the HTML representation or trust the notebook. <br />On GitHub, the HTML representation is unable to render, please try loading this page with nbviewer.org.</b></div><div class=\"sk-container\" hidden><div class=\"sk-item\"><div class=\"sk-estimator sk-toggleable\"><input class=\"sk-toggleable__control sk-hidden--visually\" id=\"sk-estimator-id-1\" type=\"checkbox\" checked><label for=\"sk-estimator-id-1\" class=\"sk-toggleable__label sk-toggleable__label-arrow\">LogisticRegression</label><div class=\"sk-toggleable__content\"><pre>LogisticRegression()</pre></div></div></div></div></div>"
            ]
          },
          "metadata": {},
          "execution_count": 58
        }
      ]
    },
    {
      "cell_type": "code",
      "source": [
        "predictions = model.predict(X_test)\n"
      ],
      "metadata": {
        "execution": {
          "iopub.status.busy": "2023-06-20T10:26:22.596696Z",
          "iopub.execute_input": "2023-06-20T10:26:22.597141Z",
          "iopub.status.idle": "2023-06-20T10:26:22.605909Z",
          "shell.execute_reply.started": "2023-06-20T10:26:22.597099Z",
          "shell.execute_reply": "2023-06-20T10:26:22.604578Z"
        },
        "trusted": true,
        "id": "QSKs8Z8fj6hb"
      },
      "execution_count": 59,
      "outputs": []
    },
    {
      "cell_type": "code",
      "source": [
        "accuracy = accuracy_score(y_test, predictions)\n",
        "print(\"Acurácia do modelo: {:.2f}\".format(accuracy))\n"
      ],
      "metadata": {
        "execution": {
          "iopub.status.busy": "2023-06-20T10:26:22.607650Z",
          "iopub.execute_input": "2023-06-20T10:26:22.608074Z",
          "iopub.status.idle": "2023-06-20T10:26:22.623720Z",
          "shell.execute_reply.started": "2023-06-20T10:26:22.608033Z",
          "shell.execute_reply": "2023-06-20T10:26:22.622290Z"
        },
        "trusted": true,
        "colab": {
          "base_uri": "https://localhost:8080/"
        },
        "id": "---vQ102j6hb",
        "outputId": "f830448d-84a9-4266-eda0-89896a0862d6"
      },
      "execution_count": 60,
      "outputs": [
        {
          "output_type": "stream",
          "name": "stdout",
          "text": [
            "Acurácia do modelo: 0.79\n"
          ]
        }
      ]
    },
    {
      "cell_type": "markdown",
      "source": [
        "## Aplicando todas a alterações no cojunto de dados test"
      ],
      "metadata": {
        "id": "rcT1XNNUj6hc"
      }
    },
    {
      "cell_type": "code",
      "source": [
        "missing_values.drop_duplicates(df_titanic_test)\n",
        "#--\n",
        "df_titanic_test.drop(['Cabin'], axis=1, inplace=True)\n",
        "#--\n",
        "q3 = df_titanic_test['Age'].quantile(0.75)\n",
        "q1 = df_titanic_test['Age'].quantile(0.25)\n",
        "\n",
        "iqr = q3-q1\n",
        "\n",
        "limite_max = q3+(1.5*iqr)\n",
        "#--\n",
        "df_titanic_test.loc[df_titanic_test['Age'] > limite_max, 'Age'] = limite_max\n",
        "missing_values.fix_missing_median(df_titanic_test, \"Age\")\n",
        "#missing_values.drop_rows_with_missing_values(df_titanic_test)\n",
        "\n",
        "#--\n",
        "q3_Fare = df_titanic_test['Fare'].quantile(0.75)\n",
        "q1_Fare = df_titanic_test['Fare'].quantile(0.25)\n",
        "\n",
        "iqr_Fare = q3-q1\n",
        "\n",
        "limite_max_Fare = q3_Fare+(1.5*iqr_Fare)\n",
        "\n",
        "df_titanic_test.loc[df_titanic_test['Fare'] > limite_max_Fare, 'Fare'] = limite_max_Fare\n",
        "missing_values.fix_missing_median(df_titanic_test, \"Fare\")\n",
        "\n",
        "df_titanic_test['Pronouns'] = df_titanic_test['Name'].apply(extrair_titulo)\n",
        "\n",
        "#--\n",
        "df_titanic_test['age_group'] = pd.cut(df_titanic_test['Age'], bins=age_bins, labels=age_labels)\n",
        "\n",
        "#--\n",
        "\n",
        "df_titanic_test['Sex_encoded'] = label_encoder.fit_transform(df_titanic_test['Sex'])\n",
        "df_titanic_test['Embarked_encoded'] = label_encoder.fit_transform(df_titanic_test['Embarked'])\n",
        "df_titanic_test['Age_group_encoded'] = label_encoder.fit_transform(df_titanic_test['age_group'])\n",
        "df_titanic_test['Pronouns_encoded'] = label_encoder.fit_transform(df_titanic_test['Pronouns'])"
      ],
      "metadata": {
        "execution": {
          "iopub.status.busy": "2023-06-20T10:26:22.625878Z",
          "iopub.execute_input": "2023-06-20T10:26:22.626348Z",
          "iopub.status.idle": "2023-06-20T10:26:22.665718Z",
          "shell.execute_reply.started": "2023-06-20T10:26:22.626306Z",
          "shell.execute_reply": "2023-06-20T10:26:22.663509Z"
        },
        "trusted": true,
        "colab": {
          "base_uri": "https://localhost:8080/"
        },
        "id": "-2-7nbXqj6hc",
        "outputId": "a82c4bfe-395f-41e2-eb96-c00efb03e64a"
      },
      "execution_count": 61,
      "outputs": [
        {
          "output_type": "stream",
          "name": "stdout",
          "text": [
            "Nenhuma linha duplicada foi encontrada.\n",
            "86 valores ausentes na coluna Age foram substituídos por seu valor de mediana 27.0.\n",
            "1 valores ausentes na coluna Fare foram substituídos por seu valor de mediana 14.4542.\n"
          ]
        }
      ]
    },
    {
      "cell_type": "code",
      "source": [
        "features_df_test = df_titanic_test.drop(['Name', 'Sex','Ticket','Embarked','age_group','Pronouns'], axis = 1)"
      ],
      "metadata": {
        "execution": {
          "iopub.status.busy": "2023-06-20T10:26:22.666931Z",
          "iopub.execute_input": "2023-06-20T10:26:22.667431Z",
          "iopub.status.idle": "2023-06-20T10:26:22.677165Z",
          "shell.execute_reply.started": "2023-06-20T10:26:22.667344Z",
          "shell.execute_reply": "2023-06-20T10:26:22.675696Z"
        },
        "trusted": true,
        "id": "i_yPulNPj6hd"
      },
      "execution_count": 62,
      "outputs": []
    },
    {
      "cell_type": "code",
      "source": [
        "features_df_test.head()"
      ],
      "metadata": {
        "execution": {
          "iopub.status.busy": "2023-06-20T10:26:22.679071Z",
          "iopub.execute_input": "2023-06-20T10:26:22.679905Z",
          "iopub.status.idle": "2023-06-20T10:26:22.699774Z",
          "shell.execute_reply.started": "2023-06-20T10:26:22.679849Z",
          "shell.execute_reply": "2023-06-20T10:26:22.698302Z"
        },
        "trusted": true,
        "colab": {
          "base_uri": "https://localhost:8080/",
          "height": 206
        },
        "id": "pne9z6Isj6hd",
        "outputId": "6978c697-48b0-4b02-c6a9-7b9179e77de1"
      },
      "execution_count": 63,
      "outputs": [
        {
          "output_type": "execute_result",
          "data": {
            "text/plain": [
              "   PassengerId  Pclass   Age  SibSp  Parch     Fare  Sex_encoded  \\\n",
              "0          892       3  34.5      0      0   7.8292            1   \n",
              "1          893       3  47.0      1      0   7.0000            0   \n",
              "2          894       2  62.0      0      0   9.6875            1   \n",
              "3          895       3  27.0      0      0   8.6625            1   \n",
              "4          896       3  22.0      1      1  12.2875            0   \n",
              "\n",
              "   Embarked_encoded  Age_group_encoded  Pronouns_encoded  \n",
              "0                 1                  0                 5  \n",
              "1                 2                  0                 6  \n",
              "2                 1                  2                 5  \n",
              "3                 2                  4                 5  \n",
              "4                 2                  4                 6  "
            ],
            "text/html": [
              "\n",
              "  <div id=\"df-33fc35d3-2bd5-4d9f-be9a-4a484f668407\">\n",
              "    <div class=\"colab-df-container\">\n",
              "      <div>\n",
              "<style scoped>\n",
              "    .dataframe tbody tr th:only-of-type {\n",
              "        vertical-align: middle;\n",
              "    }\n",
              "\n",
              "    .dataframe tbody tr th {\n",
              "        vertical-align: top;\n",
              "    }\n",
              "\n",
              "    .dataframe thead th {\n",
              "        text-align: right;\n",
              "    }\n",
              "</style>\n",
              "<table border=\"1\" class=\"dataframe\">\n",
              "  <thead>\n",
              "    <tr style=\"text-align: right;\">\n",
              "      <th></th>\n",
              "      <th>PassengerId</th>\n",
              "      <th>Pclass</th>\n",
              "      <th>Age</th>\n",
              "      <th>SibSp</th>\n",
              "      <th>Parch</th>\n",
              "      <th>Fare</th>\n",
              "      <th>Sex_encoded</th>\n",
              "      <th>Embarked_encoded</th>\n",
              "      <th>Age_group_encoded</th>\n",
              "      <th>Pronouns_encoded</th>\n",
              "    </tr>\n",
              "  </thead>\n",
              "  <tbody>\n",
              "    <tr>\n",
              "      <th>0</th>\n",
              "      <td>892</td>\n",
              "      <td>3</td>\n",
              "      <td>34.5</td>\n",
              "      <td>0</td>\n",
              "      <td>0</td>\n",
              "      <td>7.8292</td>\n",
              "      <td>1</td>\n",
              "      <td>1</td>\n",
              "      <td>0</td>\n",
              "      <td>5</td>\n",
              "    </tr>\n",
              "    <tr>\n",
              "      <th>1</th>\n",
              "      <td>893</td>\n",
              "      <td>3</td>\n",
              "      <td>47.0</td>\n",
              "      <td>1</td>\n",
              "      <td>0</td>\n",
              "      <td>7.0000</td>\n",
              "      <td>0</td>\n",
              "      <td>2</td>\n",
              "      <td>0</td>\n",
              "      <td>6</td>\n",
              "    </tr>\n",
              "    <tr>\n",
              "      <th>2</th>\n",
              "      <td>894</td>\n",
              "      <td>2</td>\n",
              "      <td>62.0</td>\n",
              "      <td>0</td>\n",
              "      <td>0</td>\n",
              "      <td>9.6875</td>\n",
              "      <td>1</td>\n",
              "      <td>1</td>\n",
              "      <td>2</td>\n",
              "      <td>5</td>\n",
              "    </tr>\n",
              "    <tr>\n",
              "      <th>3</th>\n",
              "      <td>895</td>\n",
              "      <td>3</td>\n",
              "      <td>27.0</td>\n",
              "      <td>0</td>\n",
              "      <td>0</td>\n",
              "      <td>8.6625</td>\n",
              "      <td>1</td>\n",
              "      <td>2</td>\n",
              "      <td>4</td>\n",
              "      <td>5</td>\n",
              "    </tr>\n",
              "    <tr>\n",
              "      <th>4</th>\n",
              "      <td>896</td>\n",
              "      <td>3</td>\n",
              "      <td>22.0</td>\n",
              "      <td>1</td>\n",
              "      <td>1</td>\n",
              "      <td>12.2875</td>\n",
              "      <td>0</td>\n",
              "      <td>2</td>\n",
              "      <td>4</td>\n",
              "      <td>6</td>\n",
              "    </tr>\n",
              "  </tbody>\n",
              "</table>\n",
              "</div>\n",
              "      <button class=\"colab-df-convert\" onclick=\"convertToInteractive('df-33fc35d3-2bd5-4d9f-be9a-4a484f668407')\"\n",
              "              title=\"Convert this dataframe to an interactive table.\"\n",
              "              style=\"display:none;\">\n",
              "        \n",
              "  <svg xmlns=\"http://www.w3.org/2000/svg\" height=\"24px\"viewBox=\"0 0 24 24\"\n",
              "       width=\"24px\">\n",
              "    <path d=\"M0 0h24v24H0V0z\" fill=\"none\"/>\n",
              "    <path d=\"M18.56 5.44l.94 2.06.94-2.06 2.06-.94-2.06-.94-.94-2.06-.94 2.06-2.06.94zm-11 1L8.5 8.5l.94-2.06 2.06-.94-2.06-.94L8.5 2.5l-.94 2.06-2.06.94zm10 10l.94 2.06.94-2.06 2.06-.94-2.06-.94-.94-2.06-.94 2.06-2.06.94z\"/><path d=\"M17.41 7.96l-1.37-1.37c-.4-.4-.92-.59-1.43-.59-.52 0-1.04.2-1.43.59L10.3 9.45l-7.72 7.72c-.78.78-.78 2.05 0 2.83L4 21.41c.39.39.9.59 1.41.59.51 0 1.02-.2 1.41-.59l7.78-7.78 2.81-2.81c.8-.78.8-2.07 0-2.86zM5.41 20L4 18.59l7.72-7.72 1.47 1.35L5.41 20z\"/>\n",
              "  </svg>\n",
              "      </button>\n",
              "      \n",
              "  <style>\n",
              "    .colab-df-container {\n",
              "      display:flex;\n",
              "      flex-wrap:wrap;\n",
              "      gap: 12px;\n",
              "    }\n",
              "\n",
              "    .colab-df-convert {\n",
              "      background-color: #E8F0FE;\n",
              "      border: none;\n",
              "      border-radius: 50%;\n",
              "      cursor: pointer;\n",
              "      display: none;\n",
              "      fill: #1967D2;\n",
              "      height: 32px;\n",
              "      padding: 0 0 0 0;\n",
              "      width: 32px;\n",
              "    }\n",
              "\n",
              "    .colab-df-convert:hover {\n",
              "      background-color: #E2EBFA;\n",
              "      box-shadow: 0px 1px 2px rgba(60, 64, 67, 0.3), 0px 1px 3px 1px rgba(60, 64, 67, 0.15);\n",
              "      fill: #174EA6;\n",
              "    }\n",
              "\n",
              "    [theme=dark] .colab-df-convert {\n",
              "      background-color: #3B4455;\n",
              "      fill: #D2E3FC;\n",
              "    }\n",
              "\n",
              "    [theme=dark] .colab-df-convert:hover {\n",
              "      background-color: #434B5C;\n",
              "      box-shadow: 0px 1px 3px 1px rgba(0, 0, 0, 0.15);\n",
              "      filter: drop-shadow(0px 1px 2px rgba(0, 0, 0, 0.3));\n",
              "      fill: #FFFFFF;\n",
              "    }\n",
              "  </style>\n",
              "\n",
              "      <script>\n",
              "        const buttonEl =\n",
              "          document.querySelector('#df-33fc35d3-2bd5-4d9f-be9a-4a484f668407 button.colab-df-convert');\n",
              "        buttonEl.style.display =\n",
              "          google.colab.kernel.accessAllowed ? 'block' : 'none';\n",
              "\n",
              "        async function convertToInteractive(key) {\n",
              "          const element = document.querySelector('#df-33fc35d3-2bd5-4d9f-be9a-4a484f668407');\n",
              "          const dataTable =\n",
              "            await google.colab.kernel.invokeFunction('convertToInteractive',\n",
              "                                                     [key], {});\n",
              "          if (!dataTable) return;\n",
              "\n",
              "          const docLinkHtml = 'Like what you see? Visit the ' +\n",
              "            '<a target=\"_blank\" href=https://colab.research.google.com/notebooks/data_table.ipynb>data table notebook</a>'\n",
              "            + ' to learn more about interactive tables.';\n",
              "          element.innerHTML = '';\n",
              "          dataTable['output_type'] = 'display_data';\n",
              "          await google.colab.output.renderOutput(dataTable, element);\n",
              "          const docLink = document.createElement('div');\n",
              "          docLink.innerHTML = docLinkHtml;\n",
              "          element.appendChild(docLink);\n",
              "        }\n",
              "      </script>\n",
              "    </div>\n",
              "  </div>\n",
              "  "
            ]
          },
          "metadata": {},
          "execution_count": 63
        }
      ]
    },
    {
      "cell_type": "code",
      "source": [
        "features_df_test.shape"
      ],
      "metadata": {
        "execution": {
          "iopub.status.busy": "2023-06-20T10:26:22.701242Z",
          "iopub.execute_input": "2023-06-20T10:26:22.701646Z",
          "iopub.status.idle": "2023-06-20T10:26:22.710236Z",
          "shell.execute_reply.started": "2023-06-20T10:26:22.701607Z",
          "shell.execute_reply": "2023-06-20T10:26:22.708831Z"
        },
        "trusted": true,
        "colab": {
          "base_uri": "https://localhost:8080/"
        },
        "id": "NdJvUYxgj6hd",
        "outputId": "3c8f549a-0bbd-4707-eda7-28022bb9b946"
      },
      "execution_count": 64,
      "outputs": [
        {
          "output_type": "execute_result",
          "data": {
            "text/plain": [
              "(418, 10)"
            ]
          },
          "metadata": {},
          "execution_count": 64
        }
      ]
    },
    {
      "cell_type": "code",
      "source": [
        "\n",
        "missing_values.func_calc_percentual_valores_ausentes_coluna(features_df_test)\n",
        "print(\"----\")\n",
        "missing_values.func_calc_percentual_valores_ausentes_linha(features_df_test)"
      ],
      "metadata": {
        "execution": {
          "iopub.status.busy": "2023-06-20T10:26:22.711925Z",
          "iopub.execute_input": "2023-06-20T10:26:22.712472Z",
          "iopub.status.idle": "2023-06-20T10:26:22.779405Z",
          "shell.execute_reply.started": "2023-06-20T10:26:22.712420Z",
          "shell.execute_reply": "2023-06-20T10:26:22.777441Z"
        },
        "trusted": true,
        "colab": {
          "base_uri": "https://localhost:8080/"
        },
        "id": "JvcLRgAdj6he",
        "outputId": "5d9b7b19-9f31-4c27-c9b9-492bafa080fd"
      },
      "execution_count": 65,
      "outputs": [
        {
          "output_type": "stream",
          "name": "stdout",
          "text": [
            "O dataset tem 10 colunas.\n",
            "Encontrado: 0 colunas que têm valores ausentes.\n",
            "----\n",
            "0.0 % das linhas no conjunto de dados contêm pelo menos um valor ausente.\n"
          ]
        }
      ]
    },
    {
      "cell_type": "markdown",
      "source": [
        "<a id='submission'></a>\n",
        "# <font color=\"#FA7F08\">8. Realizando submissão do projeto</font>\n",
        "<hr color=\"#F5F5F5\" size=\"1\">"
      ],
      "metadata": {
        "id": "Dn7pMpS1j6he"
      }
    },
    {
      "cell_type": "code",
      "source": [
        "\n",
        "submission=pd.read_csv('/content/gender_submission.csv')\n",
        "submission.head()"
      ],
      "metadata": {
        "execution": {
          "iopub.status.busy": "2023-06-20T10:26:22.781534Z",
          "iopub.execute_input": "2023-06-20T10:26:22.782184Z",
          "iopub.status.idle": "2023-06-20T10:26:22.803605Z",
          "shell.execute_reply.started": "2023-06-20T10:26:22.782112Z",
          "shell.execute_reply": "2023-06-20T10:26:22.802290Z"
        },
        "trusted": true,
        "colab": {
          "base_uri": "https://localhost:8080/",
          "height": 206
        },
        "id": "fILOXV-Yj6he",
        "outputId": "37576607-b276-44f0-99ff-cd0e97b1049e"
      },
      "execution_count": 66,
      "outputs": [
        {
          "output_type": "execute_result",
          "data": {
            "text/plain": [
              "   PassengerId  Survived\n",
              "0          892         0\n",
              "1          893         1\n",
              "2          894         0\n",
              "3          895         0\n",
              "4          896         1"
            ],
            "text/html": [
              "\n",
              "  <div id=\"df-463c1016-9ec0-4c52-84d6-85e2c07d1695\">\n",
              "    <div class=\"colab-df-container\">\n",
              "      <div>\n",
              "<style scoped>\n",
              "    .dataframe tbody tr th:only-of-type {\n",
              "        vertical-align: middle;\n",
              "    }\n",
              "\n",
              "    .dataframe tbody tr th {\n",
              "        vertical-align: top;\n",
              "    }\n",
              "\n",
              "    .dataframe thead th {\n",
              "        text-align: right;\n",
              "    }\n",
              "</style>\n",
              "<table border=\"1\" class=\"dataframe\">\n",
              "  <thead>\n",
              "    <tr style=\"text-align: right;\">\n",
              "      <th></th>\n",
              "      <th>PassengerId</th>\n",
              "      <th>Survived</th>\n",
              "    </tr>\n",
              "  </thead>\n",
              "  <tbody>\n",
              "    <tr>\n",
              "      <th>0</th>\n",
              "      <td>892</td>\n",
              "      <td>0</td>\n",
              "    </tr>\n",
              "    <tr>\n",
              "      <th>1</th>\n",
              "      <td>893</td>\n",
              "      <td>1</td>\n",
              "    </tr>\n",
              "    <tr>\n",
              "      <th>2</th>\n",
              "      <td>894</td>\n",
              "      <td>0</td>\n",
              "    </tr>\n",
              "    <tr>\n",
              "      <th>3</th>\n",
              "      <td>895</td>\n",
              "      <td>0</td>\n",
              "    </tr>\n",
              "    <tr>\n",
              "      <th>4</th>\n",
              "      <td>896</td>\n",
              "      <td>1</td>\n",
              "    </tr>\n",
              "  </tbody>\n",
              "</table>\n",
              "</div>\n",
              "      <button class=\"colab-df-convert\" onclick=\"convertToInteractive('df-463c1016-9ec0-4c52-84d6-85e2c07d1695')\"\n",
              "              title=\"Convert this dataframe to an interactive table.\"\n",
              "              style=\"display:none;\">\n",
              "        \n",
              "  <svg xmlns=\"http://www.w3.org/2000/svg\" height=\"24px\"viewBox=\"0 0 24 24\"\n",
              "       width=\"24px\">\n",
              "    <path d=\"M0 0h24v24H0V0z\" fill=\"none\"/>\n",
              "    <path d=\"M18.56 5.44l.94 2.06.94-2.06 2.06-.94-2.06-.94-.94-2.06-.94 2.06-2.06.94zm-11 1L8.5 8.5l.94-2.06 2.06-.94-2.06-.94L8.5 2.5l-.94 2.06-2.06.94zm10 10l.94 2.06.94-2.06 2.06-.94-2.06-.94-.94-2.06-.94 2.06-2.06.94z\"/><path d=\"M17.41 7.96l-1.37-1.37c-.4-.4-.92-.59-1.43-.59-.52 0-1.04.2-1.43.59L10.3 9.45l-7.72 7.72c-.78.78-.78 2.05 0 2.83L4 21.41c.39.39.9.59 1.41.59.51 0 1.02-.2 1.41-.59l7.78-7.78 2.81-2.81c.8-.78.8-2.07 0-2.86zM5.41 20L4 18.59l7.72-7.72 1.47 1.35L5.41 20z\"/>\n",
              "  </svg>\n",
              "      </button>\n",
              "      \n",
              "  <style>\n",
              "    .colab-df-container {\n",
              "      display:flex;\n",
              "      flex-wrap:wrap;\n",
              "      gap: 12px;\n",
              "    }\n",
              "\n",
              "    .colab-df-convert {\n",
              "      background-color: #E8F0FE;\n",
              "      border: none;\n",
              "      border-radius: 50%;\n",
              "      cursor: pointer;\n",
              "      display: none;\n",
              "      fill: #1967D2;\n",
              "      height: 32px;\n",
              "      padding: 0 0 0 0;\n",
              "      width: 32px;\n",
              "    }\n",
              "\n",
              "    .colab-df-convert:hover {\n",
              "      background-color: #E2EBFA;\n",
              "      box-shadow: 0px 1px 2px rgba(60, 64, 67, 0.3), 0px 1px 3px 1px rgba(60, 64, 67, 0.15);\n",
              "      fill: #174EA6;\n",
              "    }\n",
              "\n",
              "    [theme=dark] .colab-df-convert {\n",
              "      background-color: #3B4455;\n",
              "      fill: #D2E3FC;\n",
              "    }\n",
              "\n",
              "    [theme=dark] .colab-df-convert:hover {\n",
              "      background-color: #434B5C;\n",
              "      box-shadow: 0px 1px 3px 1px rgba(0, 0, 0, 0.15);\n",
              "      filter: drop-shadow(0px 1px 2px rgba(0, 0, 0, 0.3));\n",
              "      fill: #FFFFFF;\n",
              "    }\n",
              "  </style>\n",
              "\n",
              "      <script>\n",
              "        const buttonEl =\n",
              "          document.querySelector('#df-463c1016-9ec0-4c52-84d6-85e2c07d1695 button.colab-df-convert');\n",
              "        buttonEl.style.display =\n",
              "          google.colab.kernel.accessAllowed ? 'block' : 'none';\n",
              "\n",
              "        async function convertToInteractive(key) {\n",
              "          const element = document.querySelector('#df-463c1016-9ec0-4c52-84d6-85e2c07d1695');\n",
              "          const dataTable =\n",
              "            await google.colab.kernel.invokeFunction('convertToInteractive',\n",
              "                                                     [key], {});\n",
              "          if (!dataTable) return;\n",
              "\n",
              "          const docLinkHtml = 'Like what you see? Visit the ' +\n",
              "            '<a target=\"_blank\" href=https://colab.research.google.com/notebooks/data_table.ipynb>data table notebook</a>'\n",
              "            + ' to learn more about interactive tables.';\n",
              "          element.innerHTML = '';\n",
              "          dataTable['output_type'] = 'display_data';\n",
              "          await google.colab.output.renderOutput(dataTable, element);\n",
              "          const docLink = document.createElement('div');\n",
              "          docLink.innerHTML = docLinkHtml;\n",
              "          element.appendChild(docLink);\n",
              "        }\n",
              "      </script>\n",
              "    </div>\n",
              "  </div>\n",
              "  "
            ]
          },
          "metadata": {},
          "execution_count": 66
        }
      ]
    },
    {
      "cell_type": "code",
      "source": [
        "submission.shape"
      ],
      "metadata": {
        "execution": {
          "iopub.status.busy": "2023-06-20T10:26:22.806413Z",
          "iopub.execute_input": "2023-06-20T10:26:22.806891Z",
          "iopub.status.idle": "2023-06-20T10:26:22.814394Z",
          "shell.execute_reply.started": "2023-06-20T10:26:22.806827Z",
          "shell.execute_reply": "2023-06-20T10:26:22.813055Z"
        },
        "trusted": true,
        "colab": {
          "base_uri": "https://localhost:8080/"
        },
        "id": "XkHsvkwWj6hf",
        "outputId": "db4701b4-3bdd-4a0f-86e2-b33e524e2555"
      },
      "execution_count": 67,
      "outputs": [
        {
          "output_type": "execute_result",
          "data": {
            "text/plain": [
              "(418, 2)"
            ]
          },
          "metadata": {},
          "execution_count": 67
        }
      ]
    },
    {
      "cell_type": "code",
      "source": [
        "# Fazer previsões no conjunto de teste\n",
        "result = model.predict(features_df_test)\n",
        "\n",
        "# Converter as previsões para o tipo inteiro\n",
        "result = result.astype(int)\n",
        "\n",
        "# Atribuir as previsões à coluna 'Survived' do DataFrame 'submission'\n",
        "submission['Survived'] = result\n",
        "\n",
        "# Exibir as primeiras linhas do DataFrame 'submission'\n",
        "print(submission.head(20))\n"
      ],
      "metadata": {
        "execution": {
          "iopub.status.busy": "2023-06-20T10:26:22.816454Z",
          "iopub.execute_input": "2023-06-20T10:26:22.817624Z",
          "iopub.status.idle": "2023-06-20T10:26:22.832539Z",
          "shell.execute_reply.started": "2023-06-20T10:26:22.817564Z",
          "shell.execute_reply": "2023-06-20T10:26:22.831035Z"
        },
        "trusted": true,
        "colab": {
          "base_uri": "https://localhost:8080/"
        },
        "id": "GFj8jwjqj6hf",
        "outputId": "016bf19e-5ab7-4137-b877-5606edadf78f"
      },
      "execution_count": 68,
      "outputs": [
        {
          "output_type": "stream",
          "name": "stdout",
          "text": [
            "    PassengerId  Survived\n",
            "0           892         0\n",
            "1           893         0\n",
            "2           894         0\n",
            "3           895         0\n",
            "4           896         1\n",
            "5           897         0\n",
            "6           898         1\n",
            "7           899         0\n",
            "8           900         1\n",
            "9           901         0\n",
            "10          902         0\n",
            "11          903         0\n",
            "12          904         1\n",
            "13          905         0\n",
            "14          906         1\n",
            "15          907         1\n",
            "16          908         0\n",
            "17          909         0\n",
            "18          910         0\n",
            "19          911         1\n"
          ]
        }
      ]
    },
    {
      "cell_type": "code",
      "source": [
        "submission.to_csv('/content/submission.csv',index=False)"
      ],
      "metadata": {
        "execution": {
          "iopub.status.busy": "2023-06-20T10:26:22.834931Z",
          "iopub.execute_input": "2023-06-20T10:26:22.835983Z",
          "iopub.status.idle": "2023-06-20T10:26:22.853186Z",
          "shell.execute_reply.started": "2023-06-20T10:26:22.835920Z",
          "shell.execute_reply": "2023-06-20T10:26:22.851627Z"
        },
        "trusted": true,
        "id": "O-0XwsChj6hf"
      },
      "execution_count": 70,
      "outputs": []
    },
    {
      "cell_type": "markdown",
      "source": [
        "<a id='relatorio'></a>\n",
        "# <font color=\"#FA7F08\">9. Relatório</font>\n",
        "<hr color=\"#F5F5F5\" size=\"1\">"
      ],
      "metadata": {
        "id": "W1mD3VmFj6hf"
      }
    },
    {
      "cell_type": "markdown",
      "source": [
        "<div class=\"alert alert-info\">\n",
        "<div style=\"color: rgb(0, 0, 0);\"> <h3><strong> 📄Relatório de Análise de Dados</strong></h3></div> <br>\n",
        "\n",
        " <div style=\"color: rgb(0, 0, 0);\"> <h4><strong> Resumo da Limpeza de Dados:</strong></h4>\n",
        "\n",
        "<p>Verificou-se a presença de possíveis valores duplicados nos dados, os quais foram tratados para evitar distorções.\n",
        "A coluna \"Cabin\" foi excluída do conjunto de dados devido à alta porcentagem de valores ausentes (70,10%), o que indica uma falta significativa de informações.\n",
        "Realizou-se o tratamento de outliers na coluna \"Age\" e a imputação de valores ausentes foi feita utilizando a mediana.\n",
        "Duas linhas do conjunto de dados foram excluídas, representando 0,22% das informações totais, devido a inconsistências ou falta de informações relevantes.\n",
        "Também foi realizado o tratamento de outliers na coluna \"Fare\".</p>\n",
        "</div>\n",
        "\n",
        "\n",
        " <div style=\"color: rgb(0, 0, 0);\"> <h4><strong> Resumo da Análise Exploratória (EDA):</strong></h4>\n",
        "\n",
        "<p>Observou-se que o número de não sobreviventes do sexo masculino é consideravelmente maior do que o número de não sobreviventes do sexo feminino.\n",
        "Passageiros da classe 3 e aqueles que embarcaram na estação \"S\" apresentaram uma alta taxa de não sobrevivência.\n",
        "Ao cruzar os dados de sexo, idade e sobrevivência, é perceptível que as mulheres de todas as idades e as crianças do sexo masculino tiveram uma taxa de sobrevivência significativamente maior.\n",
        "Analisando o número de irmãos/cônjuges a bordo, observou-se que crianças com 0, 1 ou no máximo 2 irmãos sobreviveram. Para maiores de 15 anos, não foi possível identificar uma relação clara entre o número de irmãos/cônjuges e a sobrevivência.\n",
        "Não foi identificada uma correlação visual entre o número de pais/filhos a bordo e os sobreviventes.</p>\n",
        "</div>\n",
        "\n",
        "<div style=\"color: rgb(0, 0, 0);\"> <h4><strong>Resultados do Modelo de Machine Learning:</strong></h4>\n",
        "\n",
        "<p>A acurácia do modelo foi de 78%, indicando uma boa capacidade de previsão.\n",
        "O modelo foi submetido à competição \"Titanic - Machine Learning from Disaster\", obtendo uma pontuação de 0.74162 (versão 11) como a melhor até o momento.</p>\n",
        "</div>\n",
        "\n",
        "\n",
        "<div style=\"color: rgb(0, 0, 0);\"> <h4><strong>Conclusão:</strong></h4>\n",
        "<p>Com base na análise dos dados e na aplicação de técnicas de limpeza, análise exploratória e machine learning, foram identificados padrões e insights relevantes sobre os passageiros do Titanic. Os resultados obtidos mostram a importância de fatores como sexo, classe, idade e número de irmãos/cônjuges a bordo na probabilidade de sobrevivência. O modelo de machine learning aplicado demonstrou um desempenho satisfatório na previsão de sobreviventes.</p>\n",
        "</div>"
      ],
      "metadata": {
        "id": "VPBjfk_Pj6hg"
      }
    }
  ]
}